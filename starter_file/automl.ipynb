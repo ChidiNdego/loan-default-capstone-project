{
 "cells": [
  {
   "cell_type": "markdown",
   "metadata": {},
   "source": [
    "# Automated ML\n",
    "\n",
    "Import dependencies."
   ]
  },
  {
   "cell_type": "code",
   "execution_count": 1,
   "metadata": {
    "gather": {
     "logged": 1598423888013
    },
    "jupyter": {
     "outputs_hidden": false,
     "source_hidden": false
    },
    "nteract": {
     "transient": {
      "deleting": false
     }
    }
   },
   "outputs": [
    {
     "name": "stdout",
     "output_type": "stream",
     "text": [
      "SDK version: 1.20.0\n"
     ]
    }
   ],
   "source": [
    "from azureml.core import Workspace, Experiment\n",
    "from azureml.core.compute import ComputeTarget, AmlCompute\n",
    "from azureml.core.compute_target import ComputeTargetException\n",
    "\n",
    "from azureml.data.dataset_factory import TabularDatasetFactory\n",
    "from azureml.train.automl import AutoMLConfig\n",
    "from azureml.widgets import RunDetails\n",
    "\n",
    "from pprint import pprint\n",
    "from azureml.core import Model\n",
    "from train import clean\n",
    "from sklearn.model_selection import train_test_split\n",
    "\n",
    "from azureml.core.model import InferenceConfig\n",
    "from azureml.core.environment import Environment\n",
    "from azureml.core.webservice import AciWebservice\n",
    "\n",
    "from azureml.automl.runtime.onnx_convert import OnnxConverter\n",
    "from azureml.automl.core.onnx_convert import OnnxConvertConstants\n",
    "from azureml.train.automl import constants\n",
    "\n",
    "import pandas as pd\n",
    "import azureml\n",
    "import requests\n",
    "import joblib\n",
    "import json\n",
    "import sys\n",
    "import os\n",
    "\n",
    "# Check core SDK version number\n",
    "print(\"SDK version:\", azureml.core.VERSION)"
   ]
  },
  {
   "cell_type": "markdown",
   "metadata": {},
   "source": [
    "### Workspace and compute cluster configuration"
   ]
  },
  {
   "cell_type": "code",
   "execution_count": 2,
   "metadata": {
    "gather": {
     "logged": 1598423890461
    },
    "jupyter": {
     "outputs_hidden": false,
     "source_hidden": false
    },
    "nteract": {
     "transient": {
      "deleting": false
     }
    }
   },
   "outputs": [
    {
     "name": "stdout",
     "output_type": "stream",
     "text": [
      "Workspace name: quick-starts-ws-137409\n",
      "Azure region: southcentralus\n",
      "Subscription id: f5091c60-1c3c-430f-8d81-d802f6bf2414\n",
      "Resource group: aml-quickstarts-137409\n"
     ]
    }
   ],
   "source": [
    "ws = Workspace.from_config()\n",
    "\n",
    "# choose a name for experiment\n",
    "experiment_name = 'loan-default-automl'\n",
    "\n",
    "experiment=Experiment(ws, experiment_name)\n",
    "\n",
    "print('Workspace name: ' + ws.name, \n",
    "      'Azure region: ' + ws.location, \n",
    "      'Subscription id: ' + ws.subscription_id, \n",
    "      'Resource group: ' + ws.resource_group, sep = '\\n')\n",
    "\n",
    "run = experiment.start_logging()"
   ]
  },
  {
   "cell_type": "code",
   "execution_count": 4,
   "metadata": {},
   "outputs": [
    {
     "name": "stdout",
     "output_type": "stream",
     "text": [
      "Found existing cluster: capstone-compute to be used.\n",
      "\n",
      "Running\n"
     ]
    }
   ],
   "source": [
    "cpu_cluster_name = \"capstone-compute\" \n",
    "\n",
    "#verify that cluster does not exist already\n",
    "try:\n",
    "    cpu_cluster = ComputeTarget(workspace=ws, name=cpu_cluster_name)\n",
    "    print(f\"Found existing cluster: {cpu_cluster_name} to be used.\")\n",
    "except ComputeTargetException:\n",
    "    print('Creating a new compute target...')\n",
    "    compute_config = AmlCompute.provisioning_configuration(vm_size='STANDARD_DS12_V2', max_nodes=6)\n",
    "\n",
    "    cpu_cluster = ComputeTarget.create(ws, cpu_cluster_name, compute_config)\n",
    "\n",
    "cpu_cluster.wait_for_completion(show_output=True)#, min_node_count = 1, timeout_in_minutes = 10)"
   ]
  },
  {
   "cell_type": "markdown",
   "metadata": {},
   "source": [
    "## Dataset\n",
    "\n",
    "### Overview\n",
    "\n",
    "The dataset used in this project is a loan default prediction dataset. The project entails identifying customers who would either default or not  default after taking a loan credit. This transalates to a binary classification: to default or not to default. Hence, a Logistic regression model would be built using azure's automl funcionality. SKLearn's logistic regression algorithm is a well-known supervised learning approach optimized for dichotomous or binary variables."
   ]
  },
  {
   "cell_type": "code",
   "execution_count": 5,
   "metadata": {},
   "outputs": [],
   "source": [
    "# retrieve data from github\n",
    "\n",
    "url = \"https://raw.githubusercontent.com/ChidiNdego/loan-default-capstone-project/master/starter_file/loan_default_prediction.csv\"\n",
    "\n",
    "data = TabularDatasetFactory.from_delimited_files(url)"
   ]
  },
  {
   "cell_type": "code",
   "execution_count": 6,
   "metadata": {},
   "outputs": [
    {
     "data": {
      "text/html": [
       "<div>\n",
       "<style scoped>\n",
       "    .dataframe tbody tr th:only-of-type {\n",
       "        vertical-align: middle;\n",
       "    }\n",
       "\n",
       "    .dataframe tbody tr th {\n",
       "        vertical-align: top;\n",
       "    }\n",
       "\n",
       "    .dataframe thead th {\n",
       "        text-align: right;\n",
       "    }\n",
       "</style>\n",
       "<table border=\"1\" class=\"dataframe\">\n",
       "  <thead>\n",
       "    <tr style=\"text-align: right;\">\n",
       "      <th></th>\n",
       "      <th>Column1</th>\n",
       "      <th>firstPaymentDefault</th>\n",
       "      <th>firstPaymentRatio</th>\n",
       "      <th>max_amount_taken</th>\n",
       "      <th>max_tenor_taken</th>\n",
       "      <th>loanAmount</th>\n",
       "      <th>interestRate</th>\n",
       "      <th>clientIncome</th>\n",
       "      <th>clientAge</th>\n",
       "      <th>clientNumberPhoneCOntacts</th>\n",
       "      <th>...</th>\n",
       "      <th>clientLoanPurpose_education</th>\n",
       "      <th>clientLoanPurpose_house</th>\n",
       "      <th>clientLoanPurpose_medical</th>\n",
       "      <th>clientLoanPurpose_other</th>\n",
       "      <th>clientResidentialStauts_Family Owned</th>\n",
       "      <th>clientResidentialStauts_Own Residence</th>\n",
       "      <th>clientResidentialStauts_Rented</th>\n",
       "      <th>clientResidentialStauts_Temp Residence</th>\n",
       "      <th>incomeVerified_True</th>\n",
       "      <th>loanDefault</th>\n",
       "    </tr>\n",
       "  </thead>\n",
       "  <tbody>\n",
       "    <tr>\n",
       "      <th>0</th>\n",
       "      <td>0</td>\n",
       "      <td>0</td>\n",
       "      <td>0.0</td>\n",
       "      <td>1</td>\n",
       "      <td>1</td>\n",
       "      <td>101500</td>\n",
       "      <td>6.0</td>\n",
       "      <td>133613.31</td>\n",
       "      <td>50</td>\n",
       "      <td>1013.0</td>\n",
       "      <td>...</td>\n",
       "      <td>1</td>\n",
       "      <td>0</td>\n",
       "      <td>0</td>\n",
       "      <td>0</td>\n",
       "      <td>0</td>\n",
       "      <td>1</td>\n",
       "      <td>0</td>\n",
       "      <td>0</td>\n",
       "      <td>1</td>\n",
       "      <td>0</td>\n",
       "    </tr>\n",
       "    <tr>\n",
       "      <th>1</th>\n",
       "      <td>1</td>\n",
       "      <td>0</td>\n",
       "      <td>0.0</td>\n",
       "      <td>1</td>\n",
       "      <td>1</td>\n",
       "      <td>61000</td>\n",
       "      <td>12.5</td>\n",
       "      <td>160995.02</td>\n",
       "      <td>36</td>\n",
       "      <td>649.0</td>\n",
       "      <td>...</td>\n",
       "      <td>0</td>\n",
       "      <td>1</td>\n",
       "      <td>0</td>\n",
       "      <td>0</td>\n",
       "      <td>0</td>\n",
       "      <td>0</td>\n",
       "      <td>1</td>\n",
       "      <td>0</td>\n",
       "      <td>1</td>\n",
       "      <td>1</td>\n",
       "    </tr>\n",
       "    <tr>\n",
       "      <th>2</th>\n",
       "      <td>2</td>\n",
       "      <td>1</td>\n",
       "      <td>0.0</td>\n",
       "      <td>0</td>\n",
       "      <td>0</td>\n",
       "      <td>23000</td>\n",
       "      <td>10.0</td>\n",
       "      <td>140000.00</td>\n",
       "      <td>34</td>\n",
       "      <td>1171.0</td>\n",
       "      <td>...</td>\n",
       "      <td>0</td>\n",
       "      <td>0</td>\n",
       "      <td>0</td>\n",
       "      <td>0</td>\n",
       "      <td>0</td>\n",
       "      <td>0</td>\n",
       "      <td>1</td>\n",
       "      <td>0</td>\n",
       "      <td>0</td>\n",
       "      <td>1</td>\n",
       "    </tr>\n",
       "    <tr>\n",
       "      <th>3</th>\n",
       "      <td>3</td>\n",
       "      <td>0</td>\n",
       "      <td>0.0</td>\n",
       "      <td>0</td>\n",
       "      <td>0</td>\n",
       "      <td>46000</td>\n",
       "      <td>12.5</td>\n",
       "      <td>100000.00</td>\n",
       "      <td>35</td>\n",
       "      <td>568.0</td>\n",
       "      <td>...</td>\n",
       "      <td>0</td>\n",
       "      <td>0</td>\n",
       "      <td>0</td>\n",
       "      <td>0</td>\n",
       "      <td>0</td>\n",
       "      <td>0</td>\n",
       "      <td>1</td>\n",
       "      <td>0</td>\n",
       "      <td>1</td>\n",
       "      <td>0</td>\n",
       "    </tr>\n",
       "    <tr>\n",
       "      <th>4</th>\n",
       "      <td>4</td>\n",
       "      <td>0</td>\n",
       "      <td>0.0</td>\n",
       "      <td>0</td>\n",
       "      <td>1</td>\n",
       "      <td>27000</td>\n",
       "      <td>12.5</td>\n",
       "      <td>52500.00</td>\n",
       "      <td>24</td>\n",
       "      <td>500.0</td>\n",
       "      <td>...</td>\n",
       "      <td>0</td>\n",
       "      <td>0</td>\n",
       "      <td>0</td>\n",
       "      <td>0</td>\n",
       "      <td>1</td>\n",
       "      <td>0</td>\n",
       "      <td>0</td>\n",
       "      <td>0</td>\n",
       "      <td>0</td>\n",
       "      <td>0</td>\n",
       "    </tr>\n",
       "  </tbody>\n",
       "</table>\n",
       "<p>5 rows × 27 columns</p>\n",
       "</div>"
      ],
      "text/plain": [
       "   Column1  firstPaymentDefault  firstPaymentRatio  max_amount_taken  \\\n",
       "0        0                    0                0.0                 1   \n",
       "1        1                    0                0.0                 1   \n",
       "2        2                    1                0.0                 0   \n",
       "3        3                    0                0.0                 0   \n",
       "4        4                    0                0.0                 0   \n",
       "\n",
       "   max_tenor_taken  loanAmount  interestRate  clientIncome  clientAge  \\\n",
       "0                1      101500           6.0     133613.31         50   \n",
       "1                1       61000          12.5     160995.02         36   \n",
       "2                0       23000          10.0     140000.00         34   \n",
       "3                0       46000          12.5     100000.00         35   \n",
       "4                1       27000          12.5      52500.00         24   \n",
       "\n",
       "   clientNumberPhoneCOntacts  ...  clientLoanPurpose_education  \\\n",
       "0                     1013.0  ...                            1   \n",
       "1                      649.0  ...                            0   \n",
       "2                     1171.0  ...                            0   \n",
       "3                      568.0  ...                            0   \n",
       "4                      500.0  ...                            0   \n",
       "\n",
       "   clientLoanPurpose_house  clientLoanPurpose_medical  \\\n",
       "0                        0                          0   \n",
       "1                        1                          0   \n",
       "2                        0                          0   \n",
       "3                        0                          0   \n",
       "4                        0                          0   \n",
       "\n",
       "   clientLoanPurpose_other  clientResidentialStauts_Family Owned  \\\n",
       "0                        0                                     0   \n",
       "1                        0                                     0   \n",
       "2                        0                                     0   \n",
       "3                        0                                     0   \n",
       "4                        0                                     1   \n",
       "\n",
       "   clientResidentialStauts_Own Residence  clientResidentialStauts_Rented  \\\n",
       "0                                      1                               0   \n",
       "1                                      0                               1   \n",
       "2                                      0                               1   \n",
       "3                                      0                               1   \n",
       "4                                      0                               0   \n",
       "\n",
       "   clientResidentialStauts_Temp Residence  incomeVerified_True  loanDefault  \n",
       "0                                       0                    1            0  \n",
       "1                                       0                    1            1  \n",
       "2                                       0                    0            1  \n",
       "3                                       0                    1            0  \n",
       "4                                       0                    0            0  \n",
       "\n",
       "[5 rows x 27 columns]"
      ]
     },
     "execution_count": 6,
     "metadata": {},
     "output_type": "execute_result"
    }
   ],
   "source": [
    "# use the clean function to polish the data.\n",
    "x, y = clean(data)\n",
    "\n",
    "# add cleaned target column to cleaned predictor variables\n",
    "train_data = pd.concat([x,y],axis=1)\n",
    "train_data.head()"
   ]
  },
  {
   "cell_type": "code",
   "execution_count": 7,
   "metadata": {},
   "outputs": [],
   "source": [
    "train, test = train_test_split(train_data, test_size=0.3)"
   ]
  },
  {
   "cell_type": "code",
   "execution_count": 8,
   "metadata": {},
   "outputs": [
    {
     "name": "stderr",
     "output_type": "stream",
     "text": [
      "Method register_pandas_dataframe: This is an experimental method, and may change at any time.<br/>For more information, see https://aka.ms/azuremlexperimental.\n"
     ]
    },
    {
     "name": "stdout",
     "output_type": "stream",
     "text": [
      "Validating arguments.\n",
      "Arguments validated.\n",
      "Successfully obtained datastore reference and path.\n",
      "Uploading file to AutoMLData/ee620830-ab7c-4f9d-a982-b3fb5779e73f/\n",
      "Successfully uploaded file to datastore.\n",
      "Creating and registering a new dataset.\n",
      "Successfully created and registered a new dataset.\n"
     ]
    }
   ],
   "source": [
    "# get default datastore\n",
    "default_ds = ws.get_default_datastore()\n",
    "\n",
    "# register the dataset\n",
    "dataSet = TabularDatasetFactory.register_pandas_dataframe(train_data,target=(default_ds,'AutoMLData'),name='AutoML_data',show_progress=True)\n",
    "\n",
    "automl_data = ws.datasets.get('AutoML_data')"
   ]
  },
  {
   "cell_type": "markdown",
   "metadata": {},
   "source": [
    "## AutoML Configuration"
   ]
  },
  {
   "cell_type": "code",
   "execution_count": 9,
   "metadata": {
    "gather": {
     "logged": 1598429217746
    },
    "jupyter": {
     "outputs_hidden": false,
     "source_hidden": false
    },
    "nteract": {
     "transient": {
      "deleting": false
     }
    }
   },
   "outputs": [],
   "source": [
    "automl_settings = {\n",
    "    \"experiment_timeout_minutes\": 30,\n",
    "    \"max_concurrent_iterations\": 5,\n",
    "    \"n_cross_validations\": 5,\n",
    "    \"primary_metric\" : 'accuracy'\n",
    "}\n",
    "\n",
    "automl_config = AutoMLConfig(compute_target=cpu_cluster,\n",
    "                             task = \"classification\",\n",
    "                             training_data=automl_data,\n",
    "                             label_column_name=\"loanDefault\",   \n",
    "                             enable_early_stopping= True,\n",
    "                             featurization= 'auto',\n",
    "                             debug_log = \"automl_errors.log\",\n",
    "                             enable_onnx_compatible_models=True,\n",
    "                             **automl_settings)"
   ]
  },
  {
   "cell_type": "markdown",
   "metadata": {},
   "source": [
    "### Reasons for automl settings and configuration\n",
    "\n",
    "*   `\"experiment_timeout_minutes\": 30`: Maximum amount of time (in minutes) to complete training itertions. Set at 30 minutes because dataset has over 10,000 entries.\n",
    "*   `\"max_concurrent_iterations\": 5`: Maximum number of iterations that can be executed simultaneously. Advisably, this value should be less than the number of compute cluster node.\n",
    "*   `\"n_cross_validations\": 5`: Cross validation is a model validation technique used to reduce overfitting. `n` is the number of training examples.\n",
    "*   `\"primary_metric\" : 'Accuracy'`: This parameter determines the metric to be used during model training for optimization.\n",
    "*   `compute_target=cpu_cluster`: This points to the compute cluster configuration created earlier.\n",
    "*   `task = \"classification\"`: The problem in view is a classification task.\n",
    "*   `training_data=automl_data`: Specifies the dataset to be used: an external dataset already registered in azure datastore.\n",
    "*   `label_column_name=\"loanDefault\"`: Specifies the dependent variable to be predicted.\n",
    "*   `enable_early_stopping=True`: Allows for an early stopping rule to be applied.\n",
    "*   `featurization= 'auto'`: Allows azure to automatically perform feature engineering.\n",
    "*   `enable_onnx_compatible_models=True`: Allows for model to be converted to onnx format."
   ]
  },
  {
   "cell_type": "code",
   "execution_count": 10,
   "metadata": {
    "gather": {
     "logged": 1598431107951
    },
    "jupyter": {
     "outputs_hidden": false,
     "source_hidden": false
    },
    "nteract": {
     "transient": {
      "deleting": false
     }
    }
   },
   "outputs": [
    {
     "name": "stdout",
     "output_type": "stream",
     "text": [
      "Submitting AutoML experiment...\n",
      "Running on remote.\n"
     ]
    }
   ],
   "source": [
    "# submit your experiment\n",
    "print('Submitting AutoML experiment...')\n",
    "remote_run = experiment.submit(automl_config)"
   ]
  },
  {
   "cell_type": "markdown",
   "metadata": {},
   "source": [
    "## Run Details\n",
    "\n",
    "Use the `RunDetails` widget to show the different experiments."
   ]
  },
  {
   "cell_type": "code",
   "execution_count": 11,
   "metadata": {
    "gather": {
     "logged": 1598431121770
    },
    "jupyter": {
     "outputs_hidden": false,
     "source_hidden": false
    },
    "nteract": {
     "transient": {
      "deleting": false
     }
    },
    "scrolled": false
   },
   "outputs": [
    {
     "data": {
      "application/vnd.jupyter.widget-view+json": {
       "model_id": "7a32d136bd39414ea3d5f6b5968e00e1",
       "version_major": 2,
       "version_minor": 0
      },
      "text/plain": [
       "_AutoMLWidget(widget_settings={'childWidgetDisplay': 'popup', 'send_telemetry': False, 'log_level': 'INFO', 's…"
      ]
     },
     "metadata": {},
     "output_type": "display_data"
    },
    {
     "data": {
      "application/aml.mini.widget.v1": "{\"status\": \"Completed\", \"workbench_run_details_uri\": \"https://ml.azure.com/experiments/loan-default-automl/runs/AutoML_455d9474-2160-4678-8424-d7f42202d42a?wsid=/subscriptions/f5091c60-1c3c-430f-8d81-d802f6bf2414/resourcegroups/aml-quickstarts-137409/workspaces/quick-starts-ws-137409\", \"run_id\": \"AutoML_455d9474-2160-4678-8424-d7f42202d42a\", \"run_properties\": {\"run_id\": \"AutoML_455d9474-2160-4678-8424-d7f42202d42a\", \"created_utc\": \"2021-02-06T05:37:59.013164Z\", \"properties\": {\"num_iterations\": \"1000\", \"training_type\": \"TrainFull\", \"acquisition_function\": \"EI\", \"primary_metric\": \"accuracy\", \"train_split\": \"0\", \"acquisition_parameter\": \"0\", \"num_cross_validation\": \"5\", \"target\": \"capstone-compute\", \"AMLSettingsJsonString\": \"{\\\"path\\\":null,\\\"name\\\":\\\"loan-default-automl\\\",\\\"subscription_id\\\":\\\"f5091c60-1c3c-430f-8d81-d802f6bf2414\\\",\\\"resource_group\\\":\\\"aml-quickstarts-137409\\\",\\\"workspace_name\\\":\\\"quick-starts-ws-137409\\\",\\\"region\\\":\\\"southcentralus\\\",\\\"compute_target\\\":\\\"capstone-compute\\\",\\\"spark_service\\\":null,\\\"azure_service\\\":\\\"remote\\\",\\\"many_models\\\":false,\\\"pipeline_fetch_max_batch_size\\\":1,\\\"iterations\\\":1000,\\\"primary_metric\\\":\\\"accuracy\\\",\\\"task_type\\\":\\\"classification\\\",\\\"data_script\\\":null,\\\"validation_size\\\":0.0,\\\"n_cross_validations\\\":5,\\\"y_min\\\":null,\\\"y_max\\\":null,\\\"num_classes\\\":null,\\\"featurization\\\":\\\"auto\\\",\\\"_ignore_package_version_incompatibilities\\\":false,\\\"is_timeseries\\\":false,\\\"max_cores_per_iteration\\\":1,\\\"max_concurrent_iterations\\\":5,\\\"iteration_timeout_minutes\\\":null,\\\"mem_in_mb\\\":null,\\\"enforce_time_on_windows\\\":false,\\\"experiment_timeout_minutes\\\":30,\\\"experiment_exit_score\\\":null,\\\"whitelist_models\\\":null,\\\"blacklist_algos\\\":[\\\"TensorFlowLinearClassifier\\\",\\\"TensorFlowDNN\\\"],\\\"supported_models\\\":[\\\"KNN\\\",\\\"ExtremeRandomTrees\\\",\\\"SGD\\\",\\\"LightGBM\\\",\\\"LinearSVM\\\",\\\"AveragedPerceptronClassifier\\\",\\\"LogisticRegression\\\",\\\"BernoulliNaiveBayes\\\",\\\"SVM\\\",\\\"MultinomialNaiveBayes\\\",\\\"RandomForest\\\",\\\"TensorFlowLinearClassifier\\\",\\\"XGBoostClassifier\\\",\\\"TensorFlowDNN\\\",\\\"DecisionTree\\\",\\\"GradientBoosting\\\"],\\\"auto_blacklist\\\":true,\\\"blacklist_samples_reached\\\":false,\\\"exclude_nan_labels\\\":true,\\\"verbosity\\\":20,\\\"_debug_log\\\":\\\"azureml_automl.log\\\",\\\"show_warnings\\\":false,\\\"model_explainability\\\":true,\\\"service_url\\\":null,\\\"sdk_url\\\":null,\\\"sdk_packages\\\":null,\\\"enable_onnx_compatible_models\\\":true,\\\"enable_split_onnx_featurizer_estimator_models\\\":false,\\\"vm_type\\\":\\\"STANDARD_DS12_V2\\\",\\\"telemetry_verbosity\\\":20,\\\"send_telemetry\\\":true,\\\"enable_dnn\\\":false,\\\"scenario\\\":\\\"SDK-1.13.0\\\",\\\"environment_label\\\":null,\\\"force_text_dnn\\\":false,\\\"enable_feature_sweeping\\\":false,\\\"enable_early_stopping\\\":true,\\\"early_stopping_n_iters\\\":10,\\\"metrics\\\":null,\\\"enable_ensembling\\\":true,\\\"enable_stack_ensembling\\\":false,\\\"ensemble_iterations\\\":15,\\\"enable_tf\\\":false,\\\"enable_subsampling\\\":null,\\\"subsample_seed\\\":null,\\\"enable_nimbusml\\\":false,\\\"enable_streaming\\\":false,\\\"force_streaming\\\":false,\\\"track_child_runs\\\":true,\\\"allowed_private_models\\\":[],\\\"label_column_name\\\":\\\"loanDefault\\\",\\\"weight_column_name\\\":null,\\\"cv_split_column_names\\\":null,\\\"enable_local_managed\\\":false,\\\"_local_managed_run_id\\\":null,\\\"cost_mode\\\":1,\\\"lag_length\\\":0,\\\"metric_operation\\\":\\\"maximize\\\",\\\"preprocess\\\":true}\", \"DataPrepJsonString\": \"{\\\\\\\"training_data\\\\\\\": \\\\\\\"{\\\\\\\\\\\\\\\"blocks\\\\\\\\\\\\\\\": [{\\\\\\\\\\\\\\\"id\\\\\\\\\\\\\\\": \\\\\\\\\\\\\\\"ce7a3ee3-3c40-421f-97a9-0551e141a14b\\\\\\\\\\\\\\\", \\\\\\\\\\\\\\\"type\\\\\\\\\\\\\\\": \\\\\\\\\\\\\\\"Microsoft.DPrep.GetDatastoreFilesBlock\\\\\\\\\\\\\\\", \\\\\\\\\\\\\\\"arguments\\\\\\\\\\\\\\\": {\\\\\\\\\\\\\\\"datastores\\\\\\\\\\\\\\\": [{\\\\\\\\\\\\\\\"datastoreName\\\\\\\\\\\\\\\": \\\\\\\\\\\\\\\"workspaceblobstore\\\\\\\\\\\\\\\", \\\\\\\\\\\\\\\"path\\\\\\\\\\\\\\\": \\\\\\\\\\\\\\\"AutoMLData/ee620830-ab7c-4f9d-a982-b3fb5779e73f/\\\\\\\\\\\\\\\", \\\\\\\\\\\\\\\"resourceGroup\\\\\\\\\\\\\\\": \\\\\\\\\\\\\\\"aml-quickstarts-137409\\\\\\\\\\\\\\\", \\\\\\\\\\\\\\\"subscription\\\\\\\\\\\\\\\": \\\\\\\\\\\\\\\"f5091c60-1c3c-430f-8d81-d802f6bf2414\\\\\\\\\\\\\\\", \\\\\\\\\\\\\\\"workspaceName\\\\\\\\\\\\\\\": \\\\\\\\\\\\\\\"quick-starts-ws-137409\\\\\\\\\\\\\\\"}]}, \\\\\\\\\\\\\\\"localData\\\\\\\\\\\\\\\": {}, \\\\\\\\\\\\\\\"isEnabled\\\\\\\\\\\\\\\": true, \\\\\\\\\\\\\\\"name\\\\\\\\\\\\\\\": null, \\\\\\\\\\\\\\\"annotation\\\\\\\\\\\\\\\": null}, {\\\\\\\\\\\\\\\"id\\\\\\\\\\\\\\\": \\\\\\\\\\\\\\\"a635aee9-40b8-4953-b0f9-3c13bd854b26\\\\\\\\\\\\\\\", \\\\\\\\\\\\\\\"type\\\\\\\\\\\\\\\": \\\\\\\\\\\\\\\"Microsoft.DPrep.ReadParquetFileBlock\\\\\\\\\\\\\\\", \\\\\\\\\\\\\\\"arguments\\\\\\\\\\\\\\\": {\\\\\\\\\\\\\\\"preview\\\\\\\\\\\\\\\": false}, \\\\\\\\\\\\\\\"localData\\\\\\\\\\\\\\\": {}, \\\\\\\\\\\\\\\"isEnabled\\\\\\\\\\\\\\\": true, \\\\\\\\\\\\\\\"name\\\\\\\\\\\\\\\": null, \\\\\\\\\\\\\\\"annotation\\\\\\\\\\\\\\\": null}, {\\\\\\\\\\\\\\\"id\\\\\\\\\\\\\\\": \\\\\\\\\\\\\\\"022ec624-3315-4d6a-86fd-4bce1d61ec0a\\\\\\\\\\\\\\\", \\\\\\\\\\\\\\\"type\\\\\\\\\\\\\\\": \\\\\\\\\\\\\\\"Microsoft.DPrep.DropColumnsBlock\\\\\\\\\\\\\\\", \\\\\\\\\\\\\\\"arguments\\\\\\\\\\\\\\\": {\\\\\\\\\\\\\\\"columns\\\\\\\\\\\\\\\": {\\\\\\\\\\\\\\\"type\\\\\\\\\\\\\\\": 0, \\\\\\\\\\\\\\\"details\\\\\\\\\\\\\\\": {\\\\\\\\\\\\\\\"selectedColumns\\\\\\\\\\\\\\\": [\\\\\\\\\\\\\\\"Path\\\\\\\\\\\\\\\"]}}}, \\\\\\\\\\\\\\\"localData\\\\\\\\\\\\\\\": {}, \\\\\\\\\\\\\\\"isEnabled\\\\\\\\\\\\\\\": true, \\\\\\\\\\\\\\\"name\\\\\\\\\\\\\\\": null, \\\\\\\\\\\\\\\"annotation\\\\\\\\\\\\\\\": null}], \\\\\\\\\\\\\\\"inspectors\\\\\\\\\\\\\\\": [], \\\\\\\\\\\\\\\"meta\\\\\\\\\\\\\\\": {\\\\\\\\\\\\\\\"savedDatasetId\\\\\\\\\\\\\\\": \\\\\\\\\\\\\\\"f599fda6-facc-451b-94e3-40599f050031\\\\\\\\\\\\\\\", \\\\\\\\\\\\\\\"datasetType\\\\\\\\\\\\\\\": \\\\\\\\\\\\\\\"tabular\\\\\\\\\\\\\\\", \\\\\\\\\\\\\\\"subscriptionId\\\\\\\\\\\\\\\": \\\\\\\\\\\\\\\"f5091c60-1c3c-430f-8d81-d802f6bf2414\\\\\\\\\\\\\\\", \\\\\\\\\\\\\\\"workspaceId\\\\\\\\\\\\\\\": \\\\\\\\\\\\\\\"b5823642-74f6-40f5-a64f-66cfc3d43954\\\\\\\\\\\\\\\", \\\\\\\\\\\\\\\"workspaceLocation\\\\\\\\\\\\\\\": \\\\\\\\\\\\\\\"southcentralus\\\\\\\\\\\\\\\"}}\\\\\\\", \\\\\\\"activities\\\\\\\": 0}\", \"EnableSubsampling\": null, \"runTemplate\": \"AutoML\", \"azureml.runsource\": \"automl\", \"display_task_type\": \"classification\", \"dependencies_versions\": \"{\\\"azureml-widgets\\\": \\\"1.20.0\\\", \\\"azureml-train\\\": \\\"1.20.0\\\", \\\"azureml-train-restclients-hyperdrive\\\": \\\"1.20.0\\\", \\\"azureml-train-core\\\": \\\"1.20.0\\\", \\\"azureml-train-automl\\\": \\\"1.20.0\\\", \\\"azureml-train-automl-runtime\\\": \\\"1.20.0\\\", \\\"azureml-train-automl-client\\\": \\\"1.20.0\\\", \\\"azureml-tensorboard\\\": \\\"1.20.0\\\", \\\"azureml-telemetry\\\": \\\"1.20.0\\\", \\\"azureml-sdk\\\": \\\"1.20.0\\\", \\\"azureml-samples\\\": \\\"0+unknown\\\", \\\"azureml-pipeline\\\": \\\"1.20.0\\\", \\\"azureml-pipeline-steps\\\": \\\"1.20.0\\\", \\\"azureml-pipeline-core\\\": \\\"1.20.0\\\", \\\"azureml-opendatasets\\\": \\\"1.20.0\\\", \\\"azureml-model-management-sdk\\\": \\\"1.0.1b6.post1\\\", \\\"azureml-mlflow\\\": \\\"1.20.0.post1\\\", \\\"azureml-interpret\\\": \\\"1.20.0\\\", \\\"azureml-explain-model\\\": \\\"1.20.0\\\", \\\"azureml-defaults\\\": \\\"1.20.0\\\", \\\"azureml-dataset-runtime\\\": \\\"1.20.0\\\", \\\"azureml-dataprep\\\": \\\"2.7.3\\\", \\\"azureml-dataprep-rslex\\\": \\\"1.5.0\\\", \\\"azureml-dataprep-native\\\": \\\"27.0.0\\\", \\\"azureml-datadrift\\\": \\\"1.20.0\\\", \\\"azureml-core\\\": \\\"1.20.0\\\", \\\"azureml-contrib-services\\\": \\\"1.20.0\\\", \\\"azureml-contrib-server\\\": \\\"1.20.0\\\", \\\"azureml-contrib-reinforcementlearning\\\": \\\"1.20.0\\\", \\\"azureml-contrib-pipeline-steps\\\": \\\"1.20.0\\\", \\\"azureml-contrib-notebook\\\": \\\"1.20.0\\\", \\\"azureml-contrib-interpret\\\": \\\"1.20.0\\\", \\\"azureml-contrib-gbdt\\\": \\\"1.20.0\\\", \\\"azureml-contrib-fairness\\\": \\\"1.20.0\\\", \\\"azureml-contrib-dataset\\\": \\\"1.20.0\\\", \\\"azureml-cli-common\\\": \\\"1.20.0\\\", \\\"azureml-automl-runtime\\\": \\\"1.20.0\\\", \\\"azureml-automl-core\\\": \\\"1.20.0\\\", \\\"azureml-accel-models\\\": \\\"1.20.0\\\"}\", \"_aml_system_scenario_identification\": \"Remote.Parent\", \"ClientType\": \"SDK\", \"environment_cpu_name\": \"AzureML-AutoML\", \"environment_cpu_label\": \"prod\", \"environment_gpu_name\": \"AzureML-AutoML-GPU\", \"environment_gpu_label\": \"prod\", \"root_attribution\": \"automl\", \"attribution\": \"AutoML\", \"Orchestrator\": \"AutoML\", \"CancelUri\": \"https://southcentralus.experiments.azureml.net/jasmine/v1.0/subscriptions/f5091c60-1c3c-430f-8d81-d802f6bf2414/resourceGroups/aml-quickstarts-137409/providers/Microsoft.MachineLearningServices/workspaces/quick-starts-ws-137409/experimentids/6c7b9c7a-227a-4b8a-b605-dbcddf280a9f/cancel/AutoML_455d9474-2160-4678-8424-d7f42202d42a\", \"ClientSdkVersion\": \"1.21.0\", \"snapshotId\": \"00000000-0000-0000-0000-000000000000\", \"SetupRunId\": \"AutoML_455d9474-2160-4678-8424-d7f42202d42a_setup\", \"SetupRunContainerId\": \"dcid.AutoML_455d9474-2160-4678-8424-d7f42202d42a_setup\", \"FeaturizationRunJsonPath\": \"featurizer_container.json\", \"FeaturizationRunId\": \"AutoML_455d9474-2160-4678-8424-d7f42202d42a_featurize\", \"ProblemInfoJsonString\": \"{\\\"dataset_num_categorical\\\": 0, \\\"is_sparse\\\": true, \\\"subsampling\\\": false, \\\"dataset_classes\\\": 2, \\\"dataset_features\\\": 100, \\\"dataset_samples\\\": 159596, \\\"single_frequency_class_detected\\\": false}\", \"ModelExplainRunId\": \"AutoML_455d9474-2160-4678-8424-d7f42202d42a_ModelExplain\"}, \"tags\": {\"model_explain_run\": \"best_run\", \"_aml_system_azureml.automlComponent\": \"AutoML\", \"pipeline_id\": \"\", \"score\": \"\", \"predicted_cost\": \"\", \"fit_time\": \"\", \"training_percent\": \"\", \"iteration\": \"\", \"run_preprocessor\": \"\", \"run_algorithm\": \"\", \"dynamic_whitelisting_iterations\": \"<25>;<30>;<35>;\", \"automl_best_child_run_id\": \"AutoML_455d9474-2160-4678-8424-d7f42202d42a_38\", \"model_explain_best_run_child_id\": \"AutoML_455d9474-2160-4678-8424-d7f42202d42a_38\"}, \"end_time_utc\": \"2021-02-06T06:04:19.657632Z\", \"status\": \"Completed\", \"log_files\": {}, \"log_groups\": [], \"run_duration\": \"0:26:20\"}, \"child_runs\": [{\"run_id\": \"AutoML_455d9474-2160-4678-8424-d7f42202d42a_0\", \"run_number\": 6, \"metric\": null, \"status\": \"Completed\", \"run_type\": \"azureml.scriptrun\", \"training_percent\": \"100\", \"start_time\": \"2021-02-06T05:43:35.326014Z\", \"end_time\": \"2021-02-06T05:44:56.572507Z\", \"created_time\": \"2021-02-06T05:43:20.092159Z\", \"created_time_dt\": \"2021-02-06T05:43:20.092159Z\", \"duration\": \"0:01:36\", \"iteration\": \"0\", \"goal\": \"accuracy_max\", \"run_name\": \"MaxAbsScaler, LightGBM\", \"run_properties\": \"copy=True\", \"primary_metric\": 0.85136847, \"best_metric\": 0.85136847}, {\"run_id\": \"AutoML_455d9474-2160-4678-8424-d7f42202d42a_3\", \"run_number\": 7, \"metric\": null, \"status\": \"Completed\", \"run_type\": \"azureml.scriptrun\", \"training_percent\": \"100\", \"start_time\": \"2021-02-06T05:43:37.591602Z\", \"end_time\": \"2021-02-06T05:44:49.318327Z\", \"created_time\": \"2021-02-06T05:43:20.212473Z\", \"created_time_dt\": \"2021-02-06T05:43:20.212473Z\", \"duration\": \"0:01:29\", \"iteration\": \"3\", \"goal\": \"accuracy_max\", \"run_name\": \"MaxAbsScaler, RandomForest\", \"run_properties\": \"copy=True\", \"primary_metric\": 0.82060323, \"best_metric\": 0.85144366}, {\"run_id\": \"AutoML_455d9474-2160-4678-8424-d7f42202d42a_1\", \"run_number\": 8, \"metric\": null, \"status\": \"Completed\", \"run_type\": \"azureml.scriptrun\", \"training_percent\": \"100\", \"start_time\": \"2021-02-06T05:43:36.062812Z\", \"end_time\": \"2021-02-06T05:45:54.300258Z\", \"created_time\": \"2021-02-06T05:43:20.233915Z\", \"created_time_dt\": \"2021-02-06T05:43:20.233915Z\", \"duration\": \"0:02:34\", \"iteration\": \"1\", \"goal\": \"accuracy_max\", \"run_name\": \"MaxAbsScaler, XGBoostClassifier\", \"run_properties\": \"copy=True\", \"primary_metric\": 0.85144366, \"best_metric\": 0.85144366}, {\"run_id\": \"AutoML_455d9474-2160-4678-8424-d7f42202d42a_2\", \"run_number\": 9, \"metric\": null, \"status\": \"Completed\", \"run_type\": \"azureml.scriptrun\", \"training_percent\": \"100\", \"start_time\": \"2021-02-06T05:43:36.640201Z\", \"end_time\": \"2021-02-06T05:44:48.271819Z\", \"created_time\": \"2021-02-06T05:43:20.243228Z\", \"created_time_dt\": \"2021-02-06T05:43:20.243228Z\", \"duration\": \"0:01:28\", \"iteration\": \"2\", \"goal\": \"accuracy_max\", \"run_name\": \"MaxAbsScaler, RandomForest\", \"run_properties\": \"copy=True\", \"primary_metric\": 0.83596078, \"best_metric\": 0.85144366}, {\"run_id\": \"AutoML_455d9474-2160-4678-8424-d7f42202d42a_4\", \"run_number\": 10, \"metric\": null, \"status\": \"Completed\", \"run_type\": \"azureml.scriptrun\", \"training_percent\": \"100\", \"start_time\": \"2021-02-06T05:43:35.726444Z\", \"end_time\": \"2021-02-06T05:44:50.811821Z\", \"created_time\": \"2021-02-06T05:43:20.232325Z\", \"created_time_dt\": \"2021-02-06T05:43:20.232325Z\", \"duration\": \"0:01:30\", \"iteration\": \"4\", \"goal\": \"accuracy_max\", \"run_name\": \"MaxAbsScaler, RandomForest\", \"run_properties\": \"copy=True\", \"primary_metric\": 0.84735836, \"best_metric\": 0.85144366}, {\"run_id\": \"AutoML_455d9474-2160-4678-8424-d7f42202d42a_5\", \"run_number\": 11, \"metric\": null, \"status\": \"Completed\", \"run_type\": \"azureml.scriptrun\", \"training_percent\": \"100\", \"start_time\": \"2021-02-06T05:45:11.126437Z\", \"end_time\": \"2021-02-06T05:46:27.415696Z\", \"created_time\": \"2021-02-06T05:44:52.849156Z\", \"created_time_dt\": \"2021-02-06T05:44:52.849156Z\", \"duration\": \"0:01:34\", \"iteration\": \"5\", \"goal\": \"accuracy_max\", \"run_name\": \"MaxAbsScaler, RandomForest\", \"run_properties\": \"copy=True\", \"primary_metric\": 0.84415651, \"best_metric\": 0.85144366}, {\"run_id\": \"AutoML_455d9474-2160-4678-8424-d7f42202d42a_7\", \"run_number\": 12, \"metric\": null, \"status\": \"Completed\", \"run_type\": \"azureml.scriptrun\", \"training_percent\": \"100\", \"start_time\": \"2021-02-06T05:45:11.80377Z\", \"end_time\": \"2021-02-06T05:48:25.895929Z\", \"created_time\": \"2021-02-06T05:44:59.498983Z\", \"created_time_dt\": \"2021-02-06T05:44:59.498983Z\", \"duration\": \"0:03:26\", \"iteration\": \"7\", \"goal\": \"accuracy_max\", \"run_name\": \"SparseNormalizer, XGBoostClassifier\", \"run_properties\": \"<azureml.automl.runtime.shared.model_wrappers.SparseNormalizer object at 0x7f0d43298940\", \"primary_metric\": 0.84958898, \"best_metric\": 0.85144366}, {\"run_id\": \"AutoML_455d9474-2160-4678-8424-d7f42202d42a_6\", \"run_number\": 13, \"metric\": null, \"status\": \"Completed\", \"run_type\": \"azureml.scriptrun\", \"training_percent\": \"100\", \"start_time\": \"2021-02-06T05:45:14.626405Z\", \"end_time\": \"2021-02-06T05:49:29.872445Z\", \"created_time\": \"2021-02-06T05:44:59.501553Z\", \"created_time_dt\": \"2021-02-06T05:44:59.501553Z\", \"duration\": \"0:04:30\", \"iteration\": \"6\", \"goal\": \"accuracy_max\", \"run_name\": \"SparseNormalizer, XGBoostClassifier\", \"run_properties\": \"<azureml.automl.runtime.shared.model_wrappers.SparseNormalizer object at 0x7f31688c3860\", \"primary_metric\": 0.850886, \"best_metric\": 0.85144366}, {\"run_id\": \"AutoML_455d9474-2160-4678-8424-d7f42202d42a_8\", \"run_number\": 14, \"metric\": null, \"status\": \"Completed\", \"run_type\": \"azureml.scriptrun\", \"training_percent\": \"100\", \"start_time\": \"2021-02-06T05:45:12.577062Z\", \"end_time\": \"2021-02-06T05:49:59.462029Z\", \"created_time\": \"2021-02-06T05:44:59.655746Z\", \"created_time_dt\": \"2021-02-06T05:44:59.655746Z\", \"duration\": \"0:04:59\", \"iteration\": \"8\", \"goal\": \"accuracy_max\", \"run_name\": \"SparseNormalizer, XGBoostClassifier\", \"run_properties\": \"<azureml.automl.runtime.shared.model_wrappers.SparseNormalizer object at 0x7fd9201c7940\", \"primary_metric\": 0.85065416, \"best_metric\": 0.85144366}, {\"run_id\": \"AutoML_455d9474-2160-4678-8424-d7f42202d42a_9\", \"run_number\": 15, \"metric\": null, \"status\": \"Completed\", \"run_type\": \"azureml.scriptrun\", \"training_percent\": \"100\", \"start_time\": \"2021-02-06T05:46:14.089535Z\", \"end_time\": \"2021-02-06T05:49:34.413239Z\", \"created_time\": \"2021-02-06T05:45:57.206052Z\", \"created_time_dt\": \"2021-02-06T05:45:57.206052Z\", \"duration\": \"0:03:37\", \"iteration\": \"9\", \"goal\": \"accuracy_max\", \"run_name\": \"SparseNormalizer, XGBoostClassifier\", \"run_properties\": \"<azureml.automl.runtime.shared.model_wrappers.SparseNormalizer object at 0x7f8ad954e710\", \"primary_metric\": 0.85072309, \"best_metric\": 0.85144366}, {\"run_id\": \"AutoML_455d9474-2160-4678-8424-d7f42202d42a_10\", \"run_number\": 16, \"metric\": null, \"status\": \"Completed\", \"run_type\": \"azureml.scriptrun\", \"training_percent\": \"100\", \"start_time\": \"2021-02-06T05:46:44.322657Z\", \"end_time\": \"2021-02-06T05:48:41.609911Z\", \"created_time\": \"2021-02-06T05:46:30.713103Z\", \"created_time_dt\": \"2021-02-06T05:46:30.713103Z\", \"duration\": \"0:02:10\", \"iteration\": \"10\", \"goal\": \"accuracy_max\", \"run_name\": \"SparseNormalizer, XGBoostClassifier\", \"run_properties\": \"<azureml.automl.runtime.shared.model_wrappers.SparseNormalizer object at 0x7f4434c9d710\", \"primary_metric\": 0.84503996, \"best_metric\": 0.85144366}, {\"run_id\": \"AutoML_455d9474-2160-4678-8424-d7f42202d42a_11\", \"run_number\": 17, \"metric\": null, \"status\": \"Completed\", \"run_type\": \"azureml.scriptrun\", \"training_percent\": \"100\", \"start_time\": \"2021-02-06T05:48:38.64126Z\", \"end_time\": \"2021-02-06T05:53:11.331804Z\", \"created_time\": \"2021-02-06T05:48:27.70721Z\", \"created_time_dt\": \"2021-02-06T05:48:27.70721Z\", \"duration\": \"0:04:43\", \"iteration\": \"11\", \"goal\": \"accuracy_max\", \"run_name\": \"MaxAbsScaler, RandomForest\", \"run_properties\": \"copy=True\", \"primary_metric\": 0.82743294, \"best_metric\": 0.85144366}, {\"run_id\": \"AutoML_455d9474-2160-4678-8424-d7f42202d42a_12\", \"run_number\": 18, \"metric\": null, \"status\": \"Completed\", \"run_type\": \"azureml.scriptrun\", \"training_percent\": \"100\", \"start_time\": \"2021-02-06T05:48:56.602695Z\", \"end_time\": \"2021-02-06T05:50:14.122328Z\", \"created_time\": \"2021-02-06T05:48:43.631388Z\", \"created_time_dt\": \"2021-02-06T05:48:43.631388Z\", \"duration\": \"0:01:30\", \"iteration\": \"12\", \"goal\": \"accuracy_max\", \"run_name\": \"SparseNormalizer, XGBoostClassifier\", \"run_properties\": \"<azureml.automl.runtime.shared.model_wrappers.SparseNormalizer object at 0x7f9b82017278\", \"primary_metric\": 0.84210756, \"best_metric\": 0.85144366}, {\"run_id\": \"AutoML_455d9474-2160-4678-8424-d7f42202d42a_13\", \"run_number\": 19, \"metric\": null, \"status\": \"Completed\", \"run_type\": \"azureml.scriptrun\", \"training_percent\": \"100\", \"start_time\": \"2021-02-06T05:49:44.171504Z\", \"end_time\": \"2021-02-06T05:51:24.8005Z\", \"created_time\": \"2021-02-06T05:49:31.644041Z\", \"created_time_dt\": \"2021-02-06T05:49:31.644041Z\", \"duration\": \"0:01:53\", \"iteration\": \"13\", \"goal\": \"accuracy_max\", \"run_name\": \"StandardScalerWrapper, RandomForest\", \"run_properties\": \"<azureml.automl.runtime.shared.model_wrappers.StandardScalerWrapper object at 0x7fc9f2c16518\", \"primary_metric\": 0.84725809, \"best_metric\": 0.85144366}, {\"run_id\": \"AutoML_455d9474-2160-4678-8424-d7f42202d42a_14\", \"run_number\": 20, \"metric\": null, \"status\": \"Completed\", \"run_type\": \"azureml.scriptrun\", \"training_percent\": \"100\", \"start_time\": \"2021-02-06T05:49:48.859147Z\", \"end_time\": \"2021-02-06T05:51:44.985733Z\", \"created_time\": \"2021-02-06T05:49:36.27314Z\", \"created_time_dt\": \"2021-02-06T05:49:36.27314Z\", \"duration\": \"0:02:08\", \"iteration\": \"14\", \"goal\": \"accuracy_max\", \"run_name\": \"MaxAbsScaler, LogisticRegression\", \"run_properties\": \"copy=True\", \"primary_metric\": 0.84796613, \"best_metric\": 0.85144366}, {\"run_id\": \"AutoML_455d9474-2160-4678-8424-d7f42202d42a_15\", \"run_number\": 21, \"metric\": null, \"status\": \"Completed\", \"run_type\": \"azureml.scriptrun\", \"training_percent\": \"100\", \"start_time\": \"2021-02-06T05:50:17.569546Z\", \"end_time\": \"2021-02-06T05:58:27.822918Z\", \"created_time\": \"2021-02-06T05:50:01.731191Z\", \"created_time_dt\": \"2021-02-06T05:50:01.731191Z\", \"duration\": \"0:08:26\", \"iteration\": \"15\", \"goal\": \"accuracy_max\", \"run_name\": \"MaxAbsScaler, ExtremeRandomTrees\", \"run_properties\": \"copy=True\", \"primary_metric\": 0.84776563, \"best_metric\": 0.85144366}, {\"run_id\": \"AutoML_455d9474-2160-4678-8424-d7f42202d42a_16\", \"run_number\": 22, \"metric\": null, \"status\": \"Completed\", \"run_type\": \"azureml.scriptrun\", \"training_percent\": \"100\", \"start_time\": \"2021-02-06T05:50:26.144865Z\", \"end_time\": \"2021-02-06T05:51:45.423347Z\", \"created_time\": \"2021-02-06T05:50:15.934478Z\", \"created_time_dt\": \"2021-02-06T05:50:15.934478Z\", \"duration\": \"0:01:29\", \"iteration\": \"16\", \"goal\": \"accuracy_max\", \"run_name\": \"MaxAbsScaler, LightGBM\", \"run_properties\": \"copy=True\", \"primary_metric\": 0.845347, \"best_metric\": 0.85144366}, {\"run_id\": \"AutoML_455d9474-2160-4678-8424-d7f42202d42a_17\", \"run_number\": 23, \"metric\": null, \"status\": \"Completed\", \"run_type\": \"azureml.scriptrun\", \"training_percent\": \"100\", \"start_time\": \"2021-02-06T05:51:44.70015Z\", \"end_time\": \"2021-02-06T05:55:37.342147Z\", \"created_time\": \"2021-02-06T05:51:27.306661Z\", \"created_time_dt\": \"2021-02-06T05:51:27.306661Z\", \"duration\": \"0:04:10\", \"iteration\": \"17\", \"goal\": \"accuracy_max\", \"run_name\": \"MaxAbsScaler, LogisticRegression\", \"run_properties\": \"copy=True\", \"primary_metric\": 0.84784708, \"best_metric\": 0.85144366}, {\"run_id\": \"AutoML_455d9474-2160-4678-8424-d7f42202d42a_18\", \"run_number\": 24, \"metric\": null, \"status\": \"Completed\", \"run_type\": \"azureml.scriptrun\", \"training_percent\": \"100\", \"start_time\": \"2021-02-06T05:51:59.323488Z\", \"end_time\": \"2021-02-06T05:53:14.710192Z\", \"created_time\": \"2021-02-06T05:51:47.574373Z\", \"created_time_dt\": \"2021-02-06T05:51:47.574373Z\", \"duration\": \"0:01:27\", \"iteration\": \"18\", \"goal\": \"accuracy_max\", \"run_name\": \"SparseNormalizer, LightGBM\", \"run_properties\": \"<azureml.automl.runtime.shared.model_wrappers.SparseNormalizer object at 0x7f70c9099c88\", \"primary_metric\": 0.84589842, \"best_metric\": 0.85144366}, {\"run_id\": \"AutoML_455d9474-2160-4678-8424-d7f42202d42a_19\", \"run_number\": 25, \"metric\": null, \"status\": \"Completed\", \"run_type\": \"azureml.scriptrun\", \"training_percent\": \"100\", \"start_time\": \"2021-02-06T05:52:00.176495Z\", \"end_time\": \"2021-02-06T05:53:22.057113Z\", \"created_time\": \"2021-02-06T05:51:47.935841Z\", \"created_time_dt\": \"2021-02-06T05:51:47.935841Z\", \"duration\": \"0:01:34\", \"iteration\": \"19\", \"goal\": \"accuracy_max\", \"run_name\": \"MaxAbsScaler, LightGBM\", \"run_properties\": \"copy=True\", \"primary_metric\": 0.85129328, \"best_metric\": 0.85144366}, {\"run_id\": \"AutoML_455d9474-2160-4678-8424-d7f42202d42a_20\", \"run_number\": 26, \"metric\": null, \"status\": \"Completed\", \"run_type\": \"azureml.scriptrun\", \"training_percent\": \"100\", \"start_time\": \"2021-02-06T05:53:24.496638Z\", \"end_time\": \"2021-02-06T05:54:48.425586Z\", \"created_time\": \"2021-02-06T05:53:13.956164Z\", \"created_time_dt\": \"2021-02-06T05:53:13.956164Z\", \"duration\": \"0:01:34\", \"iteration\": \"20\", \"goal\": \"accuracy_max\", \"run_name\": \"SparseNormalizer, XGBoostClassifier\", \"run_properties\": \"<azureml.automl.runtime.shared.model_wrappers.SparseNormalizer object at 0x7f5afda18dd8\", \"primary_metric\": 0.85024689, \"best_metric\": 0.85144366}, {\"run_id\": \"AutoML_455d9474-2160-4678-8424-d7f42202d42a_21\", \"run_number\": 27, \"metric\": null, \"status\": \"Completed\", \"run_type\": \"azureml.scriptrun\", \"training_percent\": \"100\", \"start_time\": \"2021-02-06T05:53:30.995191Z\", \"end_time\": \"2021-02-06T05:54:59.611989Z\", \"created_time\": \"2021-02-06T05:53:17.859459Z\", \"created_time_dt\": \"2021-02-06T05:53:17.859459Z\", \"duration\": \"0:01:41\", \"iteration\": \"21\", \"goal\": \"accuracy_max\", \"run_name\": \"MaxAbsScaler, RandomForest\", \"run_properties\": \"copy=True\", \"primary_metric\": 0.82941931, \"best_metric\": 0.85144366}, {\"run_id\": \"AutoML_455d9474-2160-4678-8424-d7f42202d42a_22\", \"run_number\": 28, \"metric\": null, \"status\": \"Completed\", \"run_type\": \"azureml.scriptrun\", \"training_percent\": \"100\", \"start_time\": \"2021-02-06T05:53:37.549805Z\", \"end_time\": \"2021-02-06T05:55:40.600508Z\", \"created_time\": \"2021-02-06T05:53:24.562497Z\", \"created_time_dt\": \"2021-02-06T05:53:24.562497Z\", \"duration\": \"0:02:16\", \"iteration\": \"22\", \"goal\": \"accuracy_max\", \"run_name\": \"MaxAbsScaler, ExtremeRandomTrees\", \"run_properties\": \"copy=True\", \"primary_metric\": 0.84934463, \"best_metric\": 0.85144366}, {\"run_id\": \"AutoML_455d9474-2160-4678-8424-d7f42202d42a_23\", \"run_number\": 29, \"metric\": null, \"status\": \"Completed\", \"run_type\": \"azureml.scriptrun\", \"training_percent\": \"100\", \"start_time\": \"2021-02-06T05:55:05.641445Z\", \"end_time\": \"2021-02-06T05:56:15.79082Z\", \"created_time\": \"2021-02-06T05:54:52.336504Z\", \"created_time_dt\": \"2021-02-06T05:54:52.336504Z\", \"duration\": \"0:01:23\", \"iteration\": \"23\", \"goal\": \"accuracy_max\", \"run_name\": \"StandardScalerWrapper, LightGBM\", \"run_properties\": \"<azureml.automl.runtime.shared.model_wrappers.StandardScalerWrapper object at 0x7fd98c782a58\", \"primary_metric\": 0.84210756, \"best_metric\": 0.85144366}, {\"run_id\": \"AutoML_455d9474-2160-4678-8424-d7f42202d42a_24\", \"run_number\": 30, \"metric\": null, \"status\": \"Completed\", \"run_type\": \"azureml.scriptrun\", \"training_percent\": \"100\", \"start_time\": \"2021-02-06T05:55:13.114841Z\", \"end_time\": \"2021-02-06T05:56:19.527205Z\", \"created_time\": \"2021-02-06T05:55:02.311605Z\", \"created_time_dt\": \"2021-02-06T05:55:02.311605Z\", \"duration\": \"0:01:17\", \"iteration\": \"24\", \"goal\": \"accuracy_max\", \"run_name\": \"SparseNormalizer, LightGBM\", \"run_properties\": \"<azureml.automl.runtime.shared.model_wrappers.SparseNormalizer object at 0x7fe12e05fdd8\", \"primary_metric\": 0.84818543, \"best_metric\": 0.85144366}, {\"run_id\": \"AutoML_455d9474-2160-4678-8424-d7f42202d42a_25\", \"run_number\": 31, \"metric\": null, \"status\": \"Completed\", \"run_type\": \"azureml.scriptrun\", \"training_percent\": \"100\", \"start_time\": \"2021-02-06T05:55:58.87378Z\", \"end_time\": \"2021-02-06T05:57:19.061895Z\", \"created_time\": \"2021-02-06T05:55:40.855196Z\", \"created_time_dt\": \"2021-02-06T05:55:40.855196Z\", \"duration\": \"0:01:38\", \"iteration\": \"25\", \"goal\": \"accuracy_max\", \"run_name\": \"TruncatedSVDWrapper, XGBoostClassifier\", \"run_properties\": \"n_components=0.10894736842105263, random_state=None\", \"primary_metric\": 0.72010577, \"best_metric\": 0.85144366}, {\"run_id\": \"AutoML_455d9474-2160-4678-8424-d7f42202d42a_26\", \"run_number\": 32, \"metric\": null, \"status\": \"Completed\", \"run_type\": \"azureml.scriptrun\", \"training_percent\": \"100\", \"start_time\": \"2021-02-06T05:55:58.883307Z\", \"end_time\": \"2021-02-06T05:57:05.549701Z\", \"created_time\": \"2021-02-06T05:55:45.470185Z\", \"created_time_dt\": \"2021-02-06T05:55:45.470185Z\", \"duration\": \"0:01:20\", \"iteration\": \"26\", \"goal\": \"accuracy_max\", \"run_name\": \"MaxAbsScaler, LightGBM\", \"run_properties\": \"copy=True\", \"primary_metric\": 0.83737687, \"best_metric\": 0.85144366}, {\"run_id\": \"AutoML_455d9474-2160-4678-8424-d7f42202d42a_27\", \"run_number\": 33, \"metric\": null, \"status\": \"Completed\", \"run_type\": \"azureml.scriptrun\", \"training_percent\": \"100\", \"start_time\": \"2021-02-06T05:56:30.363395Z\", \"end_time\": \"2021-02-06T05:57:38.062342Z\", \"created_time\": \"2021-02-06T05:56:19.088881Z\", \"created_time_dt\": \"2021-02-06T05:56:19.088881Z\", \"duration\": \"0:01:18\", \"iteration\": \"27\", \"goal\": \"accuracy_max\", \"run_name\": \"MaxAbsScaler, LightGBM\", \"run_properties\": \"copy=True\", \"primary_metric\": 0.84851751, \"best_metric\": 0.85144366}, {\"run_id\": \"AutoML_455d9474-2160-4678-8424-d7f42202d42a_28\", \"run_number\": 34, \"metric\": null, \"status\": \"Completed\", \"run_type\": \"azureml.scriptrun\", \"training_percent\": \"100\", \"start_time\": \"2021-02-06T05:56:36.073661Z\", \"end_time\": \"2021-02-06T05:57:50.00922Z\", \"created_time\": \"2021-02-06T05:56:24.746754Z\", \"created_time_dt\": \"2021-02-06T05:56:24.746754Z\", \"duration\": \"0:01:25\", \"iteration\": \"28\", \"goal\": \"accuracy_max\", \"run_name\": \"SparseNormalizer, XGBoostClassifier\", \"run_properties\": \"<azureml.automl.runtime.shared.model_wrappers.SparseNormalizer object at 0x7fbf6905d160\", \"primary_metric\": 0.84789721, \"best_metric\": 0.85144366}, {\"run_id\": \"AutoML_455d9474-2160-4678-8424-d7f42202d42a_29\", \"run_number\": 35, \"metric\": null, \"status\": \"Completed\", \"run_type\": \"azureml.scriptrun\", \"training_percent\": \"100\", \"start_time\": \"2021-02-06T05:57:23.125751Z\", \"end_time\": \"2021-02-06T05:58:44.416235Z\", \"created_time\": \"2021-02-06T05:57:08.705908Z\", \"created_time_dt\": \"2021-02-06T05:57:08.705908Z\", \"duration\": \"0:01:35\", \"iteration\": \"29\", \"goal\": \"accuracy_max\", \"run_name\": \"MaxAbsScaler, GradientBoosting\", \"run_properties\": \"copy=True\", \"primary_metric\": 0.80713838, \"best_metric\": 0.85144366}, {\"run_id\": \"AutoML_455d9474-2160-4678-8424-d7f42202d42a_30\", \"run_number\": 36, \"metric\": null, \"status\": \"Completed\", \"run_type\": \"azureml.scriptrun\", \"training_percent\": \"100\", \"start_time\": \"2021-02-06T05:57:37.812509Z\", \"end_time\": \"2021-02-06T05:59:09.38706Z\", \"created_time\": \"2021-02-06T05:57:23.810863Z\", \"created_time_dt\": \"2021-02-06T05:57:23.810863Z\", \"duration\": \"0:01:45\", \"iteration\": \"30\", \"goal\": \"accuracy_max\", \"run_name\": \"TruncatedSVDWrapper, XGBoostClassifier\", \"run_properties\": \"n_components=0.01, random_state=None\", \"primary_metric\": 0.72010577, \"best_metric\": 0.85144366}, {\"run_id\": \"AutoML_455d9474-2160-4678-8424-d7f42202d42a_31\", \"run_number\": 37, \"metric\": null, \"status\": \"Completed\", \"run_type\": \"azureml.scriptrun\", \"training_percent\": \"100\", \"start_time\": \"2021-02-06T05:57:54.592904Z\", \"end_time\": \"2021-02-06T05:59:18.859316Z\", \"created_time\": \"2021-02-06T05:57:40.864389Z\", \"created_time_dt\": \"2021-02-06T05:57:40.864389Z\", \"duration\": \"0:01:37\", \"iteration\": \"31\", \"goal\": \"accuracy_max\", \"run_name\": \"SparseNormalizer, ExtremeRandomTrees\", \"run_properties\": \"<azureml.automl.runtime.shared.model_wrappers.SparseNormalizer object at 0x7f69a70110f0\", \"primary_metric\": 0.84520917, \"best_metric\": 0.85144366}, {\"run_id\": \"AutoML_455d9474-2160-4678-8424-d7f42202d42a_32\", \"run_number\": 38, \"metric\": null, \"status\": \"Completed\", \"run_type\": \"azureml.scriptrun\", \"training_percent\": \"100\", \"start_time\": \"2021-02-06T05:58:04.770018Z\", \"end_time\": \"2021-02-06T05:59:54.60322Z\", \"created_time\": \"2021-02-06T05:57:52.440455Z\", \"created_time_dt\": \"2021-02-06T05:57:52.440455Z\", \"duration\": \"0:02:02\", \"iteration\": \"32\", \"goal\": \"accuracy_max\", \"run_name\": \"MaxAbsScaler, RandomForest\", \"run_properties\": \"copy=True\", \"primary_metric\": 0.8462493, \"best_metric\": 0.85144366}, {\"run_id\": \"AutoML_455d9474-2160-4678-8424-d7f42202d42a_33\", \"run_number\": 39, \"metric\": null, \"status\": \"Canceled\", \"run_type\": \"azureml.scriptrun\", \"training_percent\": \"100\", \"start_time\": \"2021-02-06T05:58:42.925425Z\", \"end_time\": \"2021-02-06T06:00:47.991144Z\", \"created_time\": \"2021-02-06T05:58:30.493613Z\", \"created_time_dt\": \"2021-02-06T05:58:30.493613Z\", \"duration\": \"0:02:17\", \"iteration\": \"33\", \"goal\": null, \"run_name\": \"SparseNormalizer, ExtremeRandomTrees\", \"run_properties\": null}, {\"run_id\": \"AutoML_455d9474-2160-4678-8424-d7f42202d42a_34\", \"run_number\": 40, \"metric\": null, \"status\": \"Completed\", \"run_type\": \"azureml.scriptrun\", \"training_percent\": \"100\", \"start_time\": \"2021-02-06T05:58:58.835054Z\", \"end_time\": \"2021-02-06T06:00:38.233811Z\", \"created_time\": \"2021-02-06T05:58:47.057371Z\", \"created_time_dt\": \"2021-02-06T05:58:47.057371Z\", \"duration\": \"0:01:51\", \"iteration\": \"34\", \"goal\": \"accuracy_max\", \"run_name\": \"SparseNormalizer, XGBoostClassifier\", \"run_properties\": \"<azureml.automl.runtime.shared.model_wrappers.SparseNormalizer object at 0x7ff4012fdcf8\", \"primary_metric\": 0.84965163, \"best_metric\": 0.85144366}, {\"run_id\": \"AutoML_455d9474-2160-4678-8424-d7f42202d42a_35\", \"run_number\": 41, \"metric\": null, \"status\": \"Canceled\", \"run_type\": \"azureml.scriptrun\", \"training_percent\": \"100\", \"start_time\": \"2021-02-06T05:59:24.440305Z\", \"end_time\": \"2021-02-06T06:00:46.588232Z\", \"created_time\": \"2021-02-06T05:59:13.095651Z\", \"created_time_dt\": \"2021-02-06T05:59:13.095651Z\", \"duration\": \"0:01:33\", \"iteration\": \"35\", \"goal\": \"accuracy_max\", \"run_name\": \"StandardScalerWrapper, XGBoostClassifier\", \"run_properties\": \"<azureml.automl.runtime.shared.model_wrappers.StandardScalerWrapper object at 0x7fe6314dde80\", \"primary_metric\": 0.85014664, \"best_metric\": 0.85144366}, {\"run_id\": \"AutoML_455d9474-2160-4678-8424-d7f42202d42a_36\", \"run_number\": 42, \"metric\": null, \"status\": \"Canceled\", \"run_type\": \"azureml.scriptrun\", \"training_percent\": \"100\", \"start_time\": \"2021-02-06T05:59:31.914119Z\", \"end_time\": \"2021-02-06T06:00:47.372793Z\", \"created_time\": \"2021-02-06T05:59:21.463324Z\", \"created_time_dt\": \"2021-02-06T05:59:21.463324Z\", \"duration\": \"0:01:25\", \"iteration\": \"36\", \"goal\": \"accuracy_max\", \"run_name\": \"StandardScalerWrapper, XGBoostClassifier\", \"run_properties\": \"<azureml.automl.runtime.shared.model_wrappers.StandardScalerWrapper object at 0x7f8bec5c0198\", \"primary_metric\": 0.84860523, \"best_metric\": 0.85144366}, {\"run_id\": \"AutoML_455d9474-2160-4678-8424-d7f42202d42a_37\", \"run_number\": 43, \"metric\": null, \"status\": \"Canceled\", \"run_type\": \"azureml.scriptrun\", \"training_percent\": \"100\", \"start_time\": \"2021-02-06T06:00:08.731006Z\", \"end_time\": \"2021-02-06T06:00:48.13534Z\", \"created_time\": \"2021-02-06T05:59:57.070073Z\", \"created_time_dt\": \"2021-02-06T05:59:57.070073Z\", \"duration\": \"0:00:51\", \"iteration\": \"37\", \"goal\": null, \"run_name\": \"MaxAbsScaler, LogisticRegression\", \"run_properties\": null}, {\"run_id\": \"AutoML_455d9474-2160-4678-8424-d7f42202d42a_38\", \"run_number\": 44, \"metric\": null, \"status\": \"Completed\", \"run_type\": \"azureml.scriptrun\", \"training_percent\": \"100\", \"start_time\": \"2021-02-06T06:01:08.33283Z\", \"end_time\": \"2021-02-06T06:04:06.184378Z\", \"created_time\": \"2021-02-06T06:00:50.712115Z\", \"created_time_dt\": \"2021-02-06T06:00:50.712115Z\", \"duration\": \"0:03:15\", \"iteration\": \"38\", \"goal\": \"accuracy_max\", \"run_name\": \"VotingEnsemble\", \"run_properties\": \"classification_labels=None,\\n                              estimators=[('1',\\n                                           Pipeline(memory=None,\\n                                                    steps=[('maxabsscaler',\\n                                                            MaxAbsScaler(copy=True\", \"primary_metric\": 0.85224569, \"best_metric\": 0.85224569}], \"children_metrics\": {\"categories\": [0], \"series\": {\"f1_score_micro\": [{\"categories\": [\"0\", \"1\", \"2\", \"3\", \"4\", \"5\", \"6\", \"7\", \"8\", \"9\", \"10\", \"11\", \"12\", \"13\", \"14\", \"15\", \"16\", \"17\", \"18\", \"19\", \"20\", \"21\", \"22\", \"23\", \"24\", \"25\", \"26\", \"27\", \"28\", \"29\", \"30\", \"31\", \"32\", \"34\", \"35\", \"36\", \"38\"], \"mode\": \"markers\", \"name\": \"f1_score_micro\", \"stepped\": false, \"type\": \"scatter\", \"data\": [0.851368469813275, 0.8514436619054765, 0.835960777440955, 0.8206032337414857, 0.8473583579865105, 0.8441565080029878, 0.8508860032690831, 0.8495889785948627, 0.8506541642728017, 0.8507230924675326, 0.8450399642940178, 0.8274329350743004, 0.8421075637808453, 0.8472580879263543, 0.847966133102737, 0.8477656316533053, 0.8453470002899728, 0.8478470833244017, 0.8458984170143709, 0.8512932824322469, 0.8502468949245824, 0.8294193100078433, 0.8493446251519648, 0.8421075637808453, 0.84818542624458, 0.7201057693734635, 0.837376872504894, 0.8485175113525536, 0.8478972127599615, 0.8071383825097378, 0.7201057693734635, 0.8452091705971594, 0.8462492975444345, 0.8496516313104889, 0.8501466382127504, 0.8486052310433969, 0.8522456906701731]}, {\"categories\": [\"0\", \"1\", \"2\", \"3\", \"4\", \"5\", \"6\", \"7\", \"8\", \"9\", \"10\", \"11\", \"12\", \"13\", \"14\", \"15\", \"16\", \"17\", \"18\", \"19\", \"20\", \"21\", \"22\", \"23\", \"24\", \"25\", \"26\", \"27\", \"28\", \"29\", \"30\", \"31\", \"32\", \"34\", \"35\", \"36\", \"38\"], \"mode\": \"lines\", \"name\": \"f1_score_micro_max\", \"stepped\": true, \"type\": \"scatter\", \"data\": [0.851368469813275, 0.8514436619054765, 0.8514436619054765, 0.8514436619054765, 0.8514436619054765, 0.8514436619054765, 0.8514436619054765, 0.8514436619054765, 0.8514436619054765, 0.8514436619054765, 0.8514436619054765, 0.8514436619054765, 0.8514436619054765, 0.8514436619054765, 0.8514436619054765, 0.8514436619054765, 0.8514436619054765, 0.8514436619054765, 0.8514436619054765, 0.8514436619054765, 0.8514436619054765, 0.8514436619054765, 0.8514436619054765, 0.8514436619054765, 0.8514436619054765, 0.8514436619054765, 0.8514436619054765, 0.8514436619054765, 0.8514436619054765, 0.8514436619054765, 0.8514436619054765, 0.8514436619054765, 0.8514436619054765, 0.8514436619054765, 0.8514436619054765, 0.8514436619054765, 0.8522456906701731]}], \"matthews_correlation\": [{\"categories\": [\"0\", \"1\", \"2\", \"3\", \"4\", \"5\", \"6\", \"7\", \"8\", \"9\", \"10\", \"11\", \"12\", \"13\", \"14\", \"15\", \"16\", \"17\", \"18\", \"19\", \"20\", \"21\", \"22\", \"23\", \"24\", \"25\", \"26\", \"27\", \"28\", \"29\", \"30\", \"31\", \"32\", \"34\", \"35\", \"36\", \"38\"], \"mode\": \"markers\", \"name\": \"matthews_correlation\", \"stepped\": false, \"type\": \"scatter\", \"data\": [0.6135741521126027, 0.611795714837392, 0.5717428220294878, 0.5348913941592346, 0.6200207781139347, 0.6155167484840091, 0.6129433237250407, 0.6092233146346917, 0.6120713413397885, 0.6131143748301028, 0.599389378841335, 0.5558827311914901, 0.5979110857842581, 0.602455439388689, 0.6069470855223983, 0.6240053583159055, 0.5977335096622483, 0.6056539408717787, 0.6240316443211604, 0.6125115601822472, 0.6168877484083746, 0.5613320332795786, 0.6191908324160653, 0.5979110857842581, 0.6010969814054649, 0.0, 0.5846327917020491, 0.602972687754887, 0.6243103506033424, 0.48499665457885205, 0.0, 0.6189209275877041, 0.6240371178923574, 0.6132021149142599, 0.6083591627649729, 0.6035383660904402, 0.6172484642540191]}, {\"categories\": [\"0\", \"1\", \"2\", \"3\", \"4\", \"5\", \"6\", \"7\", \"8\", \"9\", \"10\", \"11\", \"12\", \"13\", \"14\", \"15\", \"16\", \"17\", \"18\", \"19\", \"20\", \"21\", \"22\", \"23\", \"24\", \"25\", \"26\", \"27\", \"28\", \"29\", \"30\", \"31\", \"32\", \"34\", \"35\", \"36\", \"38\"], \"mode\": \"lines\", \"name\": \"matthews_correlation_max\", \"stepped\": true, \"type\": \"scatter\", \"data\": [0.6135741521126027, 0.6135741521126027, 0.6135741521126027, 0.6135741521126027, 0.6200207781139347, 0.6200207781139347, 0.6200207781139347, 0.6200207781139347, 0.6200207781139347, 0.6200207781139347, 0.6200207781139347, 0.6200207781139347, 0.6200207781139347, 0.6200207781139347, 0.6200207781139347, 0.6240053583159055, 0.6240053583159055, 0.6240053583159055, 0.6240316443211604, 0.6240316443211604, 0.6240316443211604, 0.6240316443211604, 0.6240316443211604, 0.6240316443211604, 0.6240316443211604, 0.6240316443211604, 0.6240316443211604, 0.6240316443211604, 0.6243103506033424, 0.6243103506033424, 0.6243103506033424, 0.6243103506033424, 0.6243103506033424, 0.6243103506033424, 0.6243103506033424, 0.6243103506033424, 0.6243103506033424]}], \"balanced_accuracy\": [{\"categories\": [\"0\", \"1\", \"2\", \"3\", \"4\", \"5\", \"6\", \"7\", \"8\", \"9\", \"10\", \"11\", \"12\", \"13\", \"14\", \"15\", \"16\", \"17\", \"18\", \"19\", \"20\", \"21\", \"22\", \"23\", \"24\", \"25\", \"26\", \"27\", \"28\", \"29\", \"30\", \"31\", \"32\", \"34\", \"35\", \"36\", \"38\"], \"mode\": \"markers\", \"name\": \"balanced_accuracy\", \"stepped\": false, \"type\": \"scatter\", \"data\": [0.7836504974068615, 0.7769655206394723, 0.7235089669774244, 0.6798328725220104, 0.8086105436472583, 0.8092932319463155, 0.7847718790785939, 0.7822282468321049, 0.7838919997351048, 0.7860861974331991, 0.7321688570098008, 0.6917657847721851, 0.7179435670722499, 0.7735732767142129, 0.7854261254368559, 0.8133164485782138, 0.7350978359974059, 0.7830719644089232, 0.8167180395632411, 0.7808376872520455, 0.7955788454053592, 0.6952856636932809, 0.8028175224543483, 0.7179435670722499, 0.7610928421251028, 0.5, 0.7094930431550867, 0.7505577038646394, 0.8134557119111132, 0.6557003588498791, 0.5, 0.8116705693746773, 0.8161411141729866, 0.7913466333719308, 0.7759031225907029, 0.7498301452791188, 0.7882477612291008]}, {\"categories\": [\"0\", \"1\", \"2\", \"3\", \"4\", \"5\", \"6\", \"7\", \"8\", \"9\", \"10\", \"11\", \"12\", \"13\", \"14\", \"15\", \"16\", \"17\", \"18\", \"19\", \"20\", \"21\", \"22\", \"23\", \"24\", \"25\", \"26\", \"27\", \"28\", \"29\", \"30\", \"31\", \"32\", \"34\", \"35\", \"36\", \"38\"], \"mode\": \"lines\", \"name\": \"balanced_accuracy_max\", \"stepped\": true, \"type\": \"scatter\", \"data\": [0.7836504974068615, 0.7836504974068615, 0.7836504974068615, 0.7836504974068615, 0.8086105436472583, 0.8092932319463155, 0.8092932319463155, 0.8092932319463155, 0.8092932319463155, 0.8092932319463155, 0.8092932319463155, 0.8092932319463155, 0.8092932319463155, 0.8092932319463155, 0.8092932319463155, 0.8133164485782138, 0.8133164485782138, 0.8133164485782138, 0.8167180395632411, 0.8167180395632411, 0.8167180395632411, 0.8167180395632411, 0.8167180395632411, 0.8167180395632411, 0.8167180395632411, 0.8167180395632411, 0.8167180395632411, 0.8167180395632411, 0.8167180395632411, 0.8167180395632411, 0.8167180395632411, 0.8167180395632411, 0.8167180395632411, 0.8167180395632411, 0.8167180395632411, 0.8167180395632411, 0.8167180395632411]}], \"AUC_micro\": [{\"categories\": [\"0\", \"1\", \"2\", \"3\", \"4\", \"5\", \"6\", \"7\", \"8\", \"9\", \"10\", \"11\", \"12\", \"13\", \"14\", \"15\", \"16\", \"17\", \"18\", \"19\", \"20\", \"21\", \"22\", \"23\", \"24\", \"25\", \"26\", \"27\", \"28\", \"29\", \"30\", \"31\", \"32\", \"34\", \"35\", \"36\", \"38\"], \"mode\": \"markers\", \"name\": \"AUC_micro\", \"stepped\": false, \"type\": \"scatter\", \"data\": [0.9260719136174055, 0.9259579464257855, 0.895909978769657, 0.8757377187186164, 0.9039105208485602, 0.8821694893162441, 0.9253615807076887, 0.9244676258159104, 0.9253312351420988, 0.9253128824775917, 0.9221241219107746, 0.878555185812046, 0.9177693353177288, 0.9119643220003939, 0.9227184362961921, 0.9133987861509041, 0.9056456083851391, 0.9229620450139816, 0.9042197127297136, 0.9259407444326306, 0.924068451063922, 0.8820413366570292, 0.9225986235269061, 0.9052718191888971, 0.9236443894444892, 0.7201057693734635, 0.8832715153193215, 0.9234796471683824, 0.9201333683003738, 0.874453712004277, 0.7426561333157864, 0.8751824679197714, 0.8954091080772262, 0.9236295912929215, 0.9253351662625239, 0.9252366330165867, 0.9263170862360457]}, {\"categories\": [\"0\", \"1\", \"2\", \"3\", \"4\", \"5\", \"6\", \"7\", \"8\", \"9\", \"10\", \"11\", \"12\", \"13\", \"14\", \"15\", \"16\", \"17\", \"18\", \"19\", \"20\", \"21\", \"22\", \"23\", \"24\", \"25\", \"26\", \"27\", \"28\", \"29\", \"30\", \"31\", \"32\", \"34\", \"35\", \"36\", \"38\"], \"mode\": \"lines\", \"name\": \"AUC_micro_max\", \"stepped\": true, \"type\": \"scatter\", \"data\": [0.9260719136174055, 0.9260719136174055, 0.9260719136174055, 0.9260719136174055, 0.9260719136174055, 0.9260719136174055, 0.9260719136174055, 0.9260719136174055, 0.9260719136174055, 0.9260719136174055, 0.9260719136174055, 0.9260719136174055, 0.9260719136174055, 0.9260719136174055, 0.9260719136174055, 0.9260719136174055, 0.9260719136174055, 0.9260719136174055, 0.9260719136174055, 0.9260719136174055, 0.9260719136174055, 0.9260719136174055, 0.9260719136174055, 0.9260719136174055, 0.9260719136174055, 0.9260719136174055, 0.9260719136174055, 0.9260719136174055, 0.9260719136174055, 0.9260719136174055, 0.9260719136174055, 0.9260719136174055, 0.9260719136174055, 0.9260719136174055, 0.9260719136174055, 0.9260719136174055, 0.9263170862360457]}], \"average_precision_score_macro\": [{\"categories\": [\"0\", \"1\", \"2\", \"3\", \"4\", \"5\", \"6\", \"7\", \"8\", \"9\", \"10\", \"11\", \"12\", \"13\", \"14\", \"15\", \"16\", \"17\", \"18\", \"19\", \"20\", \"21\", \"22\", \"23\", \"24\", \"25\", \"26\", \"27\", \"28\", \"29\", \"30\", \"31\", \"32\", \"34\", \"35\", \"36\", \"38\"], \"mode\": \"markers\", \"name\": \"average_precision_score_macro\", \"stepped\": false, \"type\": \"scatter\", \"data\": [0.8735422130527905, 0.8733098122425378, 0.8552129240476087, 0.8483081249330677, 0.8587975989125202, 0.8464737984530007, 0.8722554109384077, 0.8703378064511675, 0.8721604562720968, 0.872120480302369, 0.8701356795915416, 0.8609589174722435, 0.8553498034705982, 0.8679968746148659, 0.8678948342274717, 0.8656844798642382, 0.8681294339915435, 0.867965959465949, 0.8623674996367254, 0.8730570313129331, 0.8693254053830943, 0.8590283481027645, 0.8701933283591311, 0.8671781329014749, 0.8697809696918899, 0.5, 0.8682693909910523, 0.8657112286464124, 0.8443672985665215, 0.8494575917791198, 0.5372740468340348, 0.847052444429103, 0.863292870015122, 0.8673912480194501, 0.8704335171810442, 0.8727506726980033, 0.8740168864608657]}, {\"categories\": [\"0\", \"1\", \"2\", \"3\", \"4\", \"5\", \"6\", \"7\", \"8\", \"9\", \"10\", \"11\", \"12\", \"13\", \"14\", \"15\", \"16\", \"17\", \"18\", \"19\", \"20\", \"21\", \"22\", \"23\", \"24\", \"25\", \"26\", \"27\", \"28\", \"29\", \"30\", \"31\", \"32\", \"34\", \"35\", \"36\", \"38\"], \"mode\": \"lines\", \"name\": \"average_precision_score_macro_max\", \"stepped\": true, \"type\": \"scatter\", \"data\": [0.8735422130527905, 0.8735422130527905, 0.8735422130527905, 0.8735422130527905, 0.8735422130527905, 0.8735422130527905, 0.8735422130527905, 0.8735422130527905, 0.8735422130527905, 0.8735422130527905, 0.8735422130527905, 0.8735422130527905, 0.8735422130527905, 0.8735422130527905, 0.8735422130527905, 0.8735422130527905, 0.8735422130527905, 0.8735422130527905, 0.8735422130527905, 0.8735422130527905, 0.8735422130527905, 0.8735422130527905, 0.8735422130527905, 0.8735422130527905, 0.8735422130527905, 0.8735422130527905, 0.8735422130527905, 0.8735422130527905, 0.8735422130527905, 0.8735422130527905, 0.8735422130527905, 0.8735422130527905, 0.8735422130527905, 0.8735422130527905, 0.8735422130527905, 0.8735422130527905, 0.8740168864608657]}], \"precision_score_macro\": [{\"categories\": [\"0\", \"1\", \"2\", \"3\", \"4\", \"5\", \"6\", \"7\", \"8\", \"9\", \"10\", \"11\", \"12\", \"13\", \"14\", \"15\", \"16\", \"17\", \"18\", \"19\", \"20\", \"21\", \"22\", \"23\", \"24\", \"25\", \"26\", \"27\", \"28\", \"29\", \"30\", \"31\", \"32\", \"34\", \"35\", \"36\", \"38\"], \"mode\": \"markers\", \"name\": \"precision_score_macro\", \"stepped\": false, \"type\": \"scatter\", \"data\": [0.8318206655514768, 0.8378661144443832, 0.8695491179320627, 0.8990505036944965, 0.8114618874433603, 0.8062395451222504, 0.829847967877406, 0.8288362528479638, 0.829920994448249, 0.8285201581066686, 0.8876182985600499, 0.9033857206477072, 0.9100837410680047, 0.8323654253124548, 0.8226721190307151, 0.8106969392846561, 0.8799422542712341, 0.8239702359713255, 0.8073853416957327, 0.8339957418239891, 0.8219871820256603, 0.9043093616956664, 0.8165409356753981, 0.9100837410680047, 0.8460077177716979, 0.36005288468673174, 0.9078859016843381, 0.8627756630420886, 0.810862441514481, 0.8949824822863885, 0.36005288468673174, 0.8072727734035372, 0.8079517049039489, 0.8226746345365008, 0.8353713190770791, 0.8645752212787767, 0.8304634446491308]}, {\"categories\": [\"0\", \"1\", \"2\", \"3\", \"4\", \"5\", \"6\", \"7\", \"8\", \"9\", \"10\", \"11\", \"12\", \"13\", \"14\", \"15\", \"16\", \"17\", \"18\", \"19\", \"20\", \"21\", \"22\", \"23\", \"24\", \"25\", \"26\", \"27\", \"28\", \"29\", \"30\", \"31\", \"32\", \"34\", \"35\", \"36\", \"38\"], \"mode\": \"lines\", \"name\": \"precision_score_macro_max\", \"stepped\": true, \"type\": \"scatter\", \"data\": [0.8318206655514768, 0.8378661144443832, 0.8695491179320627, 0.8990505036944965, 0.8990505036944965, 0.8990505036944965, 0.8990505036944965, 0.8990505036944965, 0.8990505036944965, 0.8990505036944965, 0.8990505036944965, 0.9033857206477072, 0.9100837410680047, 0.9100837410680047, 0.9100837410680047, 0.9100837410680047, 0.9100837410680047, 0.9100837410680047, 0.9100837410680047, 0.9100837410680047, 0.9100837410680047, 0.9100837410680047, 0.9100837410680047, 0.9100837410680047, 0.9100837410680047, 0.9100837410680047, 0.9100837410680047, 0.9100837410680047, 0.9100837410680047, 0.9100837410680047, 0.9100837410680047, 0.9100837410680047, 0.9100837410680047, 0.9100837410680047, 0.9100837410680047, 0.9100837410680047, 0.9100837410680047]}], \"accuracy\": [{\"categories\": [\"0\", \"1\", \"2\", \"3\", \"4\", \"5\", \"6\", \"7\", \"8\", \"9\", \"10\", \"11\", \"12\", \"13\", \"14\", \"15\", \"16\", \"17\", \"18\", \"19\", \"20\", \"21\", \"22\", \"23\", \"24\", \"25\", \"26\", \"27\", \"28\", \"29\", \"30\", \"31\", \"32\", \"34\", \"35\", \"36\", \"38\"], \"mode\": \"markers\", \"name\": \"accuracy\", \"stepped\": false, \"type\": \"scatter\", \"data\": [0.851368469813275, 0.8514436619054765, 0.835960777440955, 0.8206032337414859, 0.8473583579865105, 0.8441565080029878, 0.8508860032690831, 0.8495889785948627, 0.8506541642728017, 0.8507230924675326, 0.8450399642940178, 0.8274329350743004, 0.8421075637808453, 0.8472580879263543, 0.847966133102737, 0.8477656316533053, 0.8453470002899728, 0.8478470833244017, 0.8458984170143709, 0.8512932824322469, 0.8502468949245824, 0.8294193100078433, 0.8493446251519648, 0.8421075637808453, 0.84818542624458, 0.7201057693734635, 0.837376872504894, 0.8485175113525536, 0.8478972127599617, 0.8071383825097378, 0.7201057693734635, 0.8452091705971594, 0.8462492975444345, 0.8496516313104889, 0.8501466382127504, 0.8486052310433969, 0.8522456906701731]}, {\"categories\": [\"0\", \"1\", \"2\", \"3\", \"4\", \"5\", \"6\", \"7\", \"8\", \"9\", \"10\", \"11\", \"12\", \"13\", \"14\", \"15\", \"16\", \"17\", \"18\", \"19\", \"20\", \"21\", \"22\", \"23\", \"24\", \"25\", \"26\", \"27\", \"28\", \"29\", \"30\", \"31\", \"32\", \"34\", \"35\", \"36\", \"38\"], \"mode\": \"lines\", \"name\": \"accuracy_max\", \"stepped\": true, \"type\": \"scatter\", \"data\": [0.851368469813275, 0.8514436619054765, 0.8514436619054765, 0.8514436619054765, 0.8514436619054765, 0.8514436619054765, 0.8514436619054765, 0.8514436619054765, 0.8514436619054765, 0.8514436619054765, 0.8514436619054765, 0.8514436619054765, 0.8514436619054765, 0.8514436619054765, 0.8514436619054765, 0.8514436619054765, 0.8514436619054765, 0.8514436619054765, 0.8514436619054765, 0.8514436619054765, 0.8514436619054765, 0.8514436619054765, 0.8514436619054765, 0.8514436619054765, 0.8514436619054765, 0.8514436619054765, 0.8514436619054765, 0.8514436619054765, 0.8514436619054765, 0.8514436619054765, 0.8514436619054765, 0.8514436619054765, 0.8514436619054765, 0.8514436619054765, 0.8514436619054765, 0.8514436619054765, 0.8522456906701731]}], \"log_loss\": [{\"categories\": [\"0\", \"1\", \"2\", \"3\", \"4\", \"5\", \"6\", \"7\", \"8\", \"9\", \"10\", \"11\", \"12\", \"13\", \"14\", \"15\", \"16\", \"17\", \"18\", \"19\", \"20\", \"21\", \"22\", \"23\", \"24\", \"25\", \"26\", \"27\", \"28\", \"29\", \"30\", \"31\", \"32\", \"34\", \"35\", \"36\", \"38\"], \"mode\": \"markers\", \"name\": \"log_loss\", \"stepped\": false, \"type\": \"scatter\", \"data\": [0.3383928391682406, 0.3390721613366857, 0.41739509393063623, 0.46199416626123496, 0.5345811995894166, 0.5601007814992081, 0.33960314622653154, 0.35089573577368205, 0.3393660070289283, 0.33955294522181384, 0.4355712879312833, 0.4614728744015979, 0.4408114924778187, 0.3700916375775284, 0.34330882496515247, 0.3661838571643106, 0.40202765160746096, 0.34267550715552336, 0.3882045959785949, 0.3408274979754201, 0.35374240321905115, 0.4524841007555551, 0.3453813553400612, 0.4270227396597484, 0.35315819495077977, 0.5928569953094265, 0.4607836247422539, 0.3502850943836819, 0.3575159873438825, 0.45526943997557623, 0.5890463078796888, 0.5002195999705582, 0.4782509306331404, 0.4151421169631849, 0.41435497070916166, 0.3558102208473648, 0.34408592564745194]}, {\"categories\": [\"0\", \"1\", \"2\", \"3\", \"4\", \"5\", \"6\", \"7\", \"8\", \"9\", \"10\", \"11\", \"12\", \"13\", \"14\", \"15\", \"16\", \"17\", \"18\", \"19\", \"20\", \"21\", \"22\", \"23\", \"24\", \"25\", \"26\", \"27\", \"28\", \"29\", \"30\", \"31\", \"32\", \"34\", \"35\", \"36\", \"38\"], \"mode\": \"lines\", \"name\": \"log_loss_min\", \"stepped\": true, \"type\": \"scatter\", \"data\": [0.3383928391682406, 0.3383928391682406, 0.3383928391682406, 0.3383928391682406, 0.3383928391682406, 0.3383928391682406, 0.3383928391682406, 0.3383928391682406, 0.3383928391682406, 0.3383928391682406, 0.3383928391682406, 0.3383928391682406, 0.3383928391682406, 0.3383928391682406, 0.3383928391682406, 0.3383928391682406, 0.3383928391682406, 0.3383928391682406, 0.3383928391682406, 0.3383928391682406, 0.3383928391682406, 0.3383928391682406, 0.3383928391682406, 0.3383928391682406, 0.3383928391682406, 0.3383928391682406, 0.3383928391682406, 0.3383928391682406, 0.3383928391682406, 0.3383928391682406, 0.3383928391682406, 0.3383928391682406, 0.3383928391682406, 0.3383928391682406, 0.3383928391682406, 0.3383928391682406, 0.3383928391682406]}], \"precision_score_micro\": [{\"categories\": [\"0\", \"1\", \"2\", \"3\", \"4\", \"5\", \"6\", \"7\", \"8\", \"9\", \"10\", \"11\", \"12\", \"13\", \"14\", \"15\", \"16\", \"17\", \"18\", \"19\", \"20\", \"21\", \"22\", \"23\", \"24\", \"25\", \"26\", \"27\", \"28\", \"29\", \"30\", \"31\", \"32\", \"34\", \"35\", \"36\", \"38\"], \"mode\": \"markers\", \"name\": \"precision_score_micro\", \"stepped\": false, \"type\": \"scatter\", \"data\": [0.851368469813275, 0.8514436619054765, 0.835960777440955, 0.8206032337414859, 0.8473583579865105, 0.8441565080029878, 0.8508860032690831, 0.8495889785948627, 0.8506541642728017, 0.8507230924675326, 0.8450399642940178, 0.8274329350743004, 0.8421075637808453, 0.8472580879263543, 0.847966133102737, 0.8477656316533053, 0.8453470002899728, 0.8478470833244017, 0.8458984170143709, 0.8512932824322469, 0.8502468949245824, 0.8294193100078433, 0.8493446251519648, 0.8421075637808453, 0.84818542624458, 0.7201057693734635, 0.837376872504894, 0.8485175113525536, 0.8478972127599617, 0.8071383825097378, 0.7201057693734635, 0.8452091705971594, 0.8462492975444345, 0.8496516313104889, 0.8501466382127504, 0.8486052310433969, 0.8522456906701731]}, {\"categories\": [\"0\", \"1\", \"2\", \"3\", \"4\", \"5\", \"6\", \"7\", \"8\", \"9\", \"10\", \"11\", \"12\", \"13\", \"14\", \"15\", \"16\", \"17\", \"18\", \"19\", \"20\", \"21\", \"22\", \"23\", \"24\", \"25\", \"26\", \"27\", \"28\", \"29\", \"30\", \"31\", \"32\", \"34\", \"35\", \"36\", \"38\"], \"mode\": \"lines\", \"name\": \"precision_score_micro_max\", \"stepped\": true, \"type\": \"scatter\", \"data\": [0.851368469813275, 0.8514436619054765, 0.8514436619054765, 0.8514436619054765, 0.8514436619054765, 0.8514436619054765, 0.8514436619054765, 0.8514436619054765, 0.8514436619054765, 0.8514436619054765, 0.8514436619054765, 0.8514436619054765, 0.8514436619054765, 0.8514436619054765, 0.8514436619054765, 0.8514436619054765, 0.8514436619054765, 0.8514436619054765, 0.8514436619054765, 0.8514436619054765, 0.8514436619054765, 0.8514436619054765, 0.8514436619054765, 0.8514436619054765, 0.8514436619054765, 0.8514436619054765, 0.8514436619054765, 0.8514436619054765, 0.8514436619054765, 0.8514436619054765, 0.8514436619054765, 0.8514436619054765, 0.8514436619054765, 0.8514436619054765, 0.8514436619054765, 0.8514436619054765, 0.8522456906701731]}], \"AUC_macro\": [{\"categories\": [\"0\", \"1\", \"2\", \"3\", \"4\", \"5\", \"6\", \"7\", \"8\", \"9\", \"10\", \"11\", \"12\", \"13\", \"14\", \"15\", \"16\", \"17\", \"18\", \"19\", \"20\", \"21\", \"22\", \"23\", \"24\", \"25\", \"26\", \"27\", \"28\", \"29\", \"30\", \"31\", \"32\", \"34\", \"35\", \"36\", \"38\"], \"mode\": \"markers\", \"name\": \"AUC_macro\", \"stepped\": false, \"type\": \"scatter\", \"data\": [0.8754141968981649, 0.8750115632756525, 0.8551190398705311, 0.8441459462147476, 0.8576799197871505, 0.8475229306169794, 0.8737890492173717, 0.8719499886458275, 0.873737106082665, 0.8736258246778824, 0.8714178083084475, 0.8589256545937654, 0.863690222654885, 0.8699157989273445, 0.8688000151412059, 0.8678985355530952, 0.8698130289108118, 0.8688224957003875, 0.8649270294546682, 0.8750531064766104, 0.8708631670757265, 0.8570035162788544, 0.8731999017248653, 0.8707061708524927, 0.8712903639045264, 0.5, 0.8688305846096427, 0.8701300519665891, 0.8615518508682696, 0.8468681103055952, 0.5559438136543552, 0.8527758099852006, 0.8649997480310534, 0.8699037948188943, 0.8737440362807156, 0.874792553369538, 0.8758648878830533]}, {\"categories\": [\"0\", \"1\", \"2\", \"3\", \"4\", \"5\", \"6\", \"7\", \"8\", \"9\", \"10\", \"11\", \"12\", \"13\", \"14\", \"15\", \"16\", \"17\", \"18\", \"19\", \"20\", \"21\", \"22\", \"23\", \"24\", \"25\", \"26\", \"27\", \"28\", \"29\", \"30\", \"31\", \"32\", \"34\", \"35\", \"36\", \"38\"], \"mode\": \"lines\", \"name\": \"AUC_macro_max\", \"stepped\": true, \"type\": \"scatter\", \"data\": [0.8754141968981649, 0.8754141968981649, 0.8754141968981649, 0.8754141968981649, 0.8754141968981649, 0.8754141968981649, 0.8754141968981649, 0.8754141968981649, 0.8754141968981649, 0.8754141968981649, 0.8754141968981649, 0.8754141968981649, 0.8754141968981649, 0.8754141968981649, 0.8754141968981649, 0.8754141968981649, 0.8754141968981649, 0.8754141968981649, 0.8754141968981649, 0.8754141968981649, 0.8754141968981649, 0.8754141968981649, 0.8754141968981649, 0.8754141968981649, 0.8754141968981649, 0.8754141968981649, 0.8754141968981649, 0.8754141968981649, 0.8754141968981649, 0.8754141968981649, 0.8754141968981649, 0.8754141968981649, 0.8754141968981649, 0.8754141968981649, 0.8754141968981649, 0.8754141968981649, 0.8758648878830533]}], \"average_precision_score_weighted\": [{\"categories\": [\"0\", \"1\", \"2\", \"3\", \"4\", \"5\", \"6\", \"7\", \"8\", \"9\", \"10\", \"11\", \"12\", \"13\", \"14\", \"15\", \"16\", \"17\", \"18\", \"19\", \"20\", \"21\", \"22\", \"23\", \"24\", \"25\", \"26\", \"27\", \"28\", \"29\", \"30\", \"31\", \"32\", \"34\", \"35\", \"36\", \"38\"], \"mode\": \"markers\", \"name\": \"average_precision_score_weighted\", \"stepped\": false, \"type\": \"scatter\", \"data\": [0.8974982240532243, 0.8970518579663068, 0.8814658879943849, 0.8739434150077032, 0.8838148845797006, 0.8742303172162931, 0.8962174715921571, 0.8943271284595913, 0.8960016649024031, 0.8959567642879392, 0.8940427924503901, 0.8856083564680327, 0.8814195245627803, 0.8923488700600164, 0.8921345056134374, 0.8899273948599979, 0.8917102953353968, 0.8921480276103994, 0.8873872629925469, 0.8968520977897141, 0.8931428993990191, 0.88373288789053, 0.8946815458420939, 0.8913223308916667, 0.8936476820216797, 0.5968982588440592, 0.8923697809305086, 0.8901303292175161, 0.8729155637656429, 0.8720613732625765, 0.6323973279690811, 0.8745021689096226, 0.8882006485388476, 0.8912763499171685, 0.8943695540995048, 0.8964275347531515, 0.8978189301427075]}, {\"categories\": [\"0\", \"1\", \"2\", \"3\", \"4\", \"5\", \"6\", \"7\", \"8\", \"9\", \"10\", \"11\", \"12\", \"13\", \"14\", \"15\", \"16\", \"17\", \"18\", \"19\", \"20\", \"21\", \"22\", \"23\", \"24\", \"25\", \"26\", \"27\", \"28\", \"29\", \"30\", \"31\", \"32\", \"34\", \"35\", \"36\", \"38\"], \"mode\": \"lines\", \"name\": \"average_precision_score_weighted_max\", \"stepped\": true, \"type\": \"scatter\", \"data\": [0.8974982240532243, 0.8974982240532243, 0.8974982240532243, 0.8974982240532243, 0.8974982240532243, 0.8974982240532243, 0.8974982240532243, 0.8974982240532243, 0.8974982240532243, 0.8974982240532243, 0.8974982240532243, 0.8974982240532243, 0.8974982240532243, 0.8974982240532243, 0.8974982240532243, 0.8974982240532243, 0.8974982240532243, 0.8974982240532243, 0.8974982240532243, 0.8974982240532243, 0.8974982240532243, 0.8974982240532243, 0.8974982240532243, 0.8974982240532243, 0.8974982240532243, 0.8974982240532243, 0.8974982240532243, 0.8974982240532243, 0.8974982240532243, 0.8974982240532243, 0.8974982240532243, 0.8974982240532243, 0.8974982240532243, 0.8974982240532243, 0.8974982240532243, 0.8974982240532243, 0.8978189301427075]}], \"recall_score_micro\": [{\"categories\": [\"0\", \"1\", \"2\", \"3\", \"4\", \"5\", \"6\", \"7\", \"8\", \"9\", \"10\", \"11\", \"12\", \"13\", \"14\", \"15\", \"16\", \"17\", \"18\", \"19\", \"20\", \"21\", \"22\", \"23\", \"24\", \"25\", \"26\", \"27\", \"28\", \"29\", \"30\", \"31\", \"32\", \"34\", \"35\", \"36\", \"38\"], \"mode\": \"markers\", \"name\": \"recall_score_micro\", \"stepped\": false, \"type\": \"scatter\", \"data\": [0.851368469813275, 0.8514436619054765, 0.835960777440955, 0.8206032337414859, 0.8473583579865105, 0.8441565080029878, 0.8508860032690831, 0.8495889785948627, 0.8506541642728017, 0.8507230924675326, 0.8450399642940178, 0.8274329350743004, 0.8421075637808453, 0.8472580879263543, 0.847966133102737, 0.8477656316533053, 0.8453470002899728, 0.8478470833244017, 0.8458984170143709, 0.8512932824322469, 0.8502468949245824, 0.8294193100078433, 0.8493446251519648, 0.8421075637808453, 0.84818542624458, 0.7201057693734635, 0.837376872504894, 0.8485175113525536, 0.8478972127599617, 0.8071383825097378, 0.7201057693734635, 0.8452091705971594, 0.8462492975444345, 0.8496516313104889, 0.8501466382127504, 0.8486052310433969, 0.8522456906701731]}, {\"categories\": [\"0\", \"1\", \"2\", \"3\", \"4\", \"5\", \"6\", \"7\", \"8\", \"9\", \"10\", \"11\", \"12\", \"13\", \"14\", \"15\", \"16\", \"17\", \"18\", \"19\", \"20\", \"21\", \"22\", \"23\", \"24\", \"25\", \"26\", \"27\", \"28\", \"29\", \"30\", \"31\", \"32\", \"34\", \"35\", \"36\", \"38\"], \"mode\": \"lines\", \"name\": \"recall_score_micro_max\", \"stepped\": true, \"type\": \"scatter\", \"data\": [0.851368469813275, 0.8514436619054765, 0.8514436619054765, 0.8514436619054765, 0.8514436619054765, 0.8514436619054765, 0.8514436619054765, 0.8514436619054765, 0.8514436619054765, 0.8514436619054765, 0.8514436619054765, 0.8514436619054765, 0.8514436619054765, 0.8514436619054765, 0.8514436619054765, 0.8514436619054765, 0.8514436619054765, 0.8514436619054765, 0.8514436619054765, 0.8514436619054765, 0.8514436619054765, 0.8514436619054765, 0.8514436619054765, 0.8514436619054765, 0.8514436619054765, 0.8514436619054765, 0.8514436619054765, 0.8514436619054765, 0.8514436619054765, 0.8514436619054765, 0.8514436619054765, 0.8514436619054765, 0.8514436619054765, 0.8514436619054765, 0.8514436619054765, 0.8514436619054765, 0.8522456906701731]}], \"AUC_weighted\": [{\"categories\": [\"0\", \"1\", \"2\", \"3\", \"4\", \"5\", \"6\", \"7\", \"8\", \"9\", \"10\", \"11\", \"12\", \"13\", \"14\", \"15\", \"16\", \"17\", \"18\", \"19\", \"20\", \"21\", \"22\", \"23\", \"24\", \"25\", \"26\", \"27\", \"28\", \"29\", \"30\", \"31\", \"32\", \"34\", \"35\", \"36\", \"38\"], \"mode\": \"markers\", \"name\": \"AUC_weighted\", \"stepped\": false, \"type\": \"scatter\", \"data\": [0.8754141968981649, 0.8750115597534055, 0.8551190398705311, 0.8441459462147478, 0.8576799197871505, 0.8475229306169794, 0.8737890493272434, 0.8719499901413812, 0.8737371064996644, 0.8736258259519207, 0.8714178172361139, 0.8589256545937654, 0.863690222654885, 0.8699157989273445, 0.8688000151412059, 0.8678985355530953, 0.8698130289108118, 0.8688224957003875, 0.8649270294546684, 0.8750531064766104, 0.8708631670752901, 0.8570035162788544, 0.8731999017248653, 0.8707061708524927, 0.8712903639045264, 0.5, 0.8688305846096427, 0.8701300519665891, 0.8615518508682698, 0.8468681103055952, 0.5559438136543552, 0.8527758099852006, 0.8649997480310532, 0.8699037948188943, 0.8737440362807156, 0.8747925536498216, 0.8758648878810564]}, {\"categories\": [\"0\", \"1\", \"2\", \"3\", \"4\", \"5\", \"6\", \"7\", \"8\", \"9\", \"10\", \"11\", \"12\", \"13\", \"14\", \"15\", \"16\", \"17\", \"18\", \"19\", \"20\", \"21\", \"22\", \"23\", \"24\", \"25\", \"26\", \"27\", \"28\", \"29\", \"30\", \"31\", \"32\", \"34\", \"35\", \"36\", \"38\"], \"mode\": \"lines\", \"name\": \"AUC_weighted_max\", \"stepped\": true, \"type\": \"scatter\", \"data\": [0.8754141968981649, 0.8754141968981649, 0.8754141968981649, 0.8754141968981649, 0.8754141968981649, 0.8754141968981649, 0.8754141968981649, 0.8754141968981649, 0.8754141968981649, 0.8754141968981649, 0.8754141968981649, 0.8754141968981649, 0.8754141968981649, 0.8754141968981649, 0.8754141968981649, 0.8754141968981649, 0.8754141968981649, 0.8754141968981649, 0.8754141968981649, 0.8754141968981649, 0.8754141968981649, 0.8754141968981649, 0.8754141968981649, 0.8754141968981649, 0.8754141968981649, 0.8754141968981649, 0.8754141968981649, 0.8754141968981649, 0.8754141968981649, 0.8754141968981649, 0.8754141968981649, 0.8754141968981649, 0.8754141968981649, 0.8754141968981649, 0.8754141968981649, 0.8754141968981649, 0.8758648878810564]}], \"average_precision_score_micro\": [{\"categories\": [\"0\", \"1\", \"2\", \"3\", \"4\", \"5\", \"6\", \"7\", \"8\", \"9\", \"10\", \"11\", \"12\", \"13\", \"14\", \"15\", \"16\", \"17\", \"18\", \"19\", \"20\", \"21\", \"22\", \"23\", \"24\", \"25\", \"26\", \"27\", \"28\", \"29\", \"30\", \"31\", \"32\", \"34\", \"35\", \"36\", \"38\"], \"mode\": \"markers\", \"name\": \"average_precision_score_micro\", \"stepped\": false, \"type\": \"scatter\", \"data\": [0.9245521373986945, 0.9242639735487848, 0.8839068002422836, 0.8619110360779143, 0.9003644395272147, 0.8750803835836536, 0.9236860924925591, 0.922601056592813, 0.9235637437895858, 0.9235414971413345, 0.9166443019427136, 0.868123255799139, 0.906161047232611, 0.9002025757792073, 0.9205462540162204, 0.9020399982351405, 0.8917687716616463, 0.9208724760889299, 0.8899638574086769, 0.9242748034120494, 0.9216494567762339, 0.8702228891808899, 0.9198142391339144, 0.8911635680441028, 0.9205305255895887, 0.6585020141087613, 0.8739358746030493, 0.9189422826340653, 0.9050537768980226, 0.8565307642848499, 0.7107475078385038, 0.8655516110343118, 0.8944831754767684, 0.9195783944928133, 0.9222420984536231, 0.9235433417009393, 0.9247367438706243]}, {\"categories\": [\"0\", \"1\", \"2\", \"3\", \"4\", \"5\", \"6\", \"7\", \"8\", \"9\", \"10\", \"11\", \"12\", \"13\", \"14\", \"15\", \"16\", \"17\", \"18\", \"19\", \"20\", \"21\", \"22\", \"23\", \"24\", \"25\", \"26\", \"27\", \"28\", \"29\", \"30\", \"31\", \"32\", \"34\", \"35\", \"36\", \"38\"], \"mode\": \"lines\", \"name\": \"average_precision_score_micro_max\", \"stepped\": true, \"type\": \"scatter\", \"data\": [0.9245521373986945, 0.9245521373986945, 0.9245521373986945, 0.9245521373986945, 0.9245521373986945, 0.9245521373986945, 0.9245521373986945, 0.9245521373986945, 0.9245521373986945, 0.9245521373986945, 0.9245521373986945, 0.9245521373986945, 0.9245521373986945, 0.9245521373986945, 0.9245521373986945, 0.9245521373986945, 0.9245521373986945, 0.9245521373986945, 0.9245521373986945, 0.9245521373986945, 0.9245521373986945, 0.9245521373986945, 0.9245521373986945, 0.9245521373986945, 0.9245521373986945, 0.9245521373986945, 0.9245521373986945, 0.9245521373986945, 0.9245521373986945, 0.9245521373986945, 0.9245521373986945, 0.9245521373986945, 0.9245521373986945, 0.9245521373986945, 0.9245521373986945, 0.9245521373986945, 0.9247367438706243]}], \"weighted_accuracy\": [{\"categories\": [\"0\", \"1\", \"2\", \"3\", \"4\", \"5\", \"6\", \"7\", \"8\", \"9\", \"10\", \"11\", \"12\", \"13\", \"14\", \"15\", \"16\", \"17\", \"18\", \"19\", \"20\", \"21\", \"22\", \"23\", \"24\", \"25\", \"26\", \"27\", \"28\", \"29\", \"30\", \"31\", \"32\", \"34\", \"35\", \"36\", \"38\"], \"mode\": \"markers\", \"name\": \"weighted_accuracy\", \"stepped\": false, \"type\": \"scatter\", \"data\": [0.8971006075577872, 0.901746628859972, 0.9119385449634054, 0.9156532067329801, 0.8735258176512574, 0.8676958568857123, 0.8955395707161639, 0.895091812387526, 0.8957423393222671, 0.8943754861794047, 0.9212829065782238, 0.9190613905739392, 0.9259567441220342, 0.8970433910170584, 0.8902007137747638, 0.8710336580699316, 0.9197996966760208, 0.8915911152972356, 0.8656076071599624, 0.8988777989635286, 0.8871809561723769, 0.9200037860888447, 0.8807697335582926, 0.9259567441220342, 0.9069996353440741, 0.8687449169930576, 0.9237381909269523, 0.91467221977544, 0.8711600762691019, 0.9094744424065541, 0.8687449169930576, 0.8678575405533513, 0.8665852120943679, 0.8890319055002729, 0.9002920967832129, 0.9153099609253564, 0.8954699918850606]}, {\"categories\": [\"0\", \"1\", \"2\", \"3\", \"4\", \"5\", \"6\", \"7\", \"8\", \"9\", \"10\", \"11\", \"12\", \"13\", \"14\", \"15\", \"16\", \"17\", \"18\", \"19\", \"20\", \"21\", \"22\", \"23\", \"24\", \"25\", \"26\", \"27\", \"28\", \"29\", \"30\", \"31\", \"32\", \"34\", \"35\", \"36\", \"38\"], \"mode\": \"lines\", \"name\": \"weighted_accuracy_max\", \"stepped\": true, \"type\": \"scatter\", \"data\": [0.8971006075577872, 0.901746628859972, 0.9119385449634054, 0.9156532067329801, 0.9156532067329801, 0.9156532067329801, 0.9156532067329801, 0.9156532067329801, 0.9156532067329801, 0.9156532067329801, 0.9212829065782238, 0.9212829065782238, 0.9259567441220342, 0.9259567441220342, 0.9259567441220342, 0.9259567441220342, 0.9259567441220342, 0.9259567441220342, 0.9259567441220342, 0.9259567441220342, 0.9259567441220342, 0.9259567441220342, 0.9259567441220342, 0.9259567441220342, 0.9259567441220342, 0.9259567441220342, 0.9259567441220342, 0.9259567441220342, 0.9259567441220342, 0.9259567441220342, 0.9259567441220342, 0.9259567441220342, 0.9259567441220342, 0.9259567441220342, 0.9259567441220342, 0.9259567441220342, 0.9259567441220342]}], \"precision_score_weighted\": [{\"categories\": [\"0\", \"1\", \"2\", \"3\", \"4\", \"5\", \"6\", \"7\", \"8\", \"9\", \"10\", \"11\", \"12\", \"13\", \"14\", \"15\", \"16\", \"17\", \"18\", \"19\", \"20\", \"21\", \"22\", \"23\", \"24\", \"25\", \"26\", \"27\", \"28\", \"29\", \"30\", \"31\", \"32\", \"34\", \"35\", \"36\", \"38\"], \"mode\": \"markers\", \"name\": \"precision_score_weighted\", \"stepped\": false, \"type\": \"scatter\", \"data\": [0.8472795818134822, 0.8481525814065117, 0.8505823691292221, 0.8558488057566285, 0.8469225693936917, 0.8450379892245621, 0.8467002439261572, 0.8454287706580143, 0.8464428518563384, 0.8464913317585097, 0.861945143252799, 0.8608623318142306, 0.8705035881166276, 0.8447536466110396, 0.8434921144094503, 0.8484465482934803, 0.858433809497491, 0.8433313697328005, 0.8486009253666282, 0.8474531393979152, 0.8467262262810475, 0.8621885089747033, 0.8468047135084674, 0.8705035881166276, 0.8475871334349281, 0.518554898795493, 0.8673383155531635, 0.8533537567009681, 0.848569101422836, 0.8487853462427516, 0.518554898795493, 0.8464327132610234, 0.8485661148379565, 0.8454922126454012, 0.8466001563110819, 0.8541145165559396, 0.8481184871036564]}, {\"categories\": [\"0\", \"1\", \"2\", \"3\", \"4\", \"5\", \"6\", \"7\", \"8\", \"9\", \"10\", \"11\", \"12\", \"13\", \"14\", \"15\", \"16\", \"17\", \"18\", \"19\", \"20\", \"21\", \"22\", \"23\", \"24\", \"25\", \"26\", \"27\", \"28\", \"29\", \"30\", \"31\", \"32\", \"34\", \"35\", \"36\", \"38\"], \"mode\": \"lines\", \"name\": \"precision_score_weighted_max\", \"stepped\": true, \"type\": \"scatter\", \"data\": [0.8472795818134822, 0.8481525814065117, 0.8505823691292221, 0.8558488057566285, 0.8558488057566285, 0.8558488057566285, 0.8558488057566285, 0.8558488057566285, 0.8558488057566285, 0.8558488057566285, 0.861945143252799, 0.861945143252799, 0.8705035881166276, 0.8705035881166276, 0.8705035881166276, 0.8705035881166276, 0.8705035881166276, 0.8705035881166276, 0.8705035881166276, 0.8705035881166276, 0.8705035881166276, 0.8705035881166276, 0.8705035881166276, 0.8705035881166276, 0.8705035881166276, 0.8705035881166276, 0.8705035881166276, 0.8705035881166276, 0.8705035881166276, 0.8705035881166276, 0.8705035881166276, 0.8705035881166276, 0.8705035881166276, 0.8705035881166276, 0.8705035881166276, 0.8705035881166276, 0.8705035881166276]}], \"recall_score_macro\": [{\"categories\": [\"0\", \"1\", \"2\", \"3\", \"4\", \"5\", \"6\", \"7\", \"8\", \"9\", \"10\", \"11\", \"12\", \"13\", \"14\", \"15\", \"16\", \"17\", \"18\", \"19\", \"20\", \"21\", \"22\", \"23\", \"24\", \"25\", \"26\", \"27\", \"28\", \"29\", \"30\", \"31\", \"32\", \"34\", \"35\", \"36\", \"38\"], \"mode\": \"markers\", \"name\": \"recall_score_macro\", \"stepped\": false, \"type\": \"scatter\", \"data\": [0.7836504974068615, 0.7769655206394723, 0.7235089669774244, 0.6798328725220104, 0.8086105436472583, 0.8092932319463155, 0.7847718790785939, 0.7822282468321049, 0.7838919997351048, 0.7860861974331991, 0.7321688570098008, 0.6917657847721851, 0.7179435670722499, 0.7735732767142129, 0.7854261254368559, 0.8133164485782138, 0.7350978359974059, 0.7830719644089232, 0.8167180395632411, 0.7808376872520455, 0.7955788454053592, 0.6952856636932809, 0.8028175224543483, 0.7179435670722499, 0.7610928421251028, 0.5, 0.7094930431550867, 0.7505577038646394, 0.8134557119111132, 0.6557003588498791, 0.5, 0.8116705693746773, 0.8161411141729866, 0.7913466333719308, 0.7759031225907029, 0.7498301452791188, 0.7882477612291008]}, {\"categories\": [\"0\", \"1\", \"2\", \"3\", \"4\", \"5\", \"6\", \"7\", \"8\", \"9\", \"10\", \"11\", \"12\", \"13\", \"14\", \"15\", \"16\", \"17\", \"18\", \"19\", \"20\", \"21\", \"22\", \"23\", \"24\", \"25\", \"26\", \"27\", \"28\", \"29\", \"30\", \"31\", \"32\", \"34\", \"35\", \"36\", \"38\"], \"mode\": \"lines\", \"name\": \"recall_score_macro_max\", \"stepped\": true, \"type\": \"scatter\", \"data\": [0.7836504974068615, 0.7836504974068615, 0.7836504974068615, 0.7836504974068615, 0.8086105436472583, 0.8092932319463155, 0.8092932319463155, 0.8092932319463155, 0.8092932319463155, 0.8092932319463155, 0.8092932319463155, 0.8092932319463155, 0.8092932319463155, 0.8092932319463155, 0.8092932319463155, 0.8133164485782138, 0.8133164485782138, 0.8133164485782138, 0.8167180395632411, 0.8167180395632411, 0.8167180395632411, 0.8167180395632411, 0.8167180395632411, 0.8167180395632411, 0.8167180395632411, 0.8167180395632411, 0.8167180395632411, 0.8167180395632411, 0.8167180395632411, 0.8167180395632411, 0.8167180395632411, 0.8167180395632411, 0.8167180395632411, 0.8167180395632411, 0.8167180395632411, 0.8167180395632411, 0.8167180395632411]}], \"f1_score_weighted\": [{\"categories\": [\"0\", \"1\", \"2\", \"3\", \"4\", \"5\", \"6\", \"7\", \"8\", \"9\", \"10\", \"11\", \"12\", \"13\", \"14\", \"15\", \"16\", \"17\", \"18\", \"19\", \"20\", \"21\", \"22\", \"23\", \"24\", \"25\", \"26\", \"27\", \"28\", \"29\", \"30\", \"31\", \"32\", \"34\", \"35\", \"36\", \"38\"], \"mode\": \"markers\", \"name\": \"f1_score_weighted\", \"stepped\": false, \"type\": \"scatter\", \"data\": [0.8455836068005576, 0.8441317170624381, 0.8160176485690369, 0.78801307371011, 0.8470186524232753, 0.844552613669214, 0.8454432731404596, 0.8438722090498146, 0.8450795514552427, 0.8455955393082135, 0.8261644549001745, 0.7980140010706532, 0.8188910424094763, 0.8399021206732196, 0.8433304663886473, 0.8480848735099096, 0.8276230397705092, 0.8427464221789144, 0.8470506682347161, 0.8448997403329417, 0.8470430140073761, 0.8007373775068464, 0.8476814007890756, 0.8188910424094763, 0.8377045718511713, 0.602931750731009, 0.8123326702199595, 0.8349143777235388, 0.8482125757697088, 0.7638235577130551, 0.602931750731009, 0.8457601006236208, 0.8472548478929142, 0.8458198978375269, 0.8428917309294397, 0.8347363330428779, 0.8472255312055694]}, {\"categories\": [\"0\", \"1\", \"2\", \"3\", \"4\", \"5\", \"6\", \"7\", \"8\", \"9\", \"10\", \"11\", \"12\", \"13\", \"14\", \"15\", \"16\", \"17\", \"18\", \"19\", \"20\", \"21\", \"22\", \"23\", \"24\", \"25\", \"26\", \"27\", \"28\", \"29\", \"30\", \"31\", \"32\", \"34\", \"35\", \"36\", \"38\"], \"mode\": \"lines\", \"name\": \"f1_score_weighted_max\", \"stepped\": true, \"type\": \"scatter\", \"data\": [0.8455836068005576, 0.8455836068005576, 0.8455836068005576, 0.8455836068005576, 0.8470186524232753, 0.8470186524232753, 0.8470186524232753, 0.8470186524232753, 0.8470186524232753, 0.8470186524232753, 0.8470186524232753, 0.8470186524232753, 0.8470186524232753, 0.8470186524232753, 0.8470186524232753, 0.8480848735099096, 0.8480848735099096, 0.8480848735099096, 0.8480848735099096, 0.8480848735099096, 0.8480848735099096, 0.8480848735099096, 0.8480848735099096, 0.8480848735099096, 0.8480848735099096, 0.8480848735099096, 0.8480848735099096, 0.8480848735099096, 0.8482125757697088, 0.8482125757697088, 0.8482125757697088, 0.8482125757697088, 0.8482125757697088, 0.8482125757697088, 0.8482125757697088, 0.8482125757697088, 0.8482125757697088]}], \"recall_score_weighted\": [{\"categories\": [\"0\", \"1\", \"2\", \"3\", \"4\", \"5\", \"6\", \"7\", \"8\", \"9\", \"10\", \"11\", \"12\", \"13\", \"14\", \"15\", \"16\", \"17\", \"18\", \"19\", \"20\", \"21\", \"22\", \"23\", \"24\", \"25\", \"26\", \"27\", \"28\", \"29\", \"30\", \"31\", \"32\", \"34\", \"35\", \"36\", \"38\"], \"mode\": \"markers\", \"name\": \"recall_score_weighted\", \"stepped\": false, \"type\": \"scatter\", \"data\": [0.851368469813275, 0.8514436619054765, 0.835960777440955, 0.8206032337414859, 0.8473583579865105, 0.8441565080029878, 0.8508860032690831, 0.8495889785948627, 0.8506541642728017, 0.8507230924675326, 0.8450399642940178, 0.8274329350743004, 0.8421075637808453, 0.8472580879263543, 0.847966133102737, 0.8477656316533053, 0.8453470002899728, 0.8478470833244017, 0.8458984170143709, 0.8512932824322469, 0.8502468949245824, 0.8294193100078433, 0.8493446251519648, 0.8421075637808453, 0.84818542624458, 0.7201057693734635, 0.837376872504894, 0.8485175113525536, 0.8478972127599617, 0.8071383825097378, 0.7201057693734635, 0.8452091705971594, 0.8462492975444345, 0.8496516313104889, 0.8501466382127504, 0.8486052310433969, 0.8522456906701731]}, {\"categories\": [\"0\", \"1\", \"2\", \"3\", \"4\", \"5\", \"6\", \"7\", \"8\", \"9\", \"10\", \"11\", \"12\", \"13\", \"14\", \"15\", \"16\", \"17\", \"18\", \"19\", \"20\", \"21\", \"22\", \"23\", \"24\", \"25\", \"26\", \"27\", \"28\", \"29\", \"30\", \"31\", \"32\", \"34\", \"35\", \"36\", \"38\"], \"mode\": \"lines\", \"name\": \"recall_score_weighted_max\", \"stepped\": true, \"type\": \"scatter\", \"data\": [0.851368469813275, 0.8514436619054765, 0.8514436619054765, 0.8514436619054765, 0.8514436619054765, 0.8514436619054765, 0.8514436619054765, 0.8514436619054765, 0.8514436619054765, 0.8514436619054765, 0.8514436619054765, 0.8514436619054765, 0.8514436619054765, 0.8514436619054765, 0.8514436619054765, 0.8514436619054765, 0.8514436619054765, 0.8514436619054765, 0.8514436619054765, 0.8514436619054765, 0.8514436619054765, 0.8514436619054765, 0.8514436619054765, 0.8514436619054765, 0.8514436619054765, 0.8514436619054765, 0.8514436619054765, 0.8514436619054765, 0.8514436619054765, 0.8514436619054765, 0.8514436619054765, 0.8514436619054765, 0.8514436619054765, 0.8514436619054765, 0.8514436619054765, 0.8514436619054765, 0.8522456906701731]}], \"norm_macro_recall\": [{\"categories\": [\"0\", \"1\", \"2\", \"3\", \"4\", \"5\", \"6\", \"7\", \"8\", \"9\", \"10\", \"11\", \"12\", \"13\", \"14\", \"15\", \"16\", \"17\", \"18\", \"19\", \"20\", \"21\", \"22\", \"23\", \"24\", \"25\", \"26\", \"27\", \"28\", \"29\", \"30\", \"31\", \"32\", \"34\", \"35\", \"36\", \"38\"], \"mode\": \"markers\", \"name\": \"norm_macro_recall\", \"stepped\": false, \"type\": \"scatter\", \"data\": [0.5673009948137231, 0.5539310412789445, 0.4470179339548488, 0.3596657450440209, 0.6172210872945165, 0.6185864638926314, 0.5695437581571879, 0.5644564936642099, 0.5677839994702095, 0.5721723948663984, 0.46433771401960156, 0.3835315695443704, 0.4358871341445001, 0.5471465534284261, 0.5708522508737117, 0.6266328971564274, 0.4701956719948118, 0.5661439288178467, 0.6334360791264821, 0.5616753745040909, 0.5911576908107186, 0.39057132738656175, 0.6056350449086965, 0.4358871341445001, 0.5221856842502054, 0.0, 0.4189860863101732, 0.5011154077292789, 0.6269114238222263, 0.3114007176997583, 0.0, 0.6233411387493547, 0.6322822283459734, 0.5826932667438615, 0.5518062451814058, 0.49966029055823763, 0.5764955224582013]}, {\"categories\": [\"0\", \"1\", \"2\", \"3\", \"4\", \"5\", \"6\", \"7\", \"8\", \"9\", \"10\", \"11\", \"12\", \"13\", \"14\", \"15\", \"16\", \"17\", \"18\", \"19\", \"20\", \"21\", \"22\", \"23\", \"24\", \"25\", \"26\", \"27\", \"28\", \"29\", \"30\", \"31\", \"32\", \"34\", \"35\", \"36\", \"38\"], \"mode\": \"lines\", \"name\": \"norm_macro_recall_max\", \"stepped\": true, \"type\": \"scatter\", \"data\": [0.5673009948137231, 0.5673009948137231, 0.5673009948137231, 0.5673009948137231, 0.6172210872945165, 0.6185864638926314, 0.6185864638926314, 0.6185864638926314, 0.6185864638926314, 0.6185864638926314, 0.6185864638926314, 0.6185864638926314, 0.6185864638926314, 0.6185864638926314, 0.6185864638926314, 0.6266328971564274, 0.6266328971564274, 0.6266328971564274, 0.6334360791264821, 0.6334360791264821, 0.6334360791264821, 0.6334360791264821, 0.6334360791264821, 0.6334360791264821, 0.6334360791264821, 0.6334360791264821, 0.6334360791264821, 0.6334360791264821, 0.6334360791264821, 0.6334360791264821, 0.6334360791264821, 0.6334360791264821, 0.6334360791264821, 0.6334360791264821, 0.6334360791264821, 0.6334360791264821, 0.6334360791264821]}], \"f1_score_macro\": [{\"categories\": [\"0\", \"1\", \"2\", \"3\", \"4\", \"5\", \"6\", \"7\", \"8\", \"9\", \"10\", \"11\", \"12\", \"13\", \"14\", \"15\", \"16\", \"17\", \"18\", \"19\", \"20\", \"21\", \"22\", \"23\", \"24\", \"25\", \"26\", \"27\", \"28\", \"29\", \"30\", \"31\", \"32\", \"34\", \"35\", \"36\", \"38\"], \"mode\": \"markers\", \"name\": \"f1_score_macro\", \"stepped\": false, \"type\": \"scatter\", \"data\": [0.8021421806463579, 0.7988720152838347, 0.7532696680967379, 0.7083633665518387, 0.8098587794000747, 0.8077032340379489, 0.8023121937253027, 0.800099021578695, 0.8017272902061741, 0.8028161224316129, 0.7666689248161667, 0.7233290242859512, 0.7541634063879128, 0.7936945124364485, 0.8004923294183577, 0.811976334515661, 0.7693337936722934, 0.799294257395486, 0.8117692686335172, 0.8007042083750951, 0.8066522660017122, 0.7272871923819029, 0.8091072307562358, 0.7541634063879128, 0.787967004388187, 0.418639894007959, 0.7445396221692786, 0.7818077764057955, 0.8121296160713968, 0.6708714075333801, 0.418639894007959, 0.8093850417384008, 0.8118290917908755, 0.8044243419615451, 0.7973814808003844, 0.7813693297483983, 0.8049526241203928]}, {\"categories\": [\"0\", \"1\", \"2\", \"3\", \"4\", \"5\", \"6\", \"7\", \"8\", \"9\", \"10\", \"11\", \"12\", \"13\", \"14\", \"15\", \"16\", \"17\", \"18\", \"19\", \"20\", \"21\", \"22\", \"23\", \"24\", \"25\", \"26\", \"27\", \"28\", \"29\", \"30\", \"31\", \"32\", \"34\", \"35\", \"36\", \"38\"], \"mode\": \"lines\", \"name\": \"f1_score_macro_max\", \"stepped\": true, \"type\": \"scatter\", \"data\": [0.8021421806463579, 0.8021421806463579, 0.8021421806463579, 0.8021421806463579, 0.8098587794000747, 0.8098587794000747, 0.8098587794000747, 0.8098587794000747, 0.8098587794000747, 0.8098587794000747, 0.8098587794000747, 0.8098587794000747, 0.8098587794000747, 0.8098587794000747, 0.8098587794000747, 0.811976334515661, 0.811976334515661, 0.811976334515661, 0.811976334515661, 0.811976334515661, 0.811976334515661, 0.811976334515661, 0.811976334515661, 0.811976334515661, 0.811976334515661, 0.811976334515661, 0.811976334515661, 0.811976334515661, 0.8121296160713968, 0.8121296160713968, 0.8121296160713968, 0.8121296160713968, 0.8121296160713968, 0.8121296160713968, 0.8121296160713968, 0.8121296160713968, 0.8121296160713968]}]}, \"metricName\": null, \"primaryMetricName\": \"accuracy\", \"showLegend\": false}, \"run_metrics\": [{\"name\": \"experiment_status\", \"run_id\": \"AutoML_455d9474-2160-4678-8424-d7f42202d42a\", \"categories\": [0, 1, 2, 3, 4, 5, 6, 7, 8, 9, 10, 11, 12, 13], \"series\": [{\"data\": [\"DatasetEvaluation\", \"FeaturesGeneration\", \"DatasetFeaturization\", \"DatasetFeaturizationCompleted\", \"DatasetCrossValidationSplit\", \"ModelSelection\", \"BestRunExplainModel\", \"ModelExplanationDataSetSetup\", \"PickSurrogateModel\", \"EngineeredFeatureExplanations\", \"EngineeredFeatureExplanations\", \"RawFeaturesExplanations\", \"RawFeaturesExplanations\", \"BestRunExplainModel\"]}]}, {\"name\": \"experiment_status_description\", \"run_id\": \"AutoML_455d9474-2160-4678-8424-d7f42202d42a\", \"categories\": [0, 1, 2, 3, 4, 5, 6, 7, 8, 9, 10, 11, 12, 13], \"series\": [{\"data\": [\"Gathering dataset statistics.\", \"Generating features for the dataset.\", \"Beginning to fit featurizers and featurize the dataset.\", \"Completed fit featurizers and featurizing the dataset.\", \"Generating individually featurized CV splits.\", \"Beginning model selection.\", \"Best run model explanations started\", \"Model explanations data setup completed\", \"Choosing LightGBM as the surrogate model for explanations\", \"Computation of engineered features started\", \"Computation of engineered features completed\", \"Computation of raw features started\", \"Computation of raw features completed\", \"Best run model explanations completed\"]}]}, {\"name\": \"f1_score_macro\", \"run_id\": \"AutoML_455d9474-2160-4678-8424-d7f42202d42a\", \"categories\": [0], \"series\": [{\"data\": [0.8049526241203928]}]}, {\"name\": \"AUC_micro\", \"run_id\": \"AutoML_455d9474-2160-4678-8424-d7f42202d42a\", \"categories\": [0], \"series\": [{\"data\": [0.9263170862360457]}]}, {\"name\": \"average_precision_score_micro\", \"run_id\": \"AutoML_455d9474-2160-4678-8424-d7f42202d42a\", \"categories\": [0], \"series\": [{\"data\": [0.9247367438706243]}]}, {\"name\": \"accuracy\", \"run_id\": \"AutoML_455d9474-2160-4678-8424-d7f42202d42a\", \"categories\": [0], \"series\": [{\"data\": [0.8522456906701731]}]}, {\"name\": \"precision_score_micro\", \"run_id\": \"AutoML_455d9474-2160-4678-8424-d7f42202d42a\", \"categories\": [0], \"series\": [{\"data\": [0.8522456906701731]}]}, {\"name\": \"balanced_accuracy\", \"run_id\": \"AutoML_455d9474-2160-4678-8424-d7f42202d42a\", \"categories\": [0], \"series\": [{\"data\": [0.7882477612291008]}]}, {\"name\": \"recall_score_weighted\", \"run_id\": \"AutoML_455d9474-2160-4678-8424-d7f42202d42a\", \"categories\": [0], \"series\": [{\"data\": [0.8522456906701731]}]}, {\"name\": \"matthews_correlation\", \"run_id\": \"AutoML_455d9474-2160-4678-8424-d7f42202d42a\", \"categories\": [0], \"series\": [{\"data\": [0.6172484642540191]}]}, {\"name\": \"norm_macro_recall\", \"run_id\": \"AutoML_455d9474-2160-4678-8424-d7f42202d42a\", \"categories\": [0], \"series\": [{\"data\": [0.5764955224582013]}]}, {\"name\": \"precision_score_weighted\", \"run_id\": \"AutoML_455d9474-2160-4678-8424-d7f42202d42a\", \"categories\": [0], \"series\": [{\"data\": [0.8481184871036564]}]}, {\"name\": \"weighted_accuracy\", \"run_id\": \"AutoML_455d9474-2160-4678-8424-d7f42202d42a\", \"categories\": [0], \"series\": [{\"data\": [0.8954699918850606]}]}, {\"name\": \"log_loss\", \"run_id\": \"AutoML_455d9474-2160-4678-8424-d7f42202d42a\", \"categories\": [0], \"series\": [{\"data\": [0.34408592564745194]}]}, {\"name\": \"precision_score_macro\", \"run_id\": \"AutoML_455d9474-2160-4678-8424-d7f42202d42a\", \"categories\": [0], \"series\": [{\"data\": [0.8304634446491308]}]}, {\"name\": \"average_precision_score_weighted\", \"run_id\": \"AutoML_455d9474-2160-4678-8424-d7f42202d42a\", \"categories\": [0], \"series\": [{\"data\": [0.8978189301427075]}]}, {\"name\": \"recall_score_macro\", \"run_id\": \"AutoML_455d9474-2160-4678-8424-d7f42202d42a\", \"categories\": [0], \"series\": [{\"data\": [0.7882477612291008]}]}, {\"name\": \"AUC_weighted\", \"run_id\": \"AutoML_455d9474-2160-4678-8424-d7f42202d42a\", \"categories\": [0], \"series\": [{\"data\": [0.8758648878810564]}]}, {\"name\": \"AUC_macro\", \"run_id\": \"AutoML_455d9474-2160-4678-8424-d7f42202d42a\", \"categories\": [0], \"series\": [{\"data\": [0.8758648878830533]}]}, {\"name\": \"f1_score_weighted\", \"run_id\": \"AutoML_455d9474-2160-4678-8424-d7f42202d42a\", \"categories\": [0], \"series\": [{\"data\": [0.8472255312055694]}]}, {\"name\": \"f1_score_micro\", \"run_id\": \"AutoML_455d9474-2160-4678-8424-d7f42202d42a\", \"categories\": [0], \"series\": [{\"data\": [0.8522456906701731]}]}, {\"name\": \"recall_score_micro\", \"run_id\": \"AutoML_455d9474-2160-4678-8424-d7f42202d42a\", \"categories\": [0], \"series\": [{\"data\": [0.8522456906701731]}]}, {\"name\": \"average_precision_score_macro\", \"run_id\": \"AutoML_455d9474-2160-4678-8424-d7f42202d42a\", \"categories\": [0], \"series\": [{\"data\": [0.8740168864608657]}]}], \"run_logs\": \"\\nRun is completed.\", \"graph\": {}, \"widget_settings\": {\"childWidgetDisplay\": \"popup\", \"send_telemetry\": false, \"log_level\": \"INFO\", \"sdk_version\": \"1.20.0\"}, \"loading\": false}"
     },
     "metadata": {},
     "output_type": "display_data"
    },
    {
     "name": "stdout",
     "output_type": "stream",
     "text": [
      "\n",
      "Current status: FeaturesGeneration. Generating features for the dataset.\n",
      "Current status: DatasetFeaturization. Beginning to fit featurizers and featurize the dataset.\n",
      "Current status: DatasetCrossValidationSplit. Generating individually featurized CV splits.\n",
      "Current status: ModelSelection. Beginning model selection.\n",
      "\n",
      "****************************************************************************************************\n",
      "DATA GUARDRAILS: \n",
      "\n",
      "TYPE:         Class balancing detection\n",
      "STATUS:       PASSED\n",
      "DESCRIPTION:  Your inputs were analyzed, and all classes are balanced in your training data.\n",
      "              Learn more about imbalanced data: https://aka.ms/AutomatedMLImbalancedData\n",
      "\n",
      "****************************************************************************************************\n",
      "\n",
      "TYPE:         Missing feature values imputation\n",
      "STATUS:       PASSED\n",
      "DESCRIPTION:  No feature missing values were detected in the training data.\n",
      "              Learn more about missing value imputation: https://aka.ms/AutomatedMLFeaturization\n",
      "\n",
      "****************************************************************************************************\n",
      "\n",
      "TYPE:         High cardinality feature detection\n",
      "STATUS:       PASSED\n",
      "DESCRIPTION:  Your inputs were analyzed, and no high cardinality features were detected.\n",
      "              Learn more about high cardinality feature handling: https://aka.ms/AutomatedMLFeaturization\n",
      "\n",
      "****************************************************************************************************\n",
      "\n",
      "****************************************************************************************************\n",
      "ITERATION: The iteration being evaluated.\n",
      "PIPELINE: A summary description of the pipeline being evaluated.\n",
      "DURATION: Time taken for the current iteration.\n",
      "METRIC: The result of computing score on the fitted pipeline.\n",
      "BEST: The best observed score thus far.\n",
      "****************************************************************************************************\n",
      "\n",
      " ITERATION   PIPELINE                                       DURATION      METRIC      BEST\n",
      "         2   MaxAbsScaler RandomForest                      0:01:12       0.8360    0.8360\n",
      "         3   MaxAbsScaler RandomForest                      0:01:12       0.8206    0.8360\n",
      "         4   MaxAbsScaler RandomForest                      0:01:15       0.8474    0.8474\n",
      "         0   MaxAbsScaler LightGBM                          0:01:21       0.8514    0.8514\n",
      "         1   MaxAbsScaler XGBoostClassifier                 0:02:18       0.8514    0.8514\n",
      "         5   MaxAbsScaler RandomForest                      0:01:16       0.8442    0.8514\n",
      "         7   SparseNormalizer XGBoostClassifier             0:03:14       0.8496    0.8514\n",
      "        10   SparseNormalizer XGBoostClassifier             0:01:57       0.8450    0.8514\n",
      "         6   SparseNormalizer XGBoostClassifier             0:04:15       0.8509    0.8514\n",
      "         9   SparseNormalizer XGBoostClassifier             0:03:20       0.8507    0.8514\n",
      "         8   SparseNormalizer XGBoostClassifier             0:04:47       0.8507    0.8514\n",
      "        12   SparseNormalizer XGBoostClassifier             0:01:18       0.8421    0.8514\n",
      "        13   StandardScalerWrapper RandomForest             0:01:41       0.8473    0.8514\n",
      "        14   MaxAbsScaler LogisticRegression                0:01:56       0.8480    0.8514\n",
      "        16   MaxAbsScaler LightGBM                          0:01:19       0.8453    0.8514\n",
      "        11   MaxAbsScaler RandomForest                      0:04:33       0.8274    0.8514\n",
      "        18   SparseNormalizer LightGBM                      0:01:15       0.8459    0.8514\n",
      "        19   MaxAbsScaler LightGBM                          0:01:22       0.8513    0.8514\n",
      "        20   SparseNormalizer XGBoostClassifier             0:01:24       0.8502    0.8514\n",
      "        21   MaxAbsScaler RandomForest                      0:01:29       0.8294    0.8514\n",
      "        17   MaxAbsScaler LogisticRegression                0:03:53       0.8478    0.8514\n",
      "        22   MaxAbsScaler ExtremeRandomTrees                0:02:03       0.8493    0.8514\n",
      "        23   StandardScalerWrapper LightGBM                 0:01:10       0.8421    0.8514\n",
      "        24   SparseNormalizer LightGBM                      0:01:06       0.8482    0.8514\n",
      "        26   MaxAbsScaler LightGBM                          0:01:07       0.8374    0.8514\n",
      "        25   TruncatedSVDWrapper XGBoostClassifier          0:01:20       0.7201    0.8514\n",
      "        27   MaxAbsScaler LightGBM                          0:01:08       0.8485    0.8514\n",
      "        28   SparseNormalizer XGBoostClassifier             0:01:14       0.8479    0.8514\n",
      "        15   MaxAbsScaler ExtremeRandomTrees                0:08:10       0.8478    0.8514\n",
      "        29   MaxAbsScaler GradientBoosting                  0:01:21       0.8071    0.8514\n",
      "        30   TruncatedSVDWrapper XGBoostClassifier          0:01:32       0.7201    0.8514\n",
      "        31   SparseNormalizer ExtremeRandomTrees            0:01:24       0.8452    0.8514\n",
      "        32   MaxAbsScaler RandomForest                      0:01:50       0.8462    0.8514\n",
      "        34   SparseNormalizer XGBoostClassifier             0:01:39       0.8497    0.8514\n",
      "        33   SparseNormalizer ExtremeRandomTrees            0:02:05          nan    0.8514\n",
      "        35   StandardScalerWrapper XGBoostClassifier        0:01:22       0.8501    0.8514\n",
      "        36   StandardScalerWrapper XGBoostClassifier        0:01:15       0.8486    0.8514\n",
      "        37   MaxAbsScaler LogisticRegression                0:00:39          nan    0.8514\n",
      "        38    VotingEnsemble                                0:02:58       0.8522    0.8522\n"
     ]
    },
    {
     "data": {
      "text/plain": [
       "{'runId': 'AutoML_455d9474-2160-4678-8424-d7f42202d42a',\n",
       " 'target': 'capstone-compute',\n",
       " 'status': 'Completed',\n",
       " 'startTimeUtc': '2021-02-06T05:38:14.530719Z',\n",
       " 'endTimeUtc': '2021-02-06T06:04:19.657632Z',\n",
       " 'properties': {'num_iterations': '1000',\n",
       "  'training_type': 'TrainFull',\n",
       "  'acquisition_function': 'EI',\n",
       "  'primary_metric': 'accuracy',\n",
       "  'train_split': '0',\n",
       "  'acquisition_parameter': '0',\n",
       "  'num_cross_validation': '5',\n",
       "  'target': 'capstone-compute',\n",
       "  'AMLSettingsJsonString': '{\"path\":null,\"name\":\"loan-default-automl\",\"subscription_id\":\"f5091c60-1c3c-430f-8d81-d802f6bf2414\",\"resource_group\":\"aml-quickstarts-137409\",\"workspace_name\":\"quick-starts-ws-137409\",\"region\":\"southcentralus\",\"compute_target\":\"capstone-compute\",\"spark_service\":null,\"azure_service\":\"remote\",\"many_models\":false,\"pipeline_fetch_max_batch_size\":1,\"iterations\":1000,\"primary_metric\":\"accuracy\",\"task_type\":\"classification\",\"data_script\":null,\"validation_size\":0.0,\"n_cross_validations\":5,\"y_min\":null,\"y_max\":null,\"num_classes\":null,\"featurization\":\"auto\",\"_ignore_package_version_incompatibilities\":false,\"is_timeseries\":false,\"max_cores_per_iteration\":1,\"max_concurrent_iterations\":5,\"iteration_timeout_minutes\":null,\"mem_in_mb\":null,\"enforce_time_on_windows\":false,\"experiment_timeout_minutes\":30,\"experiment_exit_score\":null,\"whitelist_models\":null,\"blacklist_algos\":[\"TensorFlowLinearClassifier\",\"TensorFlowDNN\"],\"supported_models\":[\"KNN\",\"ExtremeRandomTrees\",\"SGD\",\"LightGBM\",\"LinearSVM\",\"AveragedPerceptronClassifier\",\"LogisticRegression\",\"BernoulliNaiveBayes\",\"SVM\",\"MultinomialNaiveBayes\",\"RandomForest\",\"TensorFlowLinearClassifier\",\"XGBoostClassifier\",\"TensorFlowDNN\",\"DecisionTree\",\"GradientBoosting\"],\"auto_blacklist\":true,\"blacklist_samples_reached\":false,\"exclude_nan_labels\":true,\"verbosity\":20,\"_debug_log\":\"azureml_automl.log\",\"show_warnings\":false,\"model_explainability\":true,\"service_url\":null,\"sdk_url\":null,\"sdk_packages\":null,\"enable_onnx_compatible_models\":true,\"enable_split_onnx_featurizer_estimator_models\":false,\"vm_type\":\"STANDARD_DS12_V2\",\"telemetry_verbosity\":20,\"send_telemetry\":true,\"enable_dnn\":false,\"scenario\":\"SDK-1.13.0\",\"environment_label\":null,\"force_text_dnn\":false,\"enable_feature_sweeping\":false,\"enable_early_stopping\":true,\"early_stopping_n_iters\":10,\"metrics\":null,\"enable_ensembling\":true,\"enable_stack_ensembling\":false,\"ensemble_iterations\":15,\"enable_tf\":false,\"enable_subsampling\":null,\"subsample_seed\":null,\"enable_nimbusml\":false,\"enable_streaming\":false,\"force_streaming\":false,\"track_child_runs\":true,\"allowed_private_models\":[],\"label_column_name\":\"loanDefault\",\"weight_column_name\":null,\"cv_split_column_names\":null,\"enable_local_managed\":false,\"_local_managed_run_id\":null,\"cost_mode\":1,\"lag_length\":0,\"metric_operation\":\"maximize\",\"preprocess\":true}',\n",
       "  'DataPrepJsonString': '{\\\\\"training_data\\\\\": \\\\\"{\\\\\\\\\\\\\"blocks\\\\\\\\\\\\\": [{\\\\\\\\\\\\\"id\\\\\\\\\\\\\": \\\\\\\\\\\\\"ce7a3ee3-3c40-421f-97a9-0551e141a14b\\\\\\\\\\\\\", \\\\\\\\\\\\\"type\\\\\\\\\\\\\": \\\\\\\\\\\\\"Microsoft.DPrep.GetDatastoreFilesBlock\\\\\\\\\\\\\", \\\\\\\\\\\\\"arguments\\\\\\\\\\\\\": {\\\\\\\\\\\\\"datastores\\\\\\\\\\\\\": [{\\\\\\\\\\\\\"datastoreName\\\\\\\\\\\\\": \\\\\\\\\\\\\"workspaceblobstore\\\\\\\\\\\\\", \\\\\\\\\\\\\"path\\\\\\\\\\\\\": \\\\\\\\\\\\\"AutoMLData/ee620830-ab7c-4f9d-a982-b3fb5779e73f/\\\\\\\\\\\\\", \\\\\\\\\\\\\"resourceGroup\\\\\\\\\\\\\": \\\\\\\\\\\\\"aml-quickstarts-137409\\\\\\\\\\\\\", \\\\\\\\\\\\\"subscription\\\\\\\\\\\\\": \\\\\\\\\\\\\"f5091c60-1c3c-430f-8d81-d802f6bf2414\\\\\\\\\\\\\", \\\\\\\\\\\\\"workspaceName\\\\\\\\\\\\\": \\\\\\\\\\\\\"quick-starts-ws-137409\\\\\\\\\\\\\"}]}, \\\\\\\\\\\\\"localData\\\\\\\\\\\\\": {}, \\\\\\\\\\\\\"isEnabled\\\\\\\\\\\\\": true, \\\\\\\\\\\\\"name\\\\\\\\\\\\\": null, \\\\\\\\\\\\\"annotation\\\\\\\\\\\\\": null}, {\\\\\\\\\\\\\"id\\\\\\\\\\\\\": \\\\\\\\\\\\\"a635aee9-40b8-4953-b0f9-3c13bd854b26\\\\\\\\\\\\\", \\\\\\\\\\\\\"type\\\\\\\\\\\\\": \\\\\\\\\\\\\"Microsoft.DPrep.ReadParquetFileBlock\\\\\\\\\\\\\", \\\\\\\\\\\\\"arguments\\\\\\\\\\\\\": {\\\\\\\\\\\\\"preview\\\\\\\\\\\\\": false}, \\\\\\\\\\\\\"localData\\\\\\\\\\\\\": {}, \\\\\\\\\\\\\"isEnabled\\\\\\\\\\\\\": true, \\\\\\\\\\\\\"name\\\\\\\\\\\\\": null, \\\\\\\\\\\\\"annotation\\\\\\\\\\\\\": null}, {\\\\\\\\\\\\\"id\\\\\\\\\\\\\": \\\\\\\\\\\\\"022ec624-3315-4d6a-86fd-4bce1d61ec0a\\\\\\\\\\\\\", \\\\\\\\\\\\\"type\\\\\\\\\\\\\": \\\\\\\\\\\\\"Microsoft.DPrep.DropColumnsBlock\\\\\\\\\\\\\", \\\\\\\\\\\\\"arguments\\\\\\\\\\\\\": {\\\\\\\\\\\\\"columns\\\\\\\\\\\\\": {\\\\\\\\\\\\\"type\\\\\\\\\\\\\": 0, \\\\\\\\\\\\\"details\\\\\\\\\\\\\": {\\\\\\\\\\\\\"selectedColumns\\\\\\\\\\\\\": [\\\\\\\\\\\\\"Path\\\\\\\\\\\\\"]}}}, \\\\\\\\\\\\\"localData\\\\\\\\\\\\\": {}, \\\\\\\\\\\\\"isEnabled\\\\\\\\\\\\\": true, \\\\\\\\\\\\\"name\\\\\\\\\\\\\": null, \\\\\\\\\\\\\"annotation\\\\\\\\\\\\\": null}], \\\\\\\\\\\\\"inspectors\\\\\\\\\\\\\": [], \\\\\\\\\\\\\"meta\\\\\\\\\\\\\": {\\\\\\\\\\\\\"savedDatasetId\\\\\\\\\\\\\": \\\\\\\\\\\\\"f599fda6-facc-451b-94e3-40599f050031\\\\\\\\\\\\\", \\\\\\\\\\\\\"datasetType\\\\\\\\\\\\\": \\\\\\\\\\\\\"tabular\\\\\\\\\\\\\", \\\\\\\\\\\\\"subscriptionId\\\\\\\\\\\\\": \\\\\\\\\\\\\"f5091c60-1c3c-430f-8d81-d802f6bf2414\\\\\\\\\\\\\", \\\\\\\\\\\\\"workspaceId\\\\\\\\\\\\\": \\\\\\\\\\\\\"b5823642-74f6-40f5-a64f-66cfc3d43954\\\\\\\\\\\\\", \\\\\\\\\\\\\"workspaceLocation\\\\\\\\\\\\\": \\\\\\\\\\\\\"southcentralus\\\\\\\\\\\\\"}}\\\\\", \\\\\"activities\\\\\": 0}',\n",
       "  'EnableSubsampling': None,\n",
       "  'runTemplate': 'AutoML',\n",
       "  'azureml.runsource': 'automl',\n",
       "  'display_task_type': 'classification',\n",
       "  'dependencies_versions': '{\"azureml-widgets\": \"1.20.0\", \"azureml-train\": \"1.20.0\", \"azureml-train-restclients-hyperdrive\": \"1.20.0\", \"azureml-train-core\": \"1.20.0\", \"azureml-train-automl\": \"1.20.0\", \"azureml-train-automl-runtime\": \"1.20.0\", \"azureml-train-automl-client\": \"1.20.0\", \"azureml-tensorboard\": \"1.20.0\", \"azureml-telemetry\": \"1.20.0\", \"azureml-sdk\": \"1.20.0\", \"azureml-samples\": \"0+unknown\", \"azureml-pipeline\": \"1.20.0\", \"azureml-pipeline-steps\": \"1.20.0\", \"azureml-pipeline-core\": \"1.20.0\", \"azureml-opendatasets\": \"1.20.0\", \"azureml-model-management-sdk\": \"1.0.1b6.post1\", \"azureml-mlflow\": \"1.20.0.post1\", \"azureml-interpret\": \"1.20.0\", \"azureml-explain-model\": \"1.20.0\", \"azureml-defaults\": \"1.20.0\", \"azureml-dataset-runtime\": \"1.20.0\", \"azureml-dataprep\": \"2.7.3\", \"azureml-dataprep-rslex\": \"1.5.0\", \"azureml-dataprep-native\": \"27.0.0\", \"azureml-datadrift\": \"1.20.0\", \"azureml-core\": \"1.20.0\", \"azureml-contrib-services\": \"1.20.0\", \"azureml-contrib-server\": \"1.20.0\", \"azureml-contrib-reinforcementlearning\": \"1.20.0\", \"azureml-contrib-pipeline-steps\": \"1.20.0\", \"azureml-contrib-notebook\": \"1.20.0\", \"azureml-contrib-interpret\": \"1.20.0\", \"azureml-contrib-gbdt\": \"1.20.0\", \"azureml-contrib-fairness\": \"1.20.0\", \"azureml-contrib-dataset\": \"1.20.0\", \"azureml-cli-common\": \"1.20.0\", \"azureml-automl-runtime\": \"1.20.0\", \"azureml-automl-core\": \"1.20.0\", \"azureml-accel-models\": \"1.20.0\"}',\n",
       "  '_aml_system_scenario_identification': 'Remote.Parent',\n",
       "  'ClientType': 'SDK',\n",
       "  'environment_cpu_name': 'AzureML-AutoML',\n",
       "  'environment_cpu_label': 'prod',\n",
       "  'environment_gpu_name': 'AzureML-AutoML-GPU',\n",
       "  'environment_gpu_label': 'prod',\n",
       "  'root_attribution': 'automl',\n",
       "  'attribution': 'AutoML',\n",
       "  'Orchestrator': 'AutoML',\n",
       "  'CancelUri': 'https://southcentralus.experiments.azureml.net/jasmine/v1.0/subscriptions/f5091c60-1c3c-430f-8d81-d802f6bf2414/resourceGroups/aml-quickstarts-137409/providers/Microsoft.MachineLearningServices/workspaces/quick-starts-ws-137409/experimentids/6c7b9c7a-227a-4b8a-b605-dbcddf280a9f/cancel/AutoML_455d9474-2160-4678-8424-d7f42202d42a',\n",
       "  'ClientSdkVersion': '1.21.0',\n",
       "  'snapshotId': '00000000-0000-0000-0000-000000000000',\n",
       "  'SetupRunId': 'AutoML_455d9474-2160-4678-8424-d7f42202d42a_setup',\n",
       "  'SetupRunContainerId': 'dcid.AutoML_455d9474-2160-4678-8424-d7f42202d42a_setup',\n",
       "  'FeaturizationRunJsonPath': 'featurizer_container.json',\n",
       "  'FeaturizationRunId': 'AutoML_455d9474-2160-4678-8424-d7f42202d42a_featurize',\n",
       "  'ProblemInfoJsonString': '{\"dataset_num_categorical\": 0, \"is_sparse\": true, \"subsampling\": false, \"dataset_classes\": 2, \"dataset_features\": 100, \"dataset_samples\": 159596, \"single_frequency_class_detected\": false}',\n",
       "  'ModelExplainRunId': 'AutoML_455d9474-2160-4678-8424-d7f42202d42a_ModelExplain'},\n",
       " 'inputDatasets': [{'dataset': {'id': 'f599fda6-facc-451b-94e3-40599f050031'}, 'consumptionDetails': {'type': 'RunInput', 'inputName': 'training_data', 'mechanism': 'Direct'}}],\n",
       " 'outputDatasets': [],\n",
       " 'logFiles': {},\n",
       " 'submittedBy': 'ODL_User 137409'}"
      ]
     },
     "execution_count": 11,
     "metadata": {},
     "output_type": "execute_result"
    }
   ],
   "source": [
    "RunDetails(remote_run).show()\n",
    "remote_run.wait_for_completion(show_output=True)"
   ]
  },
  {
   "cell_type": "markdown",
   "metadata": {},
   "source": [
    "OPTIONAL: Write about the different models trained and their performance. Why do you think some models did better than others?\n",
    "\n",
    "`RandomForest` is an ensemble of Decision trees. Random Forests performs Bagging internally. It creates several trees and calculates the best possible model for a given dataset. Instead of considering all features while splitting a node, Random Forest algorithm selects the best feature out of a subset of all features. This trades a higher bias for lower variance, which potentially yields a very good model.\n",
    "\n",
    "`XGBoostClassifier` is a powerful gradient boosting method that assigns positive and negative values to every decision made. All Trees are weak learners and provide decisions slightly better than a random guess. But collectively averaged out, XGBoost performs really well.\n",
    "\n",
    "`VotingEnsemble` which happens to be the best model from the run, uses diverse algorithms and then ensemble them to predict the final output. Say, you use a Random Forest Classifier, XGBoost Classifier, SVM Classifier, Linear Regression etc.; models are pitted against each other and selected upon best performance by voting using the VotingClassifier Class from sklearn.ensemble. This probably explains why it turned out to be the best."
   ]
  },
  {
   "cell_type": "markdown",
   "metadata": {},
   "source": [
    "## Best Model\n",
    "\n",
    "Get the best model from the automl experiments and display all the properties of the model.\n",
    "\n"
   ]
  },
  {
   "cell_type": "code",
   "execution_count": 12,
   "metadata": {
    "gather": {
     "logged": 1598431425670
    },
    "jupyter": {
     "outputs_hidden": false,
     "source_hidden": false
    },
    "nteract": {
     "transient": {
      "deleting": false
     }
    }
   },
   "outputs": [
    {
     "name": "stderr",
     "output_type": "stream",
     "text": [
      "WARNING:root:The version of the SDK does not match the version the model was trained on.\n",
      "WARNING:root:The consistency in the result may not be guaranteed.\n",
      "WARNING:root:Package:azureml-automl-core, training version:1.21.0, current version:1.20.0\n",
      "Package:azureml-automl-runtime, training version:1.21.0, current version:1.20.0\n",
      "Package:azureml-core, training version:1.21.0.post1, current version:1.20.0\n",
      "Package:azureml-dataprep, training version:2.8.2, current version:2.7.3\n",
      "Package:azureml-dataprep-native, training version:28.0.0, current version:27.0.0\n",
      "Package:azureml-dataprep-rslex, training version:1.6.0, current version:1.5.0\n",
      "Package:azureml-dataset-runtime, training version:1.21.0, current version:1.20.0\n",
      "Package:azureml-defaults, training version:1.21.0, current version:1.20.0\n",
      "Package:azureml-interpret, training version:1.21.0, current version:1.20.0\n",
      "Package:azureml-pipeline-core, training version:1.21.0, current version:1.20.0\n",
      "Package:azureml-telemetry, training version:1.21.0, current version:1.20.0\n",
      "Package:azureml-train-automl-client, training version:1.21.0, current version:1.20.0\n",
      "Package:azureml-train-automl-runtime, training version:1.21.0, current version:1.20.0\n",
      "WARNING:root:Please ensure the version of your local conda dependencies match the version on which your model was trained in order to properly retrieve your model.\n"
     ]
    },
    {
     "name": "stdout",
     "output_type": "stream",
     "text": [
      "Run(Experiment: loan-default-automl,\n",
      "Id: AutoML_455d9474-2160-4678-8424-d7f42202d42a_38,\n",
      "Type: azureml.scriptrun,\n",
      "Status: Completed)\n",
      "recall_score_micro: 0.8522456906701731\n",
      "average_precision_score_macro: 0.8740168864608657\n",
      "norm_macro_recall: 0.5764955224582013\n",
      "f1_score_micro: 0.8522456906701731\n",
      "f1_score_weighted: 0.8472255312055694\n",
      "AUC_macro: 0.8758648878830533\n",
      "AUC_micro: 0.9263170862360457\n",
      "precision_score_micro: 0.8522456906701731\n",
      "accuracy: 0.8522456906701731\n",
      "precision_score_weighted: 0.8481184871036564\n",
      "balanced_accuracy: 0.7882477612291008\n",
      "matthews_correlation: 0.6172484642540191\n",
      "recall_score_weighted: 0.8522456906701731\n",
      "f1_score_macro: 0.8049526241203928\n",
      "average_precision_score_micro: 0.9247367438706243\n",
      "average_precision_score_weighted: 0.8978189301427075\n",
      "AUC_weighted: 0.8758648878810564\n",
      "log_loss: 0.34408592564745194\n",
      "weighted_accuracy: 0.8954699918850606\n",
      "precision_score_macro: 0.8304634446491308\n",
      "recall_score_macro: 0.7882477612291008\n",
      "confusion_matrix: aml://artifactId/ExperimentRun/dcid.AutoML_455d9474-2160-4678-8424-d7f42202d42a_38/confusion_matrix\n",
      "accuracy_table: aml://artifactId/ExperimentRun/dcid.AutoML_455d9474-2160-4678-8424-d7f42202d42a_38/accuracy_table\n"
     ]
    }
   ],
   "source": [
    "# retrieve the best automl model\n",
    "\n",
    "best_automl_run, fitted_model = remote_run.get_output()\n",
    "print(best_automl_run)\n",
    "\n",
    "# returns the various metric values for the best run\n",
    "best_run_metrics = best_automl_run.get_metrics()\n",
    "for metric_name in best_run_metrics:\n",
    "    metric = best_run_metrics[metric_name]\n",
    "    print('{}: {}'.format(metric_name, metric))"
   ]
  },
  {
   "cell_type": "code",
   "execution_count": 13,
   "metadata": {
    "scrolled": false
   },
   "outputs": [
    {
     "name": "stdout",
     "output_type": "stream",
     "text": [
      "datatransformer\n",
      "{'enable_dnn': None,\n",
      " 'enable_feature_sweeping': None,\n",
      " 'feature_sweeping_config': None,\n",
      " 'feature_sweeping_timeout': None,\n",
      " 'featurization_config': None,\n",
      " 'force_text_dnn': None,\n",
      " 'is_cross_validation': None,\n",
      " 'is_onnx_compatible': None,\n",
      " 'logger': None,\n",
      " 'observer': None,\n",
      " 'task': None,\n",
      " 'working_dir': None}\n",
      "\n",
      "prefittedsoftvotingclassifier\n",
      "{'estimators': ['1', '0', '19', '6', '9', '35', '14', '28'],\n",
      " 'weights': [0.2, 0.1, 0.1, 0.1, 0.2, 0.1, 0.1, 0.1]}\n",
      "\n",
      "1 - maxabsscaler\n",
      "{'copy': True}\n",
      "\n",
      "1 - xgboostclassifier\n",
      "{'base_score': 0.5,\n",
      " 'booster': 'gbtree',\n",
      " 'colsample_bylevel': 1,\n",
      " 'colsample_bynode': 1,\n",
      " 'colsample_bytree': 1,\n",
      " 'gamma': 0,\n",
      " 'learning_rate': 0.1,\n",
      " 'max_delta_step': 0,\n",
      " 'max_depth': 3,\n",
      " 'min_child_weight': 1,\n",
      " 'missing': nan,\n",
      " 'n_estimators': 100,\n",
      " 'n_jobs': 1,\n",
      " 'nthread': None,\n",
      " 'objective': 'binary:logistic',\n",
      " 'random_state': 0,\n",
      " 'reg_alpha': 0,\n",
      " 'reg_lambda': 1,\n",
      " 'scale_pos_weight': 1,\n",
      " 'seed': None,\n",
      " 'silent': None,\n",
      " 'subsample': 1,\n",
      " 'tree_method': 'auto',\n",
      " 'verbose': -10,\n",
      " 'verbosity': 0}\n",
      "\n",
      "0 - maxabsscaler\n",
      "{'copy': True}\n",
      "\n",
      "0 - lightgbmclassifier\n",
      "{'boosting_type': 'gbdt',\n",
      " 'class_weight': None,\n",
      " 'colsample_bytree': 1.0,\n",
      " 'importance_type': 'split',\n",
      " 'learning_rate': 0.1,\n",
      " 'max_depth': -1,\n",
      " 'min_child_samples': 20,\n",
      " 'min_child_weight': 0.001,\n",
      " 'min_split_gain': 0.0,\n",
      " 'n_estimators': 100,\n",
      " 'n_jobs': 1,\n",
      " 'num_leaves': 31,\n",
      " 'objective': None,\n",
      " 'random_state': None,\n",
      " 'reg_alpha': 0.0,\n",
      " 'reg_lambda': 0.0,\n",
      " 'silent': True,\n",
      " 'subsample': 1.0,\n",
      " 'subsample_for_bin': 200000,\n",
      " 'subsample_freq': 0,\n",
      " 'verbose': -10}\n",
      "\n",
      "19 - maxabsscaler\n",
      "{'copy': True}\n",
      "\n",
      "19 - lightgbmclassifier\n",
      "{'boosting_type': 'gbdt',\n",
      " 'class_weight': None,\n",
      " 'colsample_bytree': 0.8911111111111111,\n",
      " 'importance_type': 'split',\n",
      " 'learning_rate': 0.04211105263157895,\n",
      " 'max_bin': 270,\n",
      " 'max_depth': 7,\n",
      " 'min_child_samples': 4955,\n",
      " 'min_child_weight': 1,\n",
      " 'min_split_gain': 0.8421052631578947,\n",
      " 'n_estimators': 100,\n",
      " 'n_jobs': 1,\n",
      " 'num_leaves': 188,\n",
      " 'objective': None,\n",
      " 'random_state': None,\n",
      " 'reg_alpha': 0.6842105263157894,\n",
      " 'reg_lambda': 0.10526315789473684,\n",
      " 'silent': True,\n",
      " 'subsample': 0.5942105263157895,\n",
      " 'subsample_for_bin': 200000,\n",
      " 'subsample_freq': 0,\n",
      " 'verbose': -10}\n",
      "\n",
      "6 - sparsenormalizer\n",
      "{'copy': True, 'norm': 'l2'}\n",
      "\n",
      "6 - xgboostclassifier\n",
      "{'base_score': 0.5,\n",
      " 'booster': 'gbtree',\n",
      " 'colsample_bylevel': 1,\n",
      " 'colsample_bynode': 1,\n",
      " 'colsample_bytree': 0.5,\n",
      " 'eta': 0.1,\n",
      " 'gamma': 0,\n",
      " 'learning_rate': 0.1,\n",
      " 'max_delta_step': 0,\n",
      " 'max_depth': 6,\n",
      " 'max_leaves': 15,\n",
      " 'min_child_weight': 1,\n",
      " 'missing': nan,\n",
      " 'n_estimators': 100,\n",
      " 'n_jobs': 1,\n",
      " 'nthread': None,\n",
      " 'objective': 'reg:logistic',\n",
      " 'random_state': 0,\n",
      " 'reg_alpha': 0,\n",
      " 'reg_lambda': 2.0833333333333335,\n",
      " 'scale_pos_weight': 1,\n",
      " 'seed': None,\n",
      " 'silent': None,\n",
      " 'subsample': 1,\n",
      " 'tree_method': 'auto',\n",
      " 'verbose': -10,\n",
      " 'verbosity': 0}\n",
      "\n",
      "9 - sparsenormalizer\n",
      "{'copy': True, 'norm': 'max'}\n",
      "\n",
      "9 - xgboostclassifier\n",
      "{'base_score': 0.5,\n",
      " 'booster': 'gbtree',\n",
      " 'colsample_bylevel': 1,\n",
      " 'colsample_bynode': 1,\n",
      " 'colsample_bytree': 0.7,\n",
      " 'eta': 0.001,\n",
      " 'gamma': 0,\n",
      " 'learning_rate': 0.1,\n",
      " 'max_delta_step': 0,\n",
      " 'max_depth': 4,\n",
      " 'max_leaves': 7,\n",
      " 'min_child_weight': 1,\n",
      " 'missing': nan,\n",
      " 'n_estimators': 100,\n",
      " 'n_jobs': 1,\n",
      " 'nthread': None,\n",
      " 'objective': 'reg:logistic',\n",
      " 'random_state': 0,\n",
      " 'reg_alpha': 0.3125,\n",
      " 'reg_lambda': 1.875,\n",
      " 'scale_pos_weight': 1,\n",
      " 'seed': None,\n",
      " 'silent': None,\n",
      " 'subsample': 1,\n",
      " 'tree_method': 'auto',\n",
      " 'verbose': -10,\n",
      " 'verbosity': 0}\n",
      "\n",
      "35 - standardscalerwrapper\n",
      "{'class_name': 'StandardScaler',\n",
      " 'copy': True,\n",
      " 'module_name': 'sklearn.preprocessing._data',\n",
      " 'with_mean': False,\n",
      " 'with_std': False}\n",
      "\n",
      "35 - xgboostclassifier\n",
      "{'base_score': 0.5,\n",
      " 'booster': 'gbtree',\n",
      " 'colsample_bylevel': 0.8,\n",
      " 'colsample_bynode': 1,\n",
      " 'colsample_bytree': 1,\n",
      " 'eta': 0.05,\n",
      " 'gamma': 0,\n",
      " 'learning_rate': 0.1,\n",
      " 'max_delta_step': 0,\n",
      " 'max_depth': 6,\n",
      " 'max_leaves': 15,\n",
      " 'min_child_weight': 1,\n",
      " 'missing': nan,\n",
      " 'n_estimators': 10,\n",
      " 'n_jobs': 1,\n",
      " 'nthread': None,\n",
      " 'objective': 'reg:logistic',\n",
      " 'random_state': 0,\n",
      " 'reg_alpha': 0,\n",
      " 'reg_lambda': 2.0833333333333335,\n",
      " 'scale_pos_weight': 1,\n",
      " 'seed': None,\n",
      " 'silent': None,\n",
      " 'subsample': 1,\n",
      " 'tree_method': 'auto',\n",
      " 'verbose': -10,\n",
      " 'verbosity': 0}\n",
      "\n",
      "14 - maxabsscaler\n",
      "{'copy': True}\n",
      "\n",
      "14 - logisticregression\n",
      "{'C': 2.559547922699533,\n",
      " 'class_weight': None,\n",
      " 'dual': False,\n",
      " 'fit_intercept': True,\n",
      " 'intercept_scaling': 1,\n",
      " 'l1_ratio': None,\n",
      " 'max_iter': 100,\n",
      " 'multi_class': 'ovr',\n",
      " 'n_jobs': 1,\n",
      " 'penalty': 'l2',\n",
      " 'random_state': None,\n",
      " 'solver': 'saga',\n",
      " 'tol': 0.0001,\n",
      " 'verbose': 0,\n",
      " 'warm_start': False}\n",
      "\n",
      "28 - sparsenormalizer\n",
      "{'copy': True, 'norm': 'l1'}\n",
      "\n",
      "28 - xgboostclassifier\n",
      "{'base_score': 0.5,\n",
      " 'booster': 'gbtree',\n",
      " 'colsample_bylevel': 1,\n",
      " 'colsample_bynode': 1,\n",
      " 'colsample_bytree': 0.8,\n",
      " 'eta': 0.5,\n",
      " 'gamma': 0,\n",
      " 'grow_policy': 'lossguide',\n",
      " 'learning_rate': 0.1,\n",
      " 'max_bin': 7,\n",
      " 'max_delta_step': 0,\n",
      " 'max_depth': 7,\n",
      " 'max_leaves': 3,\n",
      " 'min_child_weight': 1,\n",
      " 'missing': nan,\n",
      " 'n_estimators': 25,\n",
      " 'n_jobs': 1,\n",
      " 'nthread': None,\n",
      " 'objective': 'reg:logistic',\n",
      " 'random_state': 0,\n",
      " 'reg_alpha': 1.875,\n",
      " 'reg_lambda': 2.5,\n",
      " 'scale_pos_weight': 1,\n",
      " 'seed': None,\n",
      " 'silent': None,\n",
      " 'subsample': 0.8,\n",
      " 'tree_method': 'hist',\n",
      " 'verbose': -10,\n",
      " 'verbosity': 0}\n",
      "\n"
     ]
    }
   ],
   "source": [
    "# parameters of the best model\n",
    "def print_model(model, prefix=\"\"):\n",
    "    for step in model.steps:\n",
    "        print(prefix + step[0])\n",
    "        if hasattr(step[1], 'estimators') and hasattr(step[1], 'weights'):\n",
    "            pprint({'estimators': list(\n",
    "                e[0] for e in step[1].estimators), 'weights': step[1].weights})\n",
    "            print()\n",
    "            for estimator in step[1].estimators:\n",
    "                print_model(estimator[1], estimator[0] + ' - ')\n",
    "        else:\n",
    "            pprint(step[1].get_params())\n",
    "            print()\n",
    "\n",
    "print_model(fitted_model)"
   ]
  },
  {
   "cell_type": "code",
   "execution_count": 14,
   "metadata": {
    "gather": {
     "logged": 1598431426111
    },
    "jupyter": {
     "outputs_hidden": false,
     "source_hidden": false
    },
    "nteract": {
     "transient": {
      "deleting": false
     }
    }
   },
   "outputs": [
    {
     "name": "stdout",
     "output_type": "stream",
     "text": [
      "model_automl version: 1\n",
      "\t Training context : Auto ML\n",
      "\t Accuracy : 0.8522456906701731\n",
      "\n",
      "\n",
      "HypDriveBestModel version: 1\n",
      "\t Accuracy : 0.7167860648718645\n",
      "\t Regularization Strength (C) : 2.0\n",
      "\t Maximum Iterations (max_iter) : 150\n",
      "\n",
      "\n"
     ]
    }
   ],
   "source": [
    "# register the model\n",
    "bestModel = best_automl_run.register_model(model_path='outputs/model.pkl', model_name='model_automl',\n",
    "                        tags={'Training context':'Auto ML'},\n",
    "                        properties={'Accuracy': best_run_metrics['accuracy']})\n",
    "\n",
    "# list the registered trained models\n",
    "for model in Model.list(ws):\n",
    "    print(model.name, 'version:', model.version)\n",
    "    for tag_name in model.tags:\n",
    "        tag = model.tags[tag_name]\n",
    "        print ('\\t',tag_name, ':', tag)\n",
    "    for prop_name in model.properties:\n",
    "        prop = model.properties[prop_name]\n",
    "        print ('\\t',prop_name, ':', prop)\n",
    "    print('\\n')"
   ]
  },
  {
   "source": [
    "Out of the two models generated, the automl appears to be the best with an Accuracy of `85.22%`. Hence, the automl model is the chosen model for deployment.\n",
    "\n",
    "However, before deployment let's export or model with ONNX - Open Neural Network Exchange. This model format allows for conversion of models from one framework to another, or even to deploy trained models to devices such as iOS or Android devices."
   ],
   "cell_type": "markdown",
   "metadata": {}
  },
  {
   "cell_type": "markdown",
   "metadata": {},
   "source": [
    "## Get model with ONNX"
   ]
  },
  {
   "cell_type": "code",
   "execution_count": 15,
   "metadata": {},
   "outputs": [],
   "source": [
    "best_run , onnx_model = remote_run.get_output(return_onnx_model=True)\n",
    "onnx_path = \"./best_model.onnx\"\n",
    "OnnxConverter.save_onnx_model(onnx_model, onnx_path)"
   ]
  },
  {
   "cell_type": "code",
   "execution_count": 16,
   "metadata": {},
   "outputs": [
    {
     "name": "stdout",
     "output_type": "stream",
     "text": [
      "[1 1 1 ... 1 1 1]\n",
      "[[0.31244847 0.68755156]\n",
      " [0.3004808  0.6995192 ]\n",
      " [0.290097   0.709903  ]\n",
      " ...\n",
      " [0.17100433 0.8289957 ]\n",
      " [0.29687423 0.70312583]\n",
      " [0.20969594 0.79030406]]\n"
     ]
    }
   ],
   "source": [
    "if sys.version_info < OnnxConvertConstants.OnnxIncompatiblePythonVersion:\n",
    "    python_version_compatible = True\n",
    "else:\n",
    "    python_version_compatible = False\n",
    "\n",
    "import onnxruntime\n",
    "from azureml.automl.runtime.onnx_convert import OnnxInferenceHelper\n",
    "\n",
    "def get_onnx_res(run):\n",
    "    res_path = 'onnx_resource.json'\n",
    "    run.download_file(name=constants.MODEL_RESOURCE_PATH_ONNX, output_file_path=res_path)\n",
    "    with open(res_path) as f:\n",
    "        onnx_res = json.load(f)\n",
    "    return onnx_res\n",
    "\n",
    "if python_version_compatible:\n",
    "    model_bytes = onnx_model.SerializeToString()\n",
    "    onnx_res = get_onnx_res(best_run)\n",
    "\n",
    "    onnxrt_helper = OnnxInferenceHelper(model_bytes, onnx_res)\n",
    "    pred_onnx, pred_prob_onnx = onnxrt_helper.predict(test)\n",
    "\n",
    "    print(pred_onnx)\n",
    "    print(pred_prob_onnx)\n",
    "else:\n",
    "    print('Please use an updated version of Python to run the inference helper.')"
   ]
  },
  {
   "cell_type": "markdown",
   "metadata": {},
   "source": [
    "## Model Deployment\n",
    "\n",
    "Deploying the best model: AutoML."
   ]
  },
  {
   "source": [
    "Register the model, create an inference config and deploy the model as a web service."
   ],
   "cell_type": "markdown",
   "metadata": {}
  },
  {
   "cell_type": "code",
   "execution_count": 17,
   "metadata": {
    "gather": {
     "logged": 1598431435189
    },
    "jupyter": {
     "outputs_hidden": false,
     "source_hidden": false
    },
    "nteract": {
     "transient": {
      "deleting": false
     }
    }
   },
   "outputs": [],
   "source": [
    "# download scoring file \n",
    "best_automl_run.download_file('outputs/scoring_file_v_1_0_0.py', 'score.py')\n",
    "\n",
    "# download environment file\n",
    "best_automl_run.download_file('outputs/conda_env_v_1_0_0.yml', 'envFile.yml')"
   ]
  },
  {
   "cell_type": "code",
   "execution_count": 18,
   "metadata": {
    "gather": {
     "logged": 1598432707604
    },
    "jupyter": {
     "outputs_hidden": false,
     "source_hidden": false
    },
    "nteract": {
     "transient": {
      "deleting": false
     }
    }
   },
   "outputs": [],
   "source": [
    "# create an inference configuration\n",
    "\n",
    "inference_config = InferenceConfig(entry_script='score.py',\n",
    "                                    environment=best_automl_run.get_environment())\n",
    "\n",
    "# deploying model\n",
    "\n",
    "deployment_config = AciWebservice.deploy_configuration(cpu_cores = 1, memory_gb = 1, auth_enabled=True)\n",
    "service = Model.deploy(workspace = ws, \n",
    "                    name = \"deployed-best-model\", \n",
    "                    models = [bestModel], \n",
    "                    inference_config = inference_config, \n",
    "                    deployment_config = deployment_config,\n",
    "                    overwrite=True)"
   ]
  },
  {
   "cell_type": "code",
   "execution_count": 19,
   "metadata": {},
   "outputs": [
    {
     "data": {
      "text/plain": [
       "AciWebservice(workspace=Workspace.create(name='quick-starts-ws-137409', subscription_id='f5091c60-1c3c-430f-8d81-d802f6bf2414', resource_group='aml-quickstarts-137409'), name=deployed-best-model, image_id=None, compute_type=None, state=ACI, scoring_uri=Transitioning, tags=None, properties={}, created_by={})"
      ]
     },
     "execution_count": 19,
     "metadata": {},
     "output_type": "execute_result"
    }
   ],
   "source": [
    "service"
   ]
  },
  {
   "cell_type": "code",
   "execution_count": 20,
   "metadata": {},
   "outputs": [
    {
     "name": "stdout",
     "output_type": "stream",
     "text": [
      "Tips: You can try get_logs(): https://aka.ms/debugimage#dockerlog or local deployment: https://aka.ms/debugimage#debug-locally to debug if deployment takes longer than 10 minutes.\n",
      "Running...............................................................................\n",
      "Succeeded\n",
      "ACI service creation operation finished, operation \"Succeeded\"\n"
     ]
    }
   ],
   "source": [
    "service.wait_for_deployment(show_output = True)"
   ]
  },
  {
   "cell_type": "code",
   "execution_count": 21,
   "metadata": {},
   "outputs": [
    {
     "name": "stdout",
     "output_type": "stream",
     "text": [
      "Service state: Healthy\n",
      "Scoring URI : http://d4aa7520-9f53-427a-9f96-7d7ccb145c0e.southcentralus.azurecontainer.io/score\n",
      "Swagger URI: http://d4aa7520-9f53-427a-9f96-7d7ccb145c0e.southcentralus.azurecontainer.io/swagger.json\n",
      "Primary key: dzQpVmOR79g0kDN3K2As1sgjqTRIn5iq\n"
     ]
    }
   ],
   "source": [
    "# return service information to be used for model consumption\n",
    "\n",
    "print(f\"Service state: {service.state}\")\n",
    "print(f\"Scoring URI : {service.scoring_uri}\")\n",
    "print(f\"Swagger URI: {service.swagger_uri}\")\n",
    "print(f\"Primary key: {service.get_keys()[0]}\")"
   ]
  },
  {
   "source": [
    "#### Enable logging\n",
    "\n",
    "Logging is a core pillar of MLOps. It gives information on how the deployed model is behaving."
   ],
   "cell_type": "markdown",
   "metadata": {}
  },
  {
   "cell_type": "code",
   "execution_count": 22,
   "metadata": {},
   "outputs": [
    {
     "name": "stdout",
     "output_type": "stream",
     "text": [
      "2021-02-06T06:18:12,802852147+00:00 - iot-server/run \r\n",
      "2021-02-06T06:18:12,805063354+00:00 - gunicorn/run \r\n",
      "/usr/sbin/nginx: /azureml-envs/azureml_20a8278aa8b20dd48cc50f56a6d2586c/lib/libcrypto.so.1.0.0: no version information available (required by /usr/sbin/nginx)\r\n",
      "/usr/sbin/nginx: /azureml-envs/azureml_20a8278aa8b20dd48cc50f56a6d2586c/lib/libcrypto.so.1.0.0: no version information available (required by /usr/sbin/nginx)\r\n",
      "/usr/sbin/nginx: /azureml-envs/azureml_20a8278aa8b20dd48cc50f56a6d2586c/lib/libssl.so.1.0.0: no version information available (required by /usr/sbin/nginx)\r\n",
      "/usr/sbin/nginx: /azureml-envs/azureml_20a8278aa8b20dd48cc50f56a6d2586c/lib/libssl.so.1.0.0: no version information available (required by /usr/sbin/nginx)\r\n",
      "/usr/sbin/nginx: /azureml-envs/azureml_20a8278aa8b20dd48cc50f56a6d2586c/lib/libssl.so.1.0.0: no version information available (required by /usr/sbin/nginx)\r\n",
      "2021-02-06T06:18:12,807857388+00:00 - nginx/run \r\n",
      "2021-02-06T06:18:12,806434719+00:00 - rsyslog/run \r\n",
      "rsyslogd: /azureml-envs/azureml_20a8278aa8b20dd48cc50f56a6d2586c/lib/libuuid.so.1: no version information available (required by rsyslogd)\r\n",
      "EdgeHubConnectionString and IOTEDGE_IOTHUBHOSTNAME are not set. Exiting...\r\n",
      "2021-02-06T06:18:13,022458686+00:00 - iot-server/finish 1 0\r\n",
      "2021-02-06T06:18:13,023854353+00:00 - Exit code 1 is normal. Not restarting iot-server.\r\n",
      "Starting gunicorn 19.9.0\r\n",
      "Listening at: http://127.0.0.1:31311 (14)\r\n",
      "Using worker: sync\r\n",
      "worker timeout is set to 300\r\n",
      "Booting worker with pid: 42\r\n",
      "SPARK_HOME not set. Skipping PySpark Initialization.\r\n",
      "Generating new fontManager, this may take some time...\r\n",
      "Initializing logger\r\n",
      "2021-02-06 06:18:14,584 | root | INFO | Starting up app insights client\r\n",
      "2021-02-06 06:18:14,585 | root | INFO | Starting up request id generator\r\n",
      "2021-02-06 06:18:14,585 | root | INFO | Starting up app insight hooks\r\n",
      "2021-02-06 06:18:14,585 | root | INFO | Invoking user's init function\r\n",
      "2021-02-06 06:18:17,417 | root | INFO | Users's init has completed successfully\r\n",
      "2021-02-06 06:18:17,438 | root | INFO | Skipping middleware: dbg_model_info as it's not enabled.\r\n",
      "2021-02-06 06:18:17,439 | root | INFO | Skipping middleware: dbg_resource_usage as it's not enabled.\r\n",
      "2021-02-06 06:18:17,440 | root | INFO | Scoring timeout is found from os.environ: 60000 ms\r\n",
      "2021-02-06 06:18:26,351 | root | INFO | 200\r\n",
      "127.0.0.1 - - [06/Feb/2021:06:18:26 +0000] \"GET /swagger.json HTTP/1.0\" 200 4422 \"-\" \"Go-http-client/1.1\"\r\n",
      "2021-02-06 06:18:28,740 | root | INFO | 200\r\n",
      "127.0.0.1 - - [06/Feb/2021:06:18:28 +0000] \"GET /swagger.json HTTP/1.0\" 200 4422 \"-\" \"Go-http-client/1.1\"\r\n",
      "2021-02-06 06:19:29,988 | root | INFO | 200\r\n",
      "127.0.0.1 - - [06/Feb/2021:06:19:29 +0000] \"GET /swagger.json HTTP/1.0\" 200 4422 \"-\" \"Go-http-client/1.1\"\r\n",
      "2021-02-06 06:19:31,475 | root | INFO | 200\r\n",
      "127.0.0.1 - - [06/Feb/2021:06:19:31 +0000] \"GET /swagger.json HTTP/1.0\" 200 4422 \"-\" \"Go-http-client/1.1\"\r\n",
      "2021-02-06 06:21:21,980 | root | INFO | 200\r\n",
      "127.0.0.1 - - [06/Feb/2021:06:21:21 +0000] \"GET /swagger.json HTTP/1.0\" 200 4422 \"-\" \"Go-http-client/1.1\"\r\n",
      "2021-02-06 06:21:23,399 | root | INFO | 200\r\n",
      "127.0.0.1 - - [06/Feb/2021:06:21:23 +0000] \"GET /swagger.json HTTP/1.0\" 200 4422 \"-\" \"Go-http-client/1.1\"\r\n",
      "\r\n"
     ]
    }
   ],
   "source": [
    "!python3 logs.py"
   ]
  },
  {
   "cell_type": "markdown",
   "metadata": {
    "collapsed": true,
    "gather": {
     "logged": 1598431657736
    },
    "jupyter": {
     "outputs_hidden": false,
     "source_hidden": false
    },
    "nteract": {
     "transient": {
      "deleting": false
     }
    }
   },
   "source": [
    "#### Consume deployed services\n",
    "\n",
    "Send a request to the web service you deployed to test it."
   ]
  },
  {
   "cell_type": "code",
   "execution_count": 58,
   "metadata": {
    "jupyter": {
     "outputs_hidden": false,
     "source_hidden": false
    },
    "nteract": {
     "transient": {
      "deleting": false
     }
    }
   },
   "outputs": [
    {
     "name": "stdout",
     "output_type": "stream",
     "text": [
      "{\"data\": [{\"Column1\": 140887, \"firstPaymentDefault\": 0, \"firstPaymentRatio\": 0.0, \"max_amount_taken\": 0, \"max_tenor_taken\": 1, \"loanAmount\": 45000, \"interestRate\": 5.0, \"clientIncome\": 125000.0, \"clientAge\": 41, \"clientNumberPhoneCOntacts\": 3013.0, \"clientAvgCallsPerDay\": 18.680497925311204, \"loanNumber\": 14, \"clientGender_MALE\": 1, \"clientMaritalStatus_Married\": 1, \"clientMaritalStatus_Separated\": 0, \"clientMaritalStatus_Single\": 0, \"clientMaritalStatus_Widowed\": 0, \"clientLoanPurpose_education\": 0, \"clientLoanPurpose_house\": 1, \"clientLoanPurpose_medical\": 0, \"clientLoanPurpose_other\": 0, \"clientResidentialStauts_Family Owned\": 0, \"clientResidentialStauts_Own Residence\": 0, \"clientResidentialStauts_Rented\": 1, \"clientResidentialStauts_Temp Residence\": 0, \"incomeVerified_True\": 1}, {\"Column1\": 157934, \"firstPaymentDefault\": 1, \"firstPaymentRatio\": 0.0, \"max_amount_taken\": 1, \"max_tenor_taken\": 1, \"loanAmount\": 34500, \"interestRate\": 12.5, \"clientIncome\": 17500.0, \"clientAge\": 29, \"clientNumberPhoneCOntacts\": 358.0, \"clientAvgCallsPerDay\": 3.167883211678832, \"loanNumber\": 3, \"clientGender_MALE\": 0, \"clientMaritalStatus_Married\": 0, \"clientMaritalStatus_Separated\": 0, \"clientMaritalStatus_Single\": 1, \"clientMaritalStatus_Widowed\": 0, \"clientLoanPurpose_education\": 0, \"clientLoanPurpose_house\": 0, \"clientLoanPurpose_medical\": 0, \"clientLoanPurpose_other\": 0, \"clientResidentialStauts_Family Owned\": 0, \"clientResidentialStauts_Own Residence\": 0, \"clientResidentialStauts_Rented\": 1, \"clientResidentialStauts_Temp Residence\": 0, \"incomeVerified_True\": 0}, {\"Column1\": 23515, \"firstPaymentDefault\": 1, \"firstPaymentRatio\": 0.0, \"max_amount_taken\": 0, \"max_tenor_taken\": 1, \"loanAmount\": 19500, \"interestRate\": 12.5, \"clientIncome\": 17500.0, \"clientAge\": 21, \"clientNumberPhoneCOntacts\": 1067.0, \"clientAvgCallsPerDay\": 134.88235294117646, \"loanNumber\": 3, \"clientGender_MALE\": 0, \"clientMaritalStatus_Married\": 0, \"clientMaritalStatus_Separated\": 0, \"clientMaritalStatus_Single\": 1, \"clientMaritalStatus_Widowed\": 0, \"clientLoanPurpose_education\": 0, \"clientLoanPurpose_house\": 0, \"clientLoanPurpose_medical\": 0, \"clientLoanPurpose_other\": 0, \"clientResidentialStauts_Family Owned\": 0, \"clientResidentialStauts_Own Residence\": 0, \"clientResidentialStauts_Rented\": 1, \"clientResidentialStauts_Temp Residence\": 0, \"incomeVerified_True\": 0}, {\"Column1\": 5117, \"firstPaymentDefault\": 1, \"firstPaymentRatio\": 0.7722358286335252, \"max_amount_taken\": 1, \"max_tenor_taken\": 1, \"loanAmount\": 200000, \"interestRate\": 5.0, \"clientIncome\": 300000.0, \"clientAge\": 28, \"clientNumberPhoneCOntacts\": 2372.0, \"clientAvgCallsPerDay\": 189.4017094017094, \"loanNumber\": 5, \"clientGender_MALE\": 1, \"clientMaritalStatus_Married\": 1, \"clientMaritalStatus_Separated\": 0, \"clientMaritalStatus_Single\": 0, \"clientMaritalStatus_Widowed\": 0, \"clientLoanPurpose_education\": 0, \"clientLoanPurpose_house\": 0, \"clientLoanPurpose_medical\": 0, \"clientLoanPurpose_other\": 0, \"clientResidentialStauts_Family Owned\": 1, \"clientResidentialStauts_Own Residence\": 0, \"clientResidentialStauts_Rented\": 0, \"clientResidentialStauts_Temp Residence\": 0, \"incomeVerified_True\": 1}]}\n"
     ]
    }
   ],
   "source": [
    "# select sample data\n",
    "x_samp = train_data.sample(4) # data is the pandas dataframe of the original data\n",
    "y_samp = x_samp.pop('loanDefault')\n",
    "\n",
    "# convert data samples to json format\n",
    "sample = json.dumps({'data': x_samp.to_dict(orient='records')})\n",
    "\n",
    "print(sample)"
   ]
  },
  {
   "source": [
    "Copy sample data, scoring uri, and the service's primary key and update in the `endpoint.py` script before running the cell below."
   ],
   "cell_type": "markdown",
   "metadata": {}
  },
  {
   "cell_type": "code",
   "execution_count": 59,
   "metadata": {},
   "outputs": [
    {
     "name": "stdout",
     "output_type": "stream",
     "text": [
      "{\"result\": [0, 1, 1, 1]}\r\n"
     ]
    }
   ],
   "source": [
    "# response from model endpoint\n",
    "!python3 endpoint.py"
   ]
  },
  {
   "cell_type": "code",
   "execution_count": 60,
   "metadata": {},
   "outputs": [
    {
     "name": "stdout",
     "output_type": "stream",
     "text": [
      "140887    0\n",
      "157934    1\n",
      "23515     1\n",
      "5117      1\n",
      "Name: loanDefault, dtype: int64\n"
     ]
    }
   ],
   "source": [
    "# print original labels\n",
    "print(y_samp)"
   ]
  },
  {
   "source": [
    "Evidently, the model endpoint rightly returns the expected output."
   ],
   "cell_type": "markdown",
   "metadata": {}
  },
  {
   "cell_type": "markdown",
   "metadata": {
    "collapsed": true,
    "gather": {
     "logged": 1598432765711
    },
    "jupyter": {
     "outputs_hidden": false,
     "source_hidden": false
    },
    "nteract": {
     "transient": {
      "deleting": false
     }
    }
   },
   "source": [
    "Print the logs of the web service and delete the service"
   ]
  },
  {
   "cell_type": "code",
   "execution_count": 44,
   "metadata": {},
   "outputs": [
    {
     "name": "stdout",
     "output_type": "stream",
     "text": [
      "/usr/sbin/nginx: /azureml-envs/azureml_20a8278aa8b20dd48cc50f56a6d2586c/lib/libcrypto.so.1.0.0: no version information available (required by /usr/sbin/nginx)\n",
      "/usr/sbin/nginx: /azureml-envs/azureml_20a8278aa8b20dd48cc50f56a6d2586c/lib/libcrypto.so.1.0.0: no version information available (required by /usr/sbin/nginx)\n",
      "/usr/sbin/nginx: /azureml-envs/azureml_20a8278aa8b20dd48cc50f56a6d2586c/lib/libssl.so.1.0.0: no version information available (required by /usr/sbin/nginx)\n",
      "/usr/sbin/nginx: /azureml-envs/azureml_20a8278aa8b20dd48cc50f56a6d2586c/lib/libssl.so.1.0.0: no version information available (required by /usr/sbin/nginx)\n",
      "/usr/sbin/nginx: /azureml-envs/azureml_20a8278aa8b20dd48cc50f56a6d2586c/lib/libssl.so.1.0.0: no version information available (required by /usr/sbin/nginx)\n",
      "2021-02-06T06:21:34,307110464+00:00 - nginx/run \n",
      "2021-02-06T06:21:34,307162366+00:00 - rsyslog/run \n",
      "2021-02-06T06:21:34,305457990+00:00 - gunicorn/run \n",
      "2021-02-06T06:21:34,307659788+00:00 - iot-server/run \n",
      "rsyslogd: /azureml-envs/azureml_20a8278aa8b20dd48cc50f56a6d2586c/lib/libuuid.so.1: no version information available (required by rsyslogd)\n",
      "EdgeHubConnectionString and IOTEDGE_IOTHUBHOSTNAME are not set. Exiting...\n",
      "2021-02-06T06:21:34,553171200+00:00 - iot-server/finish 1 0\n",
      "2021-02-06T06:21:34,554987681+00:00 - Exit code 1 is normal. Not restarting iot-server.\n",
      "Starting gunicorn 19.9.0\n",
      "Listening at: http://127.0.0.1:31311 (13)\n",
      "Using worker: sync\n",
      "worker timeout is set to 300\n",
      "Booting worker with pid: 42\n",
      "SPARK_HOME not set. Skipping PySpark Initialization.\n",
      "Generating new fontManager, this may take some time...\n",
      "Initializing logger\n",
      "2021-02-06 06:21:36,187 | root | INFO | Starting up app insights client\n",
      "2021-02-06 06:21:36,187 | root | INFO | Starting up request id generator\n",
      "2021-02-06 06:21:36,188 | root | INFO | Starting up app insight hooks\n",
      "2021-02-06 06:21:36,188 | root | INFO | Invoking user's init function\n",
      "2021-02-06 06:21:39,036 | root | INFO | Users's init has completed successfully\n",
      "2021-02-06 06:21:39,114 | root | INFO | Skipping middleware: dbg_model_info as it's not enabled.\n",
      "2021-02-06 06:21:39,114 | root | INFO | Skipping middleware: dbg_resource_usage as it's not enabled.\n",
      "2021-02-06 06:21:39,117 | root | INFO | Scoring timeout is found from os.environ: 60000 ms\n",
      "2021-02-06 06:21:39,620 | root | INFO | 200\n",
      "127.0.0.1 - - [06/Feb/2021:06:21:39 +0000] \"GET /swagger.json HTTP/1.0\" 200 4422 \"-\" \"Go-http-client/1.1\"\n",
      "2021-02-06 06:22:19,175 | root | INFO | 200\n",
      "127.0.0.1 - - [06/Feb/2021:06:22:19 +0000] \"GET /swagger.json HTTP/1.0\" 200 4422 \"-\" \"Go-http-client/1.1\"\n",
      "2021-02-06 06:22:20,300 | root | INFO | 200\n",
      "127.0.0.1 - - [06/Feb/2021:06:22:20 +0000] \"GET /swagger.json HTTP/1.0\" 200 4422 \"-\" \"Go-http-client/1.1\"\n",
      "2021-02-06 06:24:08,287 | root | INFO | 200\n",
      "127.0.0.1 - - [06/Feb/2021:06:24:08 +0000] \"GET /swagger.json HTTP/1.0\" 200 4422 \"-\" \"Go-http-client/1.1\"\n",
      "2021-02-06 06:24:09,246 | root | INFO | 200\n",
      "127.0.0.1 - - [06/Feb/2021:06:24:09 +0000] \"GET /swagger.json HTTP/1.0\" 200 4422 \"-\" \"Go-http-client/1.1\"\n",
      "2021-02-06 06:36:33,299 | root | INFO | Validation Request Content-Type\n",
      "2021-02-06 06:36:33,299 | root | INFO | Scoring Timer is set to 60.0 seconds\n",
      "2021-02-06 06:36:33,516 | root | INFO | 200\n",
      "127.0.0.1 - - [06/Feb/2021:06:36:33 +0000] \"POST /score HTTP/1.0\" 200 28 \"-\" \"python-requests/2.25.1\"\n",
      "2021-02-06 06:37:24,205 | root | INFO | Validation Request Content-Type\n",
      "2021-02-06 06:37:24,205 | root | INFO | Scoring Timer is set to 60.0 seconds\n",
      "2021-02-06 06:37:24,412 | root | INFO | 200\n",
      "127.0.0.1 - - [06/Feb/2021:06:37:24 +0000] \"POST /score HTTP/1.0\" 200 28 \"-\" \"python-requests/2.25.1\"\n",
      "2021-02-06 06:38:07,948 | root | INFO | Validation Request Content-Type\n",
      "2021-02-06 06:38:07,948 | root | INFO | Scoring Timer is set to 60.0 seconds\n",
      "2021-02-06 06:38:08,116 | root | INFO | 200\n",
      "127.0.0.1 - - [06/Feb/2021:06:38:08 +0000] \"POST /score HTTP/1.0\" 200 28 \"-\" \"python-requests/2.25.1\"\n",
      "2021-02-06 06:38:15,982 | root | INFO | Validation Request Content-Type\n",
      "2021-02-06 06:38:15,983 | root | INFO | Scoring Timer is set to 60.0 seconds\n",
      "2021-02-06 06:38:16,157 | root | INFO | 200\n",
      "127.0.0.1 - - [06/Feb/2021:06:38:16 +0000] \"POST /score HTTP/1.0\" 200 28 \"-\" \"python-requests/2.25.1\"\n",
      "\n"
     ]
    }
   ],
   "source": [
    "# web service log\n",
    "\n",
    "print(service.get_logs())"
   ]
  },
  {
   "cell_type": "code",
   "execution_count": 61,
   "metadata": {},
   "outputs": [],
   "source": [
    "# delete the service\n",
    "\n",
    "service.delete()"
   ]
  }
 ],
 "metadata": {
  "kernel_info": {
   "name": "python3-azureml"
  },
  "kernelspec": {
   "display_name": "Python 3",
   "language": "python",
   "name": "python3"
  },
  "language_info": {
   "codemirror_mode": {
    "name": "ipython",
    "version": 3
   },
   "file_extension": ".py",
   "mimetype": "text/x-python",
   "name": "python",
   "nbconvert_exporter": "python",
   "pygments_lexer": "ipython3",
   "version": "3.6.9"
  },
  "nteract": {
   "version": "nteract-front-end@1.0.0"
  }
 },
 "nbformat": 4,
 "nbformat_minor": 2
}