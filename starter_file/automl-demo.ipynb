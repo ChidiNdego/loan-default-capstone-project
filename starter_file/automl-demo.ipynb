{
 "cells": [
  {
   "cell_type": "markdown",
   "metadata": {},
   "source": [
    "# Automated ML\n",
    "\n",
    "Import Dependencies."
   ]
  },
  {
   "cell_type": "code",
   "execution_count": 20,
   "metadata": {
    "gather": {
     "logged": 1598423888013
    },
    "jupyter": {
     "outputs_hidden": false,
     "source_hidden": false
    },
    "nteract": {
     "transient": {
      "deleting": false
     }
    }
   },
   "outputs": [
    {
     "name": "stdout",
     "output_type": "stream",
     "text": [
      "SDK version: 1.20.0\n"
     ]
    }
   ],
   "source": [
    "from azureml.core import Workspace, Experiment\n",
    "from azureml.core.compute import ComputeTarget, AmlCompute\n",
    "from azureml.core.compute_target import ComputeTargetException\n",
    "\n",
    "from azureml.data.dataset_factory import TabularDatasetFactory\n",
    "from azureml.train.automl import AutoMLConfig\n",
    "from azureml.widgets import RunDetails\n",
    "\n",
    "from pprint import pprint\n",
    "from azureml.core import Model\n",
    "from train import clean\n",
    "\n",
    "from azureml.core.model import InferenceConfig\n",
    "from azureml.core.environment import Environment\n",
    "from azureml.core.webservice import AciWebservice\n",
    "\n",
    "import azureml\n",
    "import pandas as pd\n",
    "import os\n",
    "import json\n",
    "import requests\n",
    "import joblib\n",
    "\n",
    "# Check core SDK version number\n",
    "print(\"SDK version:\", azureml.core.VERSION)"
   ]
  },
  {
   "cell_type": "markdown",
   "metadata": {},
   "source": [
    "### Workspace and compute cluster configuration"
   ]
  },
  {
   "cell_type": "code",
   "execution_count": 2,
   "metadata": {
    "gather": {
     "logged": 1598423890461
    },
    "jupyter": {
     "outputs_hidden": false,
     "source_hidden": false
    },
    "nteract": {
     "transient": {
      "deleting": false
     }
    }
   },
   "outputs": [
    {
     "name": "stdout",
     "output_type": "stream",
     "text": [
      "Workspace name: quick-starts-ws-137363\n",
      "Azure region: southcentralus\n",
      "Subscription id: aa7cf8e8-d23f-4bce-a7b9-1f0b4e0ac8ee\n",
      "Resource group: aml-quickstarts-137363\n"
     ]
    }
   ],
   "source": [
    "ws = Workspace.from_config()\n",
    "\n",
    "# choose a name for experiment\n",
    "experiment_name = 'loan-default-automl'\n",
    "\n",
    "experiment=Experiment(ws, experiment_name)\n",
    "\n",
    "print('Workspace name: ' + ws.name, \n",
    "      'Azure region: ' + ws.location, \n",
    "      'Subscription id: ' + ws.subscription_id, \n",
    "      'Resource group: ' + ws.resource_group, sep = '\\n')\n",
    "\n",
    "run = experiment.start_logging()"
   ]
  },
  {
   "cell_type": "code",
   "execution_count": 4,
   "metadata": {},
   "outputs": [
    {
     "name": "stdout",
     "output_type": "stream",
     "text": [
      "Found existing cluster: capstone-compute to be used.\n",
      "\n",
      "Running\n"
     ]
    }
   ],
   "source": [
    "cpu_cluster_name = \"capstone-compute\" \n",
    "\n",
    "#verify that cluster does not exist already\n",
    "try:\n",
    "    cpu_cluster = ComputeTarget(workspace=ws, name=cpu_cluster_name)\n",
    "    print(f\"Found existing cluster: {cpu_cluster_name} to be used.\")\n",
    "except ComputeTargetException:\n",
    "    print('Creating a new compute target...')\n",
    "    compute_config = AmlCompute.provisioning_configuration(vm_size='STANDARD_DS12_V2', max_nodes=6)\n",
    "\n",
    "    cpu_cluster = ComputeTarget.create(ws, cpu_cluster_name, compute_config)\n",
    "\n",
    "cpu_cluster.wait_for_completion(show_output=True)#, min_node_count = 1, timeout_in_minutes = 10)"
   ]
  },
  {
   "cell_type": "markdown",
   "metadata": {},
   "source": [
    "## Dataset\n",
    "\n",
    "### Overview\n",
    "\n",
    "The dataset used in this project is a loan default prediction dataset. The project entails identifying customers who would either default or not  default after taking a loan credit. This transalates to a binary classification: to default or not to default. Hence, a Logistic regression model would be built using azure's automl funcionality. SKLearn's logistic regression algorithm is a well-known supervised learning approach optimized for dichotomous or binary variables."
   ]
  },
  {
   "cell_type": "code",
   "execution_count": 5,
   "metadata": {},
   "outputs": [],
   "source": [
    "# retrieve data from github\n",
    "\n",
    "url = \"https://raw.githubusercontent.com/ChidiNdego/loan-default-capstone-project/master/starter_file/loan_default_prediction.csv\"\n",
    "data = TabularDatasetFactory.from_delimited_files(url)"
   ]
  },
  {
   "cell_type": "code",
   "execution_count": 22,
   "metadata": {},
   "outputs": [
    {
     "data": {
      "text/html": [
       "<div>\n",
       "<style scoped>\n",
       "    .dataframe tbody tr th:only-of-type {\n",
       "        vertical-align: middle;\n",
       "    }\n",
       "\n",
       "    .dataframe tbody tr th {\n",
       "        vertical-align: top;\n",
       "    }\n",
       "\n",
       "    .dataframe thead th {\n",
       "        text-align: right;\n",
       "    }\n",
       "</style>\n",
       "<table border=\"1\" class=\"dataframe\">\n",
       "  <thead>\n",
       "    <tr style=\"text-align: right;\">\n",
       "      <th></th>\n",
       "      <th>firstPaymentDefault</th>\n",
       "      <th>firstPaymentRatio</th>\n",
       "      <th>max_amount_taken</th>\n",
       "      <th>max_tenor_taken</th>\n",
       "      <th>loanAmount</th>\n",
       "      <th>interestRate</th>\n",
       "      <th>clientIncome</th>\n",
       "      <th>clientAge</th>\n",
       "      <th>clientNumberPhoneCOntacts</th>\n",
       "      <th>clientAvgCallsPerDay</th>\n",
       "      <th>...</th>\n",
       "      <th>clientLoanPurpose_education</th>\n",
       "      <th>clientLoanPurpose_house</th>\n",
       "      <th>clientLoanPurpose_medical</th>\n",
       "      <th>clientLoanPurpose_other</th>\n",
       "      <th>clientResidentialStauts_Family Owned</th>\n",
       "      <th>clientResidentialStauts_Own Residence</th>\n",
       "      <th>clientResidentialStauts_Rented</th>\n",
       "      <th>clientResidentialStauts_Temp. Residence</th>\n",
       "      <th>incomeVerified_True</th>\n",
       "      <th>loanDefault</th>\n",
       "    </tr>\n",
       "  </thead>\n",
       "  <tbody>\n",
       "    <tr>\n",
       "      <th>0</th>\n",
       "      <td>0</td>\n",
       "      <td>0.00</td>\n",
       "      <td>1</td>\n",
       "      <td>1</td>\n",
       "      <td>101500</td>\n",
       "      <td>6.00</td>\n",
       "      <td>133613.31</td>\n",
       "      <td>50</td>\n",
       "      <td>1013.00</td>\n",
       "      <td>52.45</td>\n",
       "      <td>...</td>\n",
       "      <td>1</td>\n",
       "      <td>0</td>\n",
       "      <td>0</td>\n",
       "      <td>0</td>\n",
       "      <td>0</td>\n",
       "      <td>1</td>\n",
       "      <td>0</td>\n",
       "      <td>0</td>\n",
       "      <td>1</td>\n",
       "      <td>0</td>\n",
       "    </tr>\n",
       "    <tr>\n",
       "      <th>1</th>\n",
       "      <td>0</td>\n",
       "      <td>0.00</td>\n",
       "      <td>1</td>\n",
       "      <td>1</td>\n",
       "      <td>61000</td>\n",
       "      <td>12.50</td>\n",
       "      <td>160995.02</td>\n",
       "      <td>36</td>\n",
       "      <td>649.00</td>\n",
       "      <td>4.67</td>\n",
       "      <td>...</td>\n",
       "      <td>0</td>\n",
       "      <td>1</td>\n",
       "      <td>0</td>\n",
       "      <td>0</td>\n",
       "      <td>0</td>\n",
       "      <td>0</td>\n",
       "      <td>1</td>\n",
       "      <td>0</td>\n",
       "      <td>1</td>\n",
       "      <td>1</td>\n",
       "    </tr>\n",
       "    <tr>\n",
       "      <th>2</th>\n",
       "      <td>1</td>\n",
       "      <td>0.00</td>\n",
       "      <td>0</td>\n",
       "      <td>0</td>\n",
       "      <td>23000</td>\n",
       "      <td>10.00</td>\n",
       "      <td>140000.00</td>\n",
       "      <td>34</td>\n",
       "      <td>1171.00</td>\n",
       "      <td>47.17</td>\n",
       "      <td>...</td>\n",
       "      <td>0</td>\n",
       "      <td>0</td>\n",
       "      <td>0</td>\n",
       "      <td>0</td>\n",
       "      <td>0</td>\n",
       "      <td>0</td>\n",
       "      <td>1</td>\n",
       "      <td>0</td>\n",
       "      <td>0</td>\n",
       "      <td>1</td>\n",
       "    </tr>\n",
       "    <tr>\n",
       "      <th>3</th>\n",
       "      <td>0</td>\n",
       "      <td>0.00</td>\n",
       "      <td>0</td>\n",
       "      <td>0</td>\n",
       "      <td>46000</td>\n",
       "      <td>12.50</td>\n",
       "      <td>100000.00</td>\n",
       "      <td>35</td>\n",
       "      <td>568.00</td>\n",
       "      <td>127.38</td>\n",
       "      <td>...</td>\n",
       "      <td>0</td>\n",
       "      <td>0</td>\n",
       "      <td>0</td>\n",
       "      <td>0</td>\n",
       "      <td>0</td>\n",
       "      <td>0</td>\n",
       "      <td>1</td>\n",
       "      <td>0</td>\n",
       "      <td>1</td>\n",
       "      <td>0</td>\n",
       "    </tr>\n",
       "    <tr>\n",
       "      <th>4</th>\n",
       "      <td>0</td>\n",
       "      <td>0.00</td>\n",
       "      <td>0</td>\n",
       "      <td>1</td>\n",
       "      <td>27000</td>\n",
       "      <td>12.50</td>\n",
       "      <td>52500.00</td>\n",
       "      <td>24</td>\n",
       "      <td>500.00</td>\n",
       "      <td>0.00</td>\n",
       "      <td>...</td>\n",
       "      <td>0</td>\n",
       "      <td>0</td>\n",
       "      <td>0</td>\n",
       "      <td>0</td>\n",
       "      <td>1</td>\n",
       "      <td>0</td>\n",
       "      <td>0</td>\n",
       "      <td>0</td>\n",
       "      <td>0</td>\n",
       "      <td>0</td>\n",
       "    </tr>\n",
       "  </tbody>\n",
       "</table>\n",
       "<p>5 rows × 26 columns</p>\n",
       "</div>"
      ],
      "text/plain": [
       "   firstPaymentDefault  firstPaymentRatio  max_amount_taken  max_tenor_taken  \\\n",
       "0                    0               0.00                 1                1   \n",
       "1                    0               0.00                 1                1   \n",
       "2                    1               0.00                 0                0   \n",
       "3                    0               0.00                 0                0   \n",
       "4                    0               0.00                 0                1   \n",
       "\n",
       "   loanAmount  interestRate  clientIncome  clientAge  \\\n",
       "0      101500          6.00     133613.31         50   \n",
       "1       61000         12.50     160995.02         36   \n",
       "2       23000         10.00     140000.00         34   \n",
       "3       46000         12.50     100000.00         35   \n",
       "4       27000         12.50      52500.00         24   \n",
       "\n",
       "   clientNumberPhoneCOntacts  clientAvgCallsPerDay  ...  \\\n",
       "0                    1013.00                 52.45  ...   \n",
       "1                     649.00                  4.67  ...   \n",
       "2                    1171.00                 47.17  ...   \n",
       "3                     568.00                127.38  ...   \n",
       "4                     500.00                  0.00  ...   \n",
       "\n",
       "   clientLoanPurpose_education  clientLoanPurpose_house  \\\n",
       "0                            1                        0   \n",
       "1                            0                        1   \n",
       "2                            0                        0   \n",
       "3                            0                        0   \n",
       "4                            0                        0   \n",
       "\n",
       "   clientLoanPurpose_medical  clientLoanPurpose_other  \\\n",
       "0                          0                        0   \n",
       "1                          0                        0   \n",
       "2                          0                        0   \n",
       "3                          0                        0   \n",
       "4                          0                        0   \n",
       "\n",
       "   clientResidentialStauts_Family Owned  \\\n",
       "0                                     0   \n",
       "1                                     0   \n",
       "2                                     0   \n",
       "3                                     0   \n",
       "4                                     1   \n",
       "\n",
       "   clientResidentialStauts_Own Residence  clientResidentialStauts_Rented  \\\n",
       "0                                      1                               0   \n",
       "1                                      0                               1   \n",
       "2                                      0                               1   \n",
       "3                                      0                               1   \n",
       "4                                      0                               0   \n",
       "\n",
       "   clientResidentialStauts_Temp. Residence  incomeVerified_True  loanDefault  \n",
       "0                                        0                    1            0  \n",
       "1                                        0                    1            1  \n",
       "2                                        0                    0            1  \n",
       "3                                        0                    1            0  \n",
       "4                                        0                    0            0  \n",
       "\n",
       "[5 rows x 26 columns]"
      ]
     },
     "execution_count": 22,
     "metadata": {},
     "output_type": "execute_result"
    }
   ],
   "source": [
    "# Use the clean_data function to clean your data.\n",
    "x, y = clean(data)\n",
    "\n",
    "import pandas as pd\n",
    "# Add cleaned target column to cleaned predictor variables\n",
    "train_data = pd.concat([x,y],axis=1)\n",
    "train_data.head()"
   ]
  },
  {
   "cell_type": "code",
   "execution_count": 7,
   "metadata": {},
   "outputs": [
    {
     "name": "stderr",
     "output_type": "stream",
     "text": [
      "Method register_pandas_dataframe: This is an experimental method, and may change at any time.<br/>For more information, see https://aka.ms/azuremlexperimental.\n"
     ]
    },
    {
     "name": "stdout",
     "output_type": "stream",
     "text": [
      "Validating arguments.\n",
      "Arguments validated.\n",
      "Successfully obtained datastore reference and path.\n",
      "Uploading file to AutoMLData/bb36e146-72e3-40e1-a06f-2fa645bf20af/\n",
      "Successfully uploaded file to datastore.\n",
      "Creating and registering a new dataset.\n",
      "Successfully created and registered a new dataset.\n"
     ]
    }
   ],
   "source": [
    "# Get default datastore\n",
    "default_ds = ws.get_default_datastore()\n",
    "\n",
    "# Register the dataset with name 'AutoML_data'\n",
    "dataSet = TabularDatasetFactory.register_pandas_dataframe(train_data,target=(default_ds,'AutoMLData'),name='AutoML_data',show_progress=True)\n",
    "\n",
    "automl_data = ws.datasets.get('AutoML_data')"
   ]
  },
  {
   "cell_type": "markdown",
   "metadata": {},
   "source": [
    "## AutoML Configuration"
   ]
  },
  {
   "cell_type": "code",
   "execution_count": 8,
   "metadata": {
    "gather": {
     "logged": 1598429217746
    },
    "jupyter": {
     "outputs_hidden": false,
     "source_hidden": false
    },
    "nteract": {
     "transient": {
      "deleting": false
     }
    }
   },
   "outputs": [],
   "source": [
    "automl_settings = {\n",
    "    \"experiment_timeout_minutes\": 30,\n",
    "    \"max_concurrent_iterations\": 5,\n",
    "    \"n_cross_validations\": 5,\n",
    "    \"primary_metric\" : 'accuracy'\n",
    "}\n",
    "\n",
    "automl_config = AutoMLConfig(compute_target=cpu_cluster,\n",
    "                             task = \"classification\",\n",
    "                             training_data=automl_data,\n",
    "                             label_column_name=\"loanDefault\",   \n",
    "                             enable_early_stopping= True,\n",
    "                             featurization= 'auto',\n",
    "                             debug_log = \"automl_errors.log\",\n",
    "                             enable_onnx_compatible_models=True,\n",
    "                             **automl_settings)"
   ]
  },
  {
   "cell_type": "markdown",
   "metadata": {},
   "source": [
    "### Reasons for automl settings and configuration\n",
    "\n",
    "*   `\"experiment_timeout_minutes\": 30`: Maximum amount of time (in minutes) to complete training itertions. Set at 30 minutes because dataset has over 10,000 entries.\n",
    "*   `\"max_concurrent_iterations\": 5`: Maximum number of iterations that can be executed simultaneously. Advisably, this value should be less than the number of compute cluster node.\n",
    "*   `\"n_cross_validations\": 5`: Cross validation is a model validation technique used to reduce overfitting. `n` is the number of training examples.\n",
    "*   `\"primary_metric\" : 'Accuracy'`: This parameter determines the metric to be used during model training for optimization.\n",
    "*   `compute_target=cpu_cluster`: This points to the compute cluster configuration created earlier.\n",
    "*   `task = \"classification\"`: The problem in view is a classification task.\n",
    "*   `training_data=automl_data`: Specifies the dataset to be used: an external dataset already registered in azure datastore.\n",
    "*   `label_column_name=\"loanDefault\"`: Specifies the dependent variable to be predicted.\n",
    "*   `enable_early_stopping=True`: Allows for an early stopping rule to be applied.\n",
    "*   `featurization= 'auto'`: Allows azure to automatically perform feature engineering."
   ]
  },
  {
   "cell_type": "code",
   "execution_count": 9,
   "metadata": {
    "gather": {
     "logged": 1598431107951
    },
    "jupyter": {
     "outputs_hidden": false,
     "source_hidden": false
    },
    "nteract": {
     "transient": {
      "deleting": false
     }
    }
   },
   "outputs": [
    {
     "name": "stdout",
     "output_type": "stream",
     "text": [
      "Submitting AutoML experiment...\n",
      "Running on remote.\n"
     ]
    }
   ],
   "source": [
    "# Submit your experiment\n",
    "print('Submitting AutoML experiment...')\n",
    "remote_run = experiment.submit(automl_config)"
   ]
  },
  {
   "cell_type": "markdown",
   "metadata": {},
   "source": [
    "## Run Details\n",
    "\n",
    "Use the `RunDetails` widget to show the different experiments."
   ]
  },
  {
   "cell_type": "code",
   "execution_count": 10,
   "metadata": {
    "gather": {
     "logged": 1598431121770
    },
    "jupyter": {
     "outputs_hidden": false,
     "source_hidden": false
    },
    "nteract": {
     "transient": {
      "deleting": false
     }
    },
    "scrolled": true
   },
   "outputs": [
    {
     "data": {
      "application/vnd.jupyter.widget-view+json": {
       "model_id": "a6f2d50b43a648eb9404b070b9d1eb33",
       "version_major": 2,
       "version_minor": 0
      },
      "text/plain": [
       "_AutoMLWidget(widget_settings={'childWidgetDisplay': 'popup', 'send_telemetry': False, 'log_level': 'INFO', 's…"
      ]
     },
     "metadata": {},
     "output_type": "display_data"
    },
    {
     "data": {
      "application/aml.mini.widget.v1": "{\"status\": \"Completed\", \"workbench_run_details_uri\": \"https://ml.azure.com/experiments/loan-default-automl/runs/AutoML_b06b1d76-d0fb-4280-9ed4-7c85891cf392?wsid=/subscriptions/aa7cf8e8-d23f-4bce-a7b9-1f0b4e0ac8ee/resourcegroups/aml-quickstarts-137363/workspaces/quick-starts-ws-137363\", \"run_id\": \"AutoML_b06b1d76-d0fb-4280-9ed4-7c85891cf392\", \"run_properties\": {\"run_id\": \"AutoML_b06b1d76-d0fb-4280-9ed4-7c85891cf392\", \"created_utc\": \"2021-02-05T19:41:16.294997Z\", \"properties\": {\"num_iterations\": \"1000\", \"training_type\": \"TrainFull\", \"acquisition_function\": \"EI\", \"primary_metric\": \"accuracy\", \"train_split\": \"0\", \"acquisition_parameter\": \"0\", \"num_cross_validation\": \"5\", \"target\": \"capstone-compute\", \"AMLSettingsJsonString\": \"{\\\"path\\\":null,\\\"name\\\":\\\"loan-default-automl\\\",\\\"subscription_id\\\":\\\"aa7cf8e8-d23f-4bce-a7b9-1f0b4e0ac8ee\\\",\\\"resource_group\\\":\\\"aml-quickstarts-137363\\\",\\\"workspace_name\\\":\\\"quick-starts-ws-137363\\\",\\\"region\\\":\\\"southcentralus\\\",\\\"compute_target\\\":\\\"capstone-compute\\\",\\\"spark_service\\\":null,\\\"azure_service\\\":\\\"remote\\\",\\\"many_models\\\":false,\\\"pipeline_fetch_max_batch_size\\\":1,\\\"iterations\\\":1000,\\\"primary_metric\\\":\\\"accuracy\\\",\\\"task_type\\\":\\\"classification\\\",\\\"data_script\\\":null,\\\"validation_size\\\":0.0,\\\"n_cross_validations\\\":5,\\\"y_min\\\":null,\\\"y_max\\\":null,\\\"num_classes\\\":null,\\\"featurization\\\":\\\"auto\\\",\\\"_ignore_package_version_incompatibilities\\\":false,\\\"is_timeseries\\\":false,\\\"max_cores_per_iteration\\\":1,\\\"max_concurrent_iterations\\\":5,\\\"iteration_timeout_minutes\\\":null,\\\"mem_in_mb\\\":null,\\\"enforce_time_on_windows\\\":false,\\\"experiment_timeout_minutes\\\":30,\\\"experiment_exit_score\\\":null,\\\"whitelist_models\\\":null,\\\"blacklist_algos\\\":[\\\"TensorFlowLinearClassifier\\\",\\\"TensorFlowDNN\\\"],\\\"supported_models\\\":[\\\"MultinomialNaiveBayes\\\",\\\"DecisionTree\\\",\\\"AveragedPerceptronClassifier\\\",\\\"SGD\\\",\\\"ExtremeRandomTrees\\\",\\\"LinearSVM\\\",\\\"KNN\\\",\\\"LogisticRegression\\\",\\\"SVM\\\",\\\"RandomForest\\\",\\\"LightGBM\\\",\\\"TensorFlowLinearClassifier\\\",\\\"BernoulliNaiveBayes\\\",\\\"TensorFlowDNN\\\",\\\"XGBoostClassifier\\\",\\\"GradientBoosting\\\"],\\\"auto_blacklist\\\":true,\\\"blacklist_samples_reached\\\":false,\\\"exclude_nan_labels\\\":true,\\\"verbosity\\\":20,\\\"_debug_log\\\":\\\"azureml_automl.log\\\",\\\"show_warnings\\\":false,\\\"model_explainability\\\":true,\\\"service_url\\\":null,\\\"sdk_url\\\":null,\\\"sdk_packages\\\":null,\\\"enable_onnx_compatible_models\\\":true,\\\"enable_split_onnx_featurizer_estimator_models\\\":false,\\\"vm_type\\\":\\\"STANDARD_DS12_V2\\\",\\\"telemetry_verbosity\\\":20,\\\"send_telemetry\\\":true,\\\"enable_dnn\\\":false,\\\"scenario\\\":\\\"SDK-1.13.0\\\",\\\"environment_label\\\":null,\\\"force_text_dnn\\\":false,\\\"enable_feature_sweeping\\\":false,\\\"enable_early_stopping\\\":true,\\\"early_stopping_n_iters\\\":10,\\\"metrics\\\":null,\\\"enable_ensembling\\\":true,\\\"enable_stack_ensembling\\\":false,\\\"ensemble_iterations\\\":15,\\\"enable_tf\\\":false,\\\"enable_subsampling\\\":null,\\\"subsample_seed\\\":null,\\\"enable_nimbusml\\\":false,\\\"enable_streaming\\\":false,\\\"force_streaming\\\":false,\\\"track_child_runs\\\":true,\\\"allowed_private_models\\\":[],\\\"label_column_name\\\":\\\"loanDefault\\\",\\\"weight_column_name\\\":null,\\\"cv_split_column_names\\\":null,\\\"enable_local_managed\\\":false,\\\"_local_managed_run_id\\\":null,\\\"cost_mode\\\":1,\\\"lag_length\\\":0,\\\"metric_operation\\\":\\\"maximize\\\",\\\"preprocess\\\":true}\", \"DataPrepJsonString\": \"{\\\\\\\"training_data\\\\\\\": \\\\\\\"{\\\\\\\\\\\\\\\"blocks\\\\\\\\\\\\\\\": [{\\\\\\\\\\\\\\\"id\\\\\\\\\\\\\\\": \\\\\\\\\\\\\\\"c256afe6-a24d-43e3-af7c-4999da1b8cbd\\\\\\\\\\\\\\\", \\\\\\\\\\\\\\\"type\\\\\\\\\\\\\\\": \\\\\\\\\\\\\\\"Microsoft.DPrep.GetDatastoreFilesBlock\\\\\\\\\\\\\\\", \\\\\\\\\\\\\\\"arguments\\\\\\\\\\\\\\\": {\\\\\\\\\\\\\\\"datastores\\\\\\\\\\\\\\\": [{\\\\\\\\\\\\\\\"datastoreName\\\\\\\\\\\\\\\": \\\\\\\\\\\\\\\"workspaceblobstore\\\\\\\\\\\\\\\", \\\\\\\\\\\\\\\"path\\\\\\\\\\\\\\\": \\\\\\\\\\\\\\\"AutoMLData/bb36e146-72e3-40e1-a06f-2fa645bf20af/\\\\\\\\\\\\\\\", \\\\\\\\\\\\\\\"resourceGroup\\\\\\\\\\\\\\\": \\\\\\\\\\\\\\\"aml-quickstarts-137363\\\\\\\\\\\\\\\", \\\\\\\\\\\\\\\"subscription\\\\\\\\\\\\\\\": \\\\\\\\\\\\\\\"aa7cf8e8-d23f-4bce-a7b9-1f0b4e0ac8ee\\\\\\\\\\\\\\\", \\\\\\\\\\\\\\\"workspaceName\\\\\\\\\\\\\\\": \\\\\\\\\\\\\\\"quick-starts-ws-137363\\\\\\\\\\\\\\\"}]}, \\\\\\\\\\\\\\\"localData\\\\\\\\\\\\\\\": {}, \\\\\\\\\\\\\\\"isEnabled\\\\\\\\\\\\\\\": true, \\\\\\\\\\\\\\\"name\\\\\\\\\\\\\\\": null, \\\\\\\\\\\\\\\"annotation\\\\\\\\\\\\\\\": null}, {\\\\\\\\\\\\\\\"id\\\\\\\\\\\\\\\": \\\\\\\\\\\\\\\"7c21bd4d-bc14-471d-bbc8-60c0dd004b99\\\\\\\\\\\\\\\", \\\\\\\\\\\\\\\"type\\\\\\\\\\\\\\\": \\\\\\\\\\\\\\\"Microsoft.DPrep.ReadParquetFileBlock\\\\\\\\\\\\\\\", \\\\\\\\\\\\\\\"arguments\\\\\\\\\\\\\\\": {\\\\\\\\\\\\\\\"preview\\\\\\\\\\\\\\\": false}, \\\\\\\\\\\\\\\"localData\\\\\\\\\\\\\\\": {}, \\\\\\\\\\\\\\\"isEnabled\\\\\\\\\\\\\\\": true, \\\\\\\\\\\\\\\"name\\\\\\\\\\\\\\\": null, \\\\\\\\\\\\\\\"annotation\\\\\\\\\\\\\\\": null}, {\\\\\\\\\\\\\\\"id\\\\\\\\\\\\\\\": \\\\\\\\\\\\\\\"219449a9-19f0-4125-bfe5-1b72552ff2b9\\\\\\\\\\\\\\\", \\\\\\\\\\\\\\\"type\\\\\\\\\\\\\\\": \\\\\\\\\\\\\\\"Microsoft.DPrep.DropColumnsBlock\\\\\\\\\\\\\\\", \\\\\\\\\\\\\\\"arguments\\\\\\\\\\\\\\\": {\\\\\\\\\\\\\\\"columns\\\\\\\\\\\\\\\": {\\\\\\\\\\\\\\\"type\\\\\\\\\\\\\\\": 0, \\\\\\\\\\\\\\\"details\\\\\\\\\\\\\\\": {\\\\\\\\\\\\\\\"selectedColumns\\\\\\\\\\\\\\\": [\\\\\\\\\\\\\\\"Path\\\\\\\\\\\\\\\"]}}}, \\\\\\\\\\\\\\\"localData\\\\\\\\\\\\\\\": {}, \\\\\\\\\\\\\\\"isEnabled\\\\\\\\\\\\\\\": true, \\\\\\\\\\\\\\\"name\\\\\\\\\\\\\\\": null, \\\\\\\\\\\\\\\"annotation\\\\\\\\\\\\\\\": null}], \\\\\\\\\\\\\\\"inspectors\\\\\\\\\\\\\\\": [], \\\\\\\\\\\\\\\"meta\\\\\\\\\\\\\\\": {\\\\\\\\\\\\\\\"savedDatasetId\\\\\\\\\\\\\\\": \\\\\\\\\\\\\\\"7696d00c-a670-433b-ac50-c1fc760eabd6\\\\\\\\\\\\\\\", \\\\\\\\\\\\\\\"datasetType\\\\\\\\\\\\\\\": \\\\\\\\\\\\\\\"tabular\\\\\\\\\\\\\\\", \\\\\\\\\\\\\\\"subscriptionId\\\\\\\\\\\\\\\": \\\\\\\\\\\\\\\"aa7cf8e8-d23f-4bce-a7b9-1f0b4e0ac8ee\\\\\\\\\\\\\\\", \\\\\\\\\\\\\\\"workspaceId\\\\\\\\\\\\\\\": \\\\\\\\\\\\\\\"10eb044e-2a5a-4e3c-907d-b1c57192c818\\\\\\\\\\\\\\\", \\\\\\\\\\\\\\\"workspaceLocation\\\\\\\\\\\\\\\": \\\\\\\\\\\\\\\"southcentralus\\\\\\\\\\\\\\\"}}\\\\\\\", \\\\\\\"activities\\\\\\\": 0}\", \"EnableSubsampling\": null, \"runTemplate\": \"AutoML\", \"azureml.runsource\": \"automl\", \"display_task_type\": \"classification\", \"dependencies_versions\": \"{\\\"azureml-widgets\\\": \\\"1.20.0\\\", \\\"azureml-train\\\": \\\"1.20.0\\\", \\\"azureml-train-restclients-hyperdrive\\\": \\\"1.20.0\\\", \\\"azureml-train-core\\\": \\\"1.20.0\\\", \\\"azureml-train-automl\\\": \\\"1.20.0\\\", \\\"azureml-train-automl-runtime\\\": \\\"1.20.0\\\", \\\"azureml-train-automl-client\\\": \\\"1.20.0\\\", \\\"azureml-tensorboard\\\": \\\"1.20.0\\\", \\\"azureml-telemetry\\\": \\\"1.20.0\\\", \\\"azureml-sdk\\\": \\\"1.20.0\\\", \\\"azureml-samples\\\": \\\"0+unknown\\\", \\\"azureml-pipeline\\\": \\\"1.20.0\\\", \\\"azureml-pipeline-steps\\\": \\\"1.20.0\\\", \\\"azureml-pipeline-core\\\": \\\"1.20.0\\\", \\\"azureml-opendatasets\\\": \\\"1.20.0\\\", \\\"azureml-model-management-sdk\\\": \\\"1.0.1b6.post1\\\", \\\"azureml-mlflow\\\": \\\"1.20.0.post1\\\", \\\"azureml-interpret\\\": \\\"1.20.0\\\", \\\"azureml-explain-model\\\": \\\"1.20.0\\\", \\\"azureml-defaults\\\": \\\"1.20.0\\\", \\\"azureml-dataset-runtime\\\": \\\"1.20.0\\\", \\\"azureml-dataprep\\\": \\\"2.7.3\\\", \\\"azureml-dataprep-rslex\\\": \\\"1.5.0\\\", \\\"azureml-dataprep-native\\\": \\\"27.0.0\\\", \\\"azureml-datadrift\\\": \\\"1.20.0\\\", \\\"azureml-core\\\": \\\"1.20.0\\\", \\\"azureml-contrib-services\\\": \\\"1.20.0\\\", \\\"azureml-contrib-server\\\": \\\"1.20.0\\\", \\\"azureml-contrib-reinforcementlearning\\\": \\\"1.20.0\\\", \\\"azureml-contrib-pipeline-steps\\\": \\\"1.20.0\\\", \\\"azureml-contrib-notebook\\\": \\\"1.20.0\\\", \\\"azureml-contrib-interpret\\\": \\\"1.20.0\\\", \\\"azureml-contrib-gbdt\\\": \\\"1.20.0\\\", \\\"azureml-contrib-fairness\\\": \\\"1.20.0\\\", \\\"azureml-contrib-dataset\\\": \\\"1.20.0\\\", \\\"azureml-cli-common\\\": \\\"1.20.0\\\", \\\"azureml-automl-runtime\\\": \\\"1.20.0\\\", \\\"azureml-automl-core\\\": \\\"1.20.0\\\", \\\"azureml-accel-models\\\": \\\"1.20.0\\\"}\", \"_aml_system_scenario_identification\": \"Remote.Parent\", \"ClientType\": \"SDK\", \"environment_cpu_name\": \"AzureML-AutoML\", \"environment_cpu_label\": \"prod\", \"environment_gpu_name\": \"AzureML-AutoML-GPU\", \"environment_gpu_label\": \"prod\", \"root_attribution\": \"automl\", \"attribution\": \"AutoML\", \"Orchestrator\": \"AutoML\", \"CancelUri\": \"https://southcentralus.experiments.azureml.net/jasmine/v1.0/subscriptions/aa7cf8e8-d23f-4bce-a7b9-1f0b4e0ac8ee/resourceGroups/aml-quickstarts-137363/providers/Microsoft.MachineLearningServices/workspaces/quick-starts-ws-137363/experimentids/eb3ffa86-b9f0-45b7-8d0e-42e1200b9e40/cancel/AutoML_b06b1d76-d0fb-4280-9ed4-7c85891cf392\", \"ClientSdkVersion\": \"1.21.0\", \"snapshotId\": \"00000000-0000-0000-0000-000000000000\", \"SetupRunId\": \"AutoML_b06b1d76-d0fb-4280-9ed4-7c85891cf392_setup\", \"SetupRunContainerId\": \"dcid.AutoML_b06b1d76-d0fb-4280-9ed4-7c85891cf392_setup\", \"FeaturizationRunJsonPath\": \"featurizer_container.json\", \"FeaturizationRunId\": \"AutoML_b06b1d76-d0fb-4280-9ed4-7c85891cf392_featurize\", \"ProblemInfoJsonString\": \"{\\\"dataset_num_categorical\\\": 0, \\\"is_sparse\\\": true, \\\"subsampling\\\": false, \\\"dataset_classes\\\": 2, \\\"dataset_features\\\": 99, \\\"dataset_samples\\\": 159596, \\\"single_frequency_class_detected\\\": false}\", \"ModelExplainRunId\": \"AutoML_b06b1d76-d0fb-4280-9ed4-7c85891cf392_ModelExplain\"}, \"tags\": {\"model_explain_run\": \"best_run\", \"_aml_system_azureml.automlComponent\": \"AutoML\", \"pipeline_id\": \"\", \"score\": \"\", \"predicted_cost\": \"\", \"fit_time\": \"\", \"training_percent\": \"\", \"iteration\": \"\", \"run_preprocessor\": \"\", \"run_algorithm\": \"\", \"dynamic_whitelisting_iterations\": \"<25>;<30>;<35>;\", \"automl_best_child_run_id\": \"AutoML_b06b1d76-d0fb-4280-9ed4-7c85891cf392_38\", \"model_explain_best_run_child_id\": \"AutoML_b06b1d76-d0fb-4280-9ed4-7c85891cf392_38\"}, \"end_time_utc\": \"2021-02-05T20:08:39.795781Z\", \"status\": \"Completed\", \"log_files\": {}, \"log_groups\": [], \"run_duration\": \"0:27:23\"}, \"child_runs\": [{\"run_id\": \"AutoML_b06b1d76-d0fb-4280-9ed4-7c85891cf392_0\", \"run_number\": 6, \"metric\": null, \"status\": \"Completed\", \"run_type\": \"azureml.scriptrun\", \"training_percent\": \"100\", \"start_time\": \"2021-02-05T19:47:36.272333Z\", \"end_time\": \"2021-02-05T19:48:56.763003Z\", \"created_time\": \"2021-02-05T19:47:17.234923Z\", \"created_time_dt\": \"2021-02-05T19:47:17.234923Z\", \"duration\": \"0:01:39\", \"iteration\": \"0\", \"goal\": \"accuracy_max\", \"run_name\": \"MaxAbsScaler, LightGBM\", \"run_properties\": \"copy=True\", \"primary_metric\": 0.85158777, \"best_metric\": 0.85158777}, {\"run_id\": \"AutoML_b06b1d76-d0fb-4280-9ed4-7c85891cf392_3\", \"run_number\": 7, \"metric\": null, \"status\": \"Completed\", \"run_type\": \"azureml.scriptrun\", \"training_percent\": \"100\", \"start_time\": \"2021-02-05T19:47:33.153603Z\", \"end_time\": \"2021-02-05T19:48:48.903345Z\", \"created_time\": \"2021-02-05T19:47:17.28457Z\", \"created_time_dt\": \"2021-02-05T19:47:17.28457Z\", \"duration\": \"0:01:31\", \"iteration\": \"3\", \"goal\": \"accuracy_max\", \"run_name\": \"MaxAbsScaler, RandomForest\", \"run_properties\": \"copy=True\", \"primary_metric\": 0.79548989, \"best_metric\": 0.85158777}, {\"run_id\": \"AutoML_b06b1d76-d0fb-4280-9ed4-7c85891cf392_1\", \"run_number\": 8, \"metric\": null, \"status\": \"Completed\", \"run_type\": \"azureml.scriptrun\", \"training_percent\": \"100\", \"start_time\": \"2021-02-05T19:47:34.996534Z\", \"end_time\": \"2021-02-05T19:49:44.372104Z\", \"created_time\": \"2021-02-05T19:47:17.281997Z\", \"created_time_dt\": \"2021-02-05T19:47:17.281997Z\", \"duration\": \"0:02:27\", \"iteration\": \"1\", \"goal\": \"accuracy_max\", \"run_name\": \"MaxAbsScaler, XGBoostClassifier\", \"run_properties\": \"copy=True\", \"primary_metric\": 0.85145619, \"best_metric\": 0.85158777}, {\"run_id\": \"AutoML_b06b1d76-d0fb-4280-9ed4-7c85891cf392_2\", \"run_number\": 9, \"metric\": null, \"status\": \"Completed\", \"run_type\": \"azureml.scriptrun\", \"training_percent\": \"100\", \"start_time\": \"2021-02-05T19:47:33.192426Z\", \"end_time\": \"2021-02-05T19:48:45.724576Z\", \"created_time\": \"2021-02-05T19:47:17.308792Z\", \"created_time_dt\": \"2021-02-05T19:47:17.308792Z\", \"duration\": \"0:01:28\", \"iteration\": \"2\", \"goal\": \"accuracy_max\", \"run_name\": \"MaxAbsScaler, RandomForest\", \"run_properties\": \"copy=True\", \"primary_metric\": 0.84183813, \"best_metric\": 0.85158777}, {\"run_id\": \"AutoML_b06b1d76-d0fb-4280-9ed4-7c85891cf392_4\", \"run_number\": 10, \"metric\": null, \"status\": \"Completed\", \"run_type\": \"azureml.scriptrun\", \"training_percent\": \"100\", \"start_time\": \"2021-02-05T19:47:33.740459Z\", \"end_time\": \"2021-02-05T19:48:48.302609Z\", \"created_time\": \"2021-02-05T19:47:17.325104Z\", \"created_time_dt\": \"2021-02-05T19:47:17.325104Z\", \"duration\": \"0:01:30\", \"iteration\": \"4\", \"goal\": \"accuracy_max\", \"run_name\": \"MaxAbsScaler, RandomForest\", \"run_properties\": \"copy=True\", \"primary_metric\": 0.84641222, \"best_metric\": 0.85158777}, {\"run_id\": \"AutoML_b06b1d76-d0fb-4280-9ed4-7c85891cf392_5\", \"run_number\": 11, \"metric\": null, \"status\": \"Completed\", \"run_type\": \"azureml.scriptrun\", \"training_percent\": \"100\", \"start_time\": \"2021-02-05T19:49:02.96629Z\", \"end_time\": \"2021-02-05T19:50:09.049196Z\", \"created_time\": \"2021-02-05T19:48:50.075296Z\", \"created_time_dt\": \"2021-02-05T19:48:50.075296Z\", \"duration\": \"0:01:18\", \"iteration\": \"5\", \"goal\": \"accuracy_max\", \"run_name\": \"MaxAbsScaler, RandomForest\", \"run_properties\": \"copy=True\", \"primary_metric\": 0.82636146, \"best_metric\": 0.85158777}, {\"run_id\": \"AutoML_b06b1d76-d0fb-4280-9ed4-7c85891cf392_6\", \"run_number\": 12, \"metric\": null, \"status\": \"Completed\", \"run_type\": \"azureml.scriptrun\", \"training_percent\": \"100\", \"start_time\": \"2021-02-05T19:49:07.756984Z\", \"end_time\": \"2021-02-05T19:53:00.783399Z\", \"created_time\": \"2021-02-05T19:48:56.225194Z\", \"created_time_dt\": \"2021-02-05T19:48:56.225194Z\", \"duration\": \"0:04:04\", \"iteration\": \"6\", \"goal\": \"accuracy_max\", \"run_name\": \"SparseNormalizer, XGBoostClassifier\", \"run_properties\": \"<azureml.automl.runtime.shared.model_wrappers.SparseNormalizer object at 0x7fb6a583d978\", \"primary_metric\": 0.85010277, \"best_metric\": 0.85158777}, {\"run_id\": \"AutoML_b06b1d76-d0fb-4280-9ed4-7c85891cf392_7\", \"run_number\": 13, \"metric\": null, \"status\": \"Completed\", \"run_type\": \"azureml.scriptrun\", \"training_percent\": \"100\", \"start_time\": \"2021-02-05T19:49:10.46214Z\", \"end_time\": \"2021-02-05T19:52:07.906757Z\", \"created_time\": \"2021-02-05T19:48:56.256626Z\", \"created_time_dt\": \"2021-02-05T19:48:56.256626Z\", \"duration\": \"0:03:11\", \"iteration\": \"7\", \"goal\": \"accuracy_max\", \"run_name\": \"SparseNormalizer, XGBoostClassifier\", \"run_properties\": \"<azureml.automl.runtime.shared.model_wrappers.SparseNormalizer object at 0x7f0fa155e0b8\", \"primary_metric\": 0.85007144, \"best_metric\": 0.85158777}, {\"run_id\": \"AutoML_b06b1d76-d0fb-4280-9ed4-7c85891cf392_8\", \"run_number\": 14, \"metric\": null, \"status\": \"Completed\", \"run_type\": \"azureml.scriptrun\", \"training_percent\": \"100\", \"start_time\": \"2021-02-05T19:49:12.156338Z\", \"end_time\": \"2021-02-05T19:52:52.6802Z\", \"created_time\": \"2021-02-05T19:49:01.827621Z\", \"created_time_dt\": \"2021-02-05T19:49:01.827621Z\", \"duration\": \"0:03:50\", \"iteration\": \"8\", \"goal\": \"accuracy_max\", \"run_name\": \"SparseNormalizer, XGBoostClassifier\", \"run_properties\": \"<azureml.automl.runtime.shared.model_wrappers.SparseNormalizer object at 0x7fba0def9d30\", \"primary_metric\": 0.85086719, \"best_metric\": 0.85158777}, {\"run_id\": \"AutoML_b06b1d76-d0fb-4280-9ed4-7c85891cf392_9\", \"run_number\": 15, \"metric\": null, \"status\": \"Completed\", \"run_type\": \"azureml.scriptrun\", \"training_percent\": \"100\", \"start_time\": \"2021-02-05T19:49:58.994212Z\", \"end_time\": \"2021-02-05T19:52:52.160944Z\", \"created_time\": \"2021-02-05T19:49:46.722557Z\", \"created_time_dt\": \"2021-02-05T19:49:46.722557Z\", \"duration\": \"0:03:05\", \"iteration\": \"9\", \"goal\": \"accuracy_max\", \"run_name\": \"SparseNormalizer, XGBoostClassifier\", \"run_properties\": \"<azureml.automl.runtime.shared.model_wrappers.SparseNormalizer object at 0x7f49098820f0\", \"primary_metric\": 0.85051005, \"best_metric\": 0.85158777}, {\"run_id\": \"AutoML_b06b1d76-d0fb-4280-9ed4-7c85891cf392_10\", \"run_number\": 16, \"metric\": null, \"status\": \"Completed\", \"run_type\": \"azureml.scriptrun\", \"training_percent\": \"100\", \"start_time\": \"2021-02-05T19:50:23.262541Z\", \"end_time\": \"2021-02-05T19:52:16.443884Z\", \"created_time\": \"2021-02-05T19:50:10.794307Z\", \"created_time_dt\": \"2021-02-05T19:50:10.794307Z\", \"duration\": \"0:02:05\", \"iteration\": \"10\", \"goal\": \"accuracy_max\", \"run_name\": \"SparseNormalizer, XGBoostClassifier\", \"run_properties\": \"<azureml.automl.runtime.shared.model_wrappers.SparseNormalizer object at 0x7f62dcc03ac8\", \"primary_metric\": 0.84636833, \"best_metric\": 0.85158777}, {\"run_id\": \"AutoML_b06b1d76-d0fb-4280-9ed4-7c85891cf392_11\", \"run_number\": 17, \"metric\": null, \"status\": \"Completed\", \"run_type\": \"azureml.scriptrun\", \"training_percent\": \"100\", \"start_time\": \"2021-02-05T19:52:21.67318Z\", \"end_time\": \"2021-02-05T19:56:19.676311Z\", \"created_time\": \"2021-02-05T19:52:10.389696Z\", \"created_time_dt\": \"2021-02-05T19:52:10.389696Z\", \"duration\": \"0:04:09\", \"iteration\": \"11\", \"goal\": \"accuracy_max\", \"run_name\": \"MaxAbsScaler, RandomForest\", \"run_properties\": \"copy=True\", \"primary_metric\": 0.81399284, \"best_metric\": 0.85158777}, {\"run_id\": \"AutoML_b06b1d76-d0fb-4280-9ed4-7c85891cf392_12\", \"run_number\": 18, \"metric\": null, \"status\": \"Completed\", \"run_type\": \"azureml.scriptrun\", \"training_percent\": \"100\", \"start_time\": \"2021-02-05T19:52:29.350149Z\", \"end_time\": \"2021-02-05T19:53:39.159551Z\", \"created_time\": \"2021-02-05T19:52:18.577562Z\", \"created_time_dt\": \"2021-02-05T19:52:18.577562Z\", \"duration\": \"0:01:20\", \"iteration\": \"12\", \"goal\": \"accuracy_max\", \"run_name\": \"SparseNormalizer, XGBoostClassifier\", \"run_properties\": \"<azureml.automl.runtime.shared.model_wrappers.SparseNormalizer object at 0x7f3fb1c5a128\", \"primary_metric\": 0.8421013, \"best_metric\": 0.85158777}, {\"run_id\": \"AutoML_b06b1d76-d0fb-4280-9ed4-7c85891cf392_13\", \"run_number\": 19, \"metric\": null, \"status\": \"Completed\", \"run_type\": \"azureml.scriptrun\", \"training_percent\": \"100\", \"start_time\": \"2021-02-05T19:53:10.485876Z\", \"end_time\": \"2021-02-05T19:54:28.565288Z\", \"created_time\": \"2021-02-05T19:52:56.584264Z\", \"created_time_dt\": \"2021-02-05T19:52:56.584264Z\", \"duration\": \"0:01:31\", \"iteration\": \"13\", \"goal\": \"accuracy_max\", \"run_name\": \"SparseNormalizer, LightGBM\", \"run_properties\": \"<azureml.automl.runtime.shared.model_wrappers.SparseNormalizer object at 0x7fd5099c6d68\", \"primary_metric\": 0.84589842, \"best_metric\": 0.85158777}, {\"run_id\": \"AutoML_b06b1d76-d0fb-4280-9ed4-7c85891cf392_14\", \"run_number\": 20, \"metric\": null, \"status\": \"Completed\", \"run_type\": \"azureml.scriptrun\", \"training_percent\": \"100\", \"start_time\": \"2021-02-05T19:53:10.336423Z\", \"end_time\": \"2021-02-05T19:54:56.952102Z\", \"created_time\": \"2021-02-05T19:52:56.603596Z\", \"created_time_dt\": \"2021-02-05T19:52:56.603596Z\", \"duration\": \"0:02:00\", \"iteration\": \"14\", \"goal\": \"accuracy_max\", \"run_name\": \"MaxAbsScaler, LogisticRegression\", \"run_properties\": \"copy=True\", \"primary_metric\": 0.84806012, \"best_metric\": 0.85158777}, {\"run_id\": \"AutoML_b06b1d76-d0fb-4280-9ed4-7c85891cf392_15\", \"run_number\": 21, \"metric\": null, \"status\": \"Completed\", \"run_type\": \"azureml.scriptrun\", \"training_percent\": \"100\", \"start_time\": \"2021-02-05T19:53:19.388125Z\", \"end_time\": \"2021-02-05T19:59:35.304259Z\", \"created_time\": \"2021-02-05T19:53:03.963466Z\", \"created_time_dt\": \"2021-02-05T19:53:03.963466Z\", \"duration\": \"0:06:31\", \"iteration\": \"15\", \"goal\": \"accuracy_max\", \"run_name\": \"MaxAbsScaler, ExtremeRandomTrees\", \"run_properties\": \"copy=True\", \"primary_metric\": 0.84782202, \"best_metric\": 0.85158777}, {\"run_id\": \"AutoML_b06b1d76-d0fb-4280-9ed4-7c85891cf392_16\", \"run_number\": 22, \"metric\": null, \"status\": \"Completed\", \"run_type\": \"azureml.scriptrun\", \"training_percent\": \"100\", \"start_time\": \"2021-02-05T19:53:52.350591Z\", \"end_time\": \"2021-02-05T19:54:59.602087Z\", \"created_time\": \"2021-02-05T19:53:41.237098Z\", \"created_time_dt\": \"2021-02-05T19:53:41.237098Z\", \"duration\": \"0:01:18\", \"iteration\": \"16\", \"goal\": \"accuracy_max\", \"run_name\": \"MaxAbsScaler, LightGBM\", \"run_properties\": \"copy=True\", \"primary_metric\": 0.84671295, \"best_metric\": 0.85158777}, {\"run_id\": \"AutoML_b06b1d76-d0fb-4280-9ed4-7c85891cf392_17\", \"run_number\": 23, \"metric\": null, \"status\": \"Completed\", \"run_type\": \"azureml.scriptrun\", \"training_percent\": \"100\", \"start_time\": \"2021-02-05T19:54:44.758456Z\", \"end_time\": \"2021-02-05T19:56:13.168015Z\", \"created_time\": \"2021-02-05T19:54:30.685944Z\", \"created_time_dt\": \"2021-02-05T19:54:30.685944Z\", \"duration\": \"0:01:42\", \"iteration\": \"17\", \"goal\": \"accuracy_max\", \"run_name\": \"MaxAbsScaler, LightGBM\", \"run_properties\": \"copy=True\", \"primary_metric\": 0.85056645, \"best_metric\": 0.85158777}, {\"run_id\": \"AutoML_b06b1d76-d0fb-4280-9ed4-7c85891cf392_18\", \"run_number\": 24, \"metric\": null, \"status\": \"Completed\", \"run_type\": \"azureml.scriptrun\", \"training_percent\": \"100\", \"start_time\": \"2021-02-05T19:55:12.579886Z\", \"end_time\": \"2021-02-05T20:02:58.01865Z\", \"created_time\": \"2021-02-05T19:54:59.380333Z\", \"created_time_dt\": \"2021-02-05T19:54:59.380333Z\", \"duration\": \"0:07:58\", \"iteration\": \"18\", \"goal\": \"accuracy_max\", \"run_name\": \"MaxAbsScaler, ExtremeRandomTrees\", \"run_properties\": \"copy=True\", \"primary_metric\": 0.8464874, \"best_metric\": 0.85158777}, {\"run_id\": \"AutoML_b06b1d76-d0fb-4280-9ed4-7c85891cf392_19\", \"run_number\": 25, \"metric\": null, \"status\": \"Completed\", \"run_type\": \"azureml.scriptrun\", \"training_percent\": \"100\", \"start_time\": \"2021-02-05T19:55:15.282026Z\", \"end_time\": \"2021-02-05T19:57:07.779121Z\", \"created_time\": \"2021-02-05T19:55:04.058355Z\", \"created_time_dt\": \"2021-02-05T19:55:04.058355Z\", \"duration\": \"0:02:03\", \"iteration\": \"19\", \"goal\": \"accuracy_max\", \"run_name\": \"MaxAbsScaler, RandomForest\", \"run_properties\": \"copy=True\", \"primary_metric\": 0.8350961, \"best_metric\": 0.85158777}, {\"run_id\": \"AutoML_b06b1d76-d0fb-4280-9ed4-7c85891cf392_20\", \"run_number\": 26, \"metric\": null, \"status\": \"Completed\", \"run_type\": \"azureml.scriptrun\", \"training_percent\": \"100\", \"start_time\": \"2021-02-05T19:57:00.121905Z\", \"end_time\": \"2021-02-05T19:59:20.551537Z\", \"created_time\": \"2021-02-05T19:56:15.203291Z\", \"created_time_dt\": \"2021-02-05T19:56:15.203291Z\", \"duration\": \"0:03:05\", \"iteration\": \"20\", \"goal\": \"accuracy_max\", \"run_name\": \"StandardScalerWrapper, GradientBoosting\", \"run_properties\": \"<azureml.automl.runtime.shared.model_wrappers.StandardScalerWrapper object at 0x7f48a4132438\", \"primary_metric\": 0.84589842, \"best_metric\": 0.85158777}, {\"run_id\": \"AutoML_b06b1d76-d0fb-4280-9ed4-7c85891cf392_21\", \"run_number\": 27, \"metric\": null, \"status\": \"Completed\", \"run_type\": \"azureml.scriptrun\", \"training_percent\": \"100\", \"start_time\": \"2021-02-05T19:56:33.481231Z\", \"end_time\": \"2021-02-05T19:58:33.777319Z\", \"created_time\": \"2021-02-05T19:56:21.507434Z\", \"created_time_dt\": \"2021-02-05T19:56:21.507434Z\", \"duration\": \"0:02:12\", \"iteration\": \"21\", \"goal\": \"accuracy_max\", \"run_name\": \"MaxAbsScaler, LightGBM\", \"run_properties\": \"copy=True\", \"primary_metric\": 0.84210756, \"best_metric\": 0.85158777}, {\"run_id\": \"AutoML_b06b1d76-d0fb-4280-9ed4-7c85891cf392_22\", \"run_number\": 28, \"metric\": null, \"status\": \"Completed\", \"run_type\": \"azureml.scriptrun\", \"training_percent\": \"100\", \"start_time\": \"2021-02-05T19:57:23.84148Z\", \"end_time\": \"2021-02-05T19:58:39.577634Z\", \"created_time\": \"2021-02-05T19:57:09.546707Z\", \"created_time_dt\": \"2021-02-05T19:57:09.546707Z\", \"duration\": \"0:01:30\", \"iteration\": \"22\", \"goal\": \"accuracy_max\", \"run_name\": \"StandardScalerWrapper, LightGBM\", \"run_properties\": \"<azureml.automl.runtime.shared.model_wrappers.StandardScalerWrapper object at 0x7fdba9497438\", \"primary_metric\": 0.8498396, \"best_metric\": 0.85158777}, {\"run_id\": \"AutoML_b06b1d76-d0fb-4280-9ed4-7c85891cf392_23\", \"run_number\": 29, \"metric\": null, \"status\": \"Completed\", \"run_type\": \"azureml.scriptrun\", \"training_percent\": \"100\", \"start_time\": \"2021-02-05T19:58:51.226368Z\", \"end_time\": \"2021-02-05T20:00:10.183942Z\", \"created_time\": \"2021-02-05T19:58:36.590201Z\", \"created_time_dt\": \"2021-02-05T19:58:36.590201Z\", \"duration\": \"0:01:33\", \"iteration\": \"23\", \"goal\": \"accuracy_max\", \"run_name\": \"SparseNormalizer, LightGBM\", \"run_properties\": \"<azureml.automl.runtime.shared.model_wrappers.SparseNormalizer object at 0x7f900b6c1eb8\", \"primary_metric\": 0.84210756, \"best_metric\": 0.85158777}, {\"run_id\": \"AutoML_b06b1d76-d0fb-4280-9ed4-7c85891cf392_24\", \"run_number\": 30, \"metric\": null, \"status\": \"Completed\", \"run_type\": \"azureml.scriptrun\", \"training_percent\": \"100\", \"start_time\": \"2021-02-05T19:58:54.674357Z\", \"end_time\": \"2021-02-05T20:01:05.993597Z\", \"created_time\": \"2021-02-05T19:58:42.094644Z\", \"created_time_dt\": \"2021-02-05T19:58:42.094644Z\", \"duration\": \"0:02:23\", \"iteration\": \"24\", \"goal\": \"accuracy_max\", \"run_name\": \"SparseNormalizer, LightGBM\", \"run_properties\": \"<azureml.automl.runtime.shared.model_wrappers.SparseNormalizer object at 0x7f4f56ff5f60\", \"primary_metric\": 0.84810399, \"best_metric\": 0.85158777}, {\"run_id\": \"AutoML_b06b1d76-d0fb-4280-9ed4-7c85891cf392_25\", \"run_number\": 31, \"metric\": null, \"status\": \"Completed\", \"run_type\": \"azureml.scriptrun\", \"training_percent\": \"100\", \"start_time\": \"2021-02-05T19:59:38.529673Z\", \"end_time\": \"2021-02-05T20:02:38.328098Z\", \"created_time\": \"2021-02-05T19:59:24.386413Z\", \"created_time_dt\": \"2021-02-05T19:59:24.386413Z\", \"duration\": \"0:03:13\", \"iteration\": \"25\", \"goal\": \"accuracy_max\", \"run_name\": \"MaxAbsScaler, LightGBM\", \"run_properties\": \"copy=True\", \"primary_metric\": 0.72010577, \"best_metric\": 0.85158777}, {\"run_id\": \"AutoML_b06b1d76-d0fb-4280-9ed4-7c85891cf392_26\", \"run_number\": 32, \"metric\": null, \"status\": \"Completed\", \"run_type\": \"azureml.scriptrun\", \"training_percent\": \"100\", \"start_time\": \"2021-02-05T19:59:53.011442Z\", \"end_time\": \"2021-02-05T20:01:07.313601Z\", \"created_time\": \"2021-02-05T19:59:39.446121Z\", \"created_time_dt\": \"2021-02-05T19:59:39.446121Z\", \"duration\": \"0:01:27\", \"iteration\": \"26\", \"goal\": \"accuracy_max\", \"run_name\": \"SparseNormalizer, LightGBM\", \"run_properties\": \"<azureml.automl.runtime.shared.model_wrappers.SparseNormalizer object at 0x7f141929f320\", \"primary_metric\": 0.84901878, \"best_metric\": 0.85158777}, {\"run_id\": \"AutoML_b06b1d76-d0fb-4280-9ed4-7c85891cf392_27\", \"run_number\": 33, \"metric\": null, \"status\": \"Completed\", \"run_type\": \"azureml.scriptrun\", \"training_percent\": \"100\", \"start_time\": \"2021-02-05T20:00:30.978066Z\", \"end_time\": \"2021-02-05T20:01:45.021079Z\", \"created_time\": \"2021-02-05T20:00:13.542516Z\", \"created_time_dt\": \"2021-02-05T20:00:13.542516Z\", \"duration\": \"0:01:31\", \"iteration\": \"27\", \"goal\": \"accuracy_max\", \"run_name\": \"SparseNormalizer, LightGBM\", \"run_properties\": \"<azureml.automl.runtime.shared.model_wrappers.SparseNormalizer object at 0x7f1da4931e80\", \"primary_metric\": 0.84210756, \"best_metric\": 0.85158777}, {\"run_id\": \"AutoML_b06b1d76-d0fb-4280-9ed4-7c85891cf392_28\", \"run_number\": 34, \"metric\": null, \"status\": \"Completed\", \"run_type\": \"azureml.scriptrun\", \"training_percent\": \"100\", \"start_time\": \"2021-02-05T20:01:28.554465Z\", \"end_time\": \"2021-02-05T20:02:53.58529Z\", \"created_time\": \"2021-02-05T20:01:08.504007Z\", \"created_time_dt\": \"2021-02-05T20:01:08.504007Z\", \"duration\": \"0:01:45\", \"iteration\": \"28\", \"goal\": \"accuracy_max\", \"run_name\": \"StandardScalerWrapper, LightGBM\", \"run_properties\": \"<azureml.automl.runtime.shared.model_wrappers.StandardScalerWrapper object at 0x7fb10a299908\", \"primary_metric\": 0.84885589, \"best_metric\": 0.85158777}, {\"run_id\": \"AutoML_b06b1d76-d0fb-4280-9ed4-7c85891cf392_29\", \"run_number\": 35, \"metric\": null, \"status\": \"Completed\", \"run_type\": \"azureml.scriptrun\", \"training_percent\": \"100\", \"start_time\": \"2021-02-05T20:01:27.462362Z\", \"end_time\": \"2021-02-05T20:02:47.699948Z\", \"created_time\": \"2021-02-05T20:01:14.734201Z\", \"created_time_dt\": \"2021-02-05T20:01:14.734201Z\", \"duration\": \"0:01:32\", \"iteration\": \"29\", \"goal\": \"accuracy_max\", \"run_name\": \"StandardScalerWrapper, XGBoostClassifier\", \"run_properties\": \"<azureml.automl.runtime.shared.model_wrappers.StandardScalerWrapper object at 0x7f48413b5eb8\", \"primary_metric\": 0.84463271, \"best_metric\": 0.85158777}, {\"run_id\": \"AutoML_b06b1d76-d0fb-4280-9ed4-7c85891cf392_30\", \"run_number\": 36, \"metric\": null, \"status\": \"Completed\", \"run_type\": \"azureml.scriptrun\", \"training_percent\": \"100\", \"start_time\": \"2021-02-05T20:02:01.954484Z\", \"end_time\": \"2021-02-05T20:03:13.009814Z\", \"created_time\": \"2021-02-05T20:01:48.497761Z\", \"created_time_dt\": \"2021-02-05T20:01:48.497761Z\", \"duration\": \"0:01:24\", \"iteration\": \"30\", \"goal\": \"accuracy_max\", \"run_name\": \"SparseNormalizer, LightGBM\", \"run_properties\": \"<azureml.automl.runtime.shared.model_wrappers.SparseNormalizer object at 0x7f0fc2653208\", \"primary_metric\": 0.84210756, \"best_metric\": 0.85158777}, {\"run_id\": \"AutoML_b06b1d76-d0fb-4280-9ed4-7c85891cf392_31\", \"run_number\": 37, \"metric\": null, \"status\": \"Completed\", \"run_type\": \"azureml.scriptrun\", \"training_percent\": \"100\", \"start_time\": \"2021-02-05T20:02:52.329858Z\", \"end_time\": \"2021-02-05T20:04:11.804916Z\", \"created_time\": \"2021-02-05T20:02:41.1214Z\", \"created_time_dt\": \"2021-02-05T20:02:41.1214Z\", \"duration\": \"0:01:30\", \"iteration\": \"31\", \"goal\": \"accuracy_max\", \"run_name\": \"StandardScalerWrapper, LightGBM\", \"run_properties\": \"<azureml.automl.runtime.shared.model_wrappers.StandardScalerWrapper object at 0x7f9ebe6d7c50\", \"primary_metric\": 0.84210756, \"best_metric\": 0.85158777}, {\"run_id\": \"AutoML_b06b1d76-d0fb-4280-9ed4-7c85891cf392_32\", \"run_number\": 38, \"metric\": null, \"status\": \"Canceled\", \"run_type\": \"azureml.scriptrun\", \"training_percent\": \"100\", \"start_time\": \"2021-02-05T20:03:02.293739Z\", \"end_time\": \"2021-02-05T20:05:06.200045Z\", \"created_time\": \"2021-02-05T20:02:50.046445Z\", \"created_time_dt\": \"2021-02-05T20:02:50.046445Z\", \"duration\": \"0:02:16\", \"iteration\": \"32\", \"goal\": null, \"run_name\": \"SparseNormalizer, XGBoostClassifier\", \"run_properties\": null}, {\"run_id\": \"AutoML_b06b1d76-d0fb-4280-9ed4-7c85891cf392_33\", \"run_number\": 39, \"metric\": null, \"status\": \"Completed\", \"run_type\": \"azureml.scriptrun\", \"training_percent\": \"100\", \"start_time\": \"2021-02-05T20:03:07.372247Z\", \"end_time\": \"2021-02-05T20:04:48.253304Z\", \"created_time\": \"2021-02-05T20:02:55.929058Z\", \"created_time_dt\": \"2021-02-05T20:02:55.929058Z\", \"duration\": \"0:01:52\", \"iteration\": \"33\", \"goal\": \"accuracy_max\", \"run_name\": \"MaxAbsScaler, RandomForest\", \"run_properties\": \"copy=True\", \"primary_metric\": 0.84594228, \"best_metric\": 0.85158777}, {\"run_id\": \"AutoML_b06b1d76-d0fb-4280-9ed4-7c85891cf392_34\", \"run_number\": 40, \"metric\": null, \"status\": \"Canceled\", \"run_type\": \"azureml.scriptrun\", \"training_percent\": \"100\", \"start_time\": \"2021-02-05T20:03:13.833728Z\", \"end_time\": \"2021-02-05T20:05:06.179274Z\", \"created_time\": \"2021-02-05T20:03:00.343184Z\", \"created_time_dt\": \"2021-02-05T20:03:00.343184Z\", \"duration\": \"0:02:05\", \"iteration\": \"34\", \"goal\": null, \"run_name\": \"SparseNormalizer, XGBoostClassifier\", \"run_properties\": null}, {\"run_id\": \"AutoML_b06b1d76-d0fb-4280-9ed4-7c85891cf392_35\", \"run_number\": 41, \"metric\": null, \"status\": \"Completed\", \"run_type\": \"azureml.scriptrun\", \"training_percent\": \"100\", \"start_time\": \"2021-02-05T20:03:36.002558Z\", \"end_time\": \"2021-02-05T20:04:58.653779Z\", \"created_time\": \"2021-02-05T20:03:20.669947Z\", \"created_time_dt\": \"2021-02-05T20:03:20.669947Z\", \"duration\": \"0:01:37\", \"iteration\": \"35\", \"goal\": \"accuracy_max\", \"run_name\": \"MaxAbsScaler, LightGBM\", \"run_properties\": \"copy=True\", \"primary_metric\": 0.84210756, \"best_metric\": 0.85158777}, {\"run_id\": \"AutoML_b06b1d76-d0fb-4280-9ed4-7c85891cf392_36\", \"run_number\": 42, \"metric\": null, \"status\": \"Canceled\", \"run_type\": \"azureml.scriptrun\", \"training_percent\": \"100\", \"start_time\": \"2021-02-05T20:04:26.336909Z\", \"end_time\": \"2021-02-05T20:05:08.097454Z\", \"created_time\": \"2021-02-05T20:04:14.35447Z\", \"created_time_dt\": \"2021-02-05T20:04:14.35447Z\", \"duration\": \"0:00:53\", \"iteration\": \"36\", \"goal\": null, \"run_name\": \"MaxAbsScaler, LogisticRegression\", \"run_properties\": null}, {\"run_id\": \"AutoML_b06b1d76-d0fb-4280-9ed4-7c85891cf392_37\", \"run_number\": 43, \"metric\": null, \"status\": \"Canceled\", \"run_type\": \"azureml.scriptrun\", \"training_percent\": \"100\", \"start_time\": \"2021-02-05T20:04:50.554929Z\", \"end_time\": \"2021-02-05T20:05:10.387743Z\", \"created_time\": \"2021-02-05T20:04:50.554929Z\", \"created_time_dt\": \"2021-02-05T20:04:50.554929Z\", \"duration\": \"0:00:19\", \"iteration\": \"37\", \"goal\": null, \"run_name\": \"Canceled\", \"run_properties\": null}, {\"run_id\": \"AutoML_b06b1d76-d0fb-4280-9ed4-7c85891cf392_38\", \"run_number\": 44, \"metric\": null, \"status\": \"Completed\", \"run_type\": \"azureml.scriptrun\", \"training_percent\": \"100\", \"start_time\": \"2021-02-05T20:05:23.256506Z\", \"end_time\": \"2021-02-05T20:08:23.839374Z\", \"created_time\": \"2021-02-05T20:05:11.770041Z\", \"created_time_dt\": \"2021-02-05T20:05:11.770041Z\", \"duration\": \"0:03:12\", \"iteration\": \"38\", \"goal\": \"accuracy_max\", \"run_name\": \"VotingEnsemble\", \"run_properties\": \"classification_labels=None,\\n                              estimators=[('0',\\n                                           Pipeline(memory=None,\\n                                                    steps=[('maxabsscaler',\\n                                                            MaxAbsScaler(copy=True\", \"primary_metric\": 0.8521141, \"best_metric\": 0.8521141}], \"children_metrics\": {\"categories\": [0], \"series\": {\"balanced_accuracy\": [{\"categories\": [\"0\", \"1\", \"2\", \"3\", \"4\", \"5\", \"6\", \"7\", \"8\", \"9\", \"10\", \"11\", \"12\", \"13\", \"14\", \"15\", \"16\", \"17\", \"18\", \"19\", \"20\", \"21\", \"22\", \"23\", \"24\", \"25\", \"26\", \"27\", \"28\", \"29\", \"30\", \"31\", \"33\", \"35\", \"38\"], \"mode\": \"markers\", \"name\": \"balanced_accuracy\", \"stepped\": false, \"type\": \"scatter\", \"data\": [0.7838242355637323, 0.777629567214343, 0.7254615788568453, 0.6355028644315632, 0.8161111779669035, 0.7750567413785238, 0.7863108527001198, 0.7827185116609676, 0.7858801222568298, 0.7872989664958355, 0.7499264160778771, 0.6677306473753728, 0.7179323323795188, 0.8167180395632411, 0.7856956491881352, 0.8133624914937883, 0.7431016419548646, 0.7765838416362065, 0.8159690754496169, 0.7054128068987275, 0.8167180395632411, 0.7179435670722499, 0.7708487005890566, 0.7179435670722499, 0.8130792840030037, 0.5, 0.7722876511611492, 0.7179435670722499, 0.8069047676009589, 0.7558394587279735, 0.7179435670722499, 0.7179435670722499, 0.8164561511571863, 0.7179435670722499, 0.7776959877910882]}, {\"categories\": [\"0\", \"1\", \"2\", \"3\", \"4\", \"5\", \"6\", \"7\", \"8\", \"9\", \"10\", \"11\", \"12\", \"13\", \"14\", \"15\", \"16\", \"17\", \"18\", \"19\", \"20\", \"21\", \"22\", \"23\", \"24\", \"25\", \"26\", \"27\", \"28\", \"29\", \"30\", \"31\", \"33\", \"35\", \"38\"], \"mode\": \"lines\", \"name\": \"balanced_accuracy_max\", \"stepped\": true, \"type\": \"scatter\", \"data\": [0.7838242355637323, 0.7838242355637323, 0.7838242355637323, 0.7838242355637323, 0.8161111779669035, 0.8161111779669035, 0.8161111779669035, 0.8161111779669035, 0.8161111779669035, 0.8161111779669035, 0.8161111779669035, 0.8161111779669035, 0.8161111779669035, 0.8167180395632411, 0.8167180395632411, 0.8167180395632411, 0.8167180395632411, 0.8167180395632411, 0.8167180395632411, 0.8167180395632411, 0.8167180395632411, 0.8167180395632411, 0.8167180395632411, 0.8167180395632411, 0.8167180395632411, 0.8167180395632411, 0.8167180395632411, 0.8167180395632411, 0.8167180395632411, 0.8167180395632411, 0.8167180395632411, 0.8167180395632411, 0.8167180395632411, 0.8167180395632411, 0.8167180395632411]}], \"log_loss\": [{\"categories\": [\"0\", \"1\", \"2\", \"3\", \"4\", \"5\", \"6\", \"7\", \"8\", \"9\", \"10\", \"11\", \"12\", \"13\", \"14\", \"15\", \"16\", \"17\", \"18\", \"19\", \"20\", \"21\", \"22\", \"23\", \"24\", \"25\", \"26\", \"27\", \"28\", \"29\", \"30\", \"31\", \"33\", \"35\", \"38\"], \"mode\": \"markers\", \"name\": \"log_loss\", \"stepped\": false, \"type\": \"scatter\", \"data\": [0.3383071237907589, 0.33952179703549984, 0.40584372832349824, 0.46855591110724165, 0.5246631558066819, 0.5602792954168005, 0.34024347411141004, 0.35135679342345083, 0.33972776950819517, 0.3399799788881768, 0.42767923166025035, 0.47083538269988645, 0.434449912003583, 0.3697087814268321, 0.3433581403115456, 0.36748968231241974, 0.4038205490854122, 0.3407217936939603, 0.3580558082661288, 0.44693226277674986, 0.4009140221959595, 0.41227296238326866, 0.4348803756229601, 0.393365333565463, 0.3650236315098447, 0.5916079371048577, 0.3529779327026011, 0.4368247572179758, 0.36879880608562254, 0.42051546222940617, 0.4413196643499142, 0.44756733966296813, 0.4780040756881996, 0.39858810135423745, 0.35610441546303195]}, {\"categories\": [\"0\", \"1\", \"2\", \"3\", \"4\", \"5\", \"6\", \"7\", \"8\", \"9\", \"10\", \"11\", \"12\", \"13\", \"14\", \"15\", \"16\", \"17\", \"18\", \"19\", \"20\", \"21\", \"22\", \"23\", \"24\", \"25\", \"26\", \"27\", \"28\", \"29\", \"30\", \"31\", \"33\", \"35\", \"38\"], \"mode\": \"lines\", \"name\": \"log_loss_min\", \"stepped\": true, \"type\": \"scatter\", \"data\": [0.3383071237907589, 0.3383071237907589, 0.3383071237907589, 0.3383071237907589, 0.3383071237907589, 0.3383071237907589, 0.3383071237907589, 0.3383071237907589, 0.3383071237907589, 0.3383071237907589, 0.3383071237907589, 0.3383071237907589, 0.3383071237907589, 0.3383071237907589, 0.3383071237907589, 0.3383071237907589, 0.3383071237907589, 0.3383071237907589, 0.3383071237907589, 0.3383071237907589, 0.3383071237907589, 0.3383071237907589, 0.3383071237907589, 0.3383071237907589, 0.3383071237907589, 0.3383071237907589, 0.3383071237907589, 0.3383071237907589, 0.3383071237907589, 0.3383071237907589, 0.3383071237907589, 0.3383071237907589, 0.3383071237907589, 0.3383071237907589, 0.3383071237907589]}], \"recall_score_weighted\": [{\"categories\": [\"0\", \"1\", \"2\", \"3\", \"4\", \"5\", \"6\", \"7\", \"8\", \"9\", \"10\", \"11\", \"12\", \"13\", \"14\", \"15\", \"16\", \"17\", \"18\", \"19\", \"20\", \"21\", \"22\", \"23\", \"24\", \"25\", \"26\", \"27\", \"28\", \"29\", \"30\", \"31\", \"33\", \"35\", \"38\"], \"mode\": \"markers\", \"name\": \"recall_score_weighted\", \"stepped\": false, \"type\": \"scatter\", \"data\": [0.8515877706107746, 0.8514561940189929, 0.8418381321736937, 0.7954898878198975, 0.8464122175720326, 0.8263614642986111, 0.85010277463765, 0.8500714437649624, 0.8508671948912665, 0.8505100485007437, 0.8463683302447667, 0.8139928359543553, 0.842101297920386, 0.8458984170143709, 0.8480601192429363, 0.8478220230233469, 0.846712953158924, 0.8505664471338438, 0.8464874012233817, 0.8350960977273221, 0.8458984170143709, 0.8421075637808453, 0.8498395969167255, 0.8421075637808453, 0.8481039851736236, 0.7201057693734635, 0.8490187841152743, 0.8421075637808453, 0.8488558874472437, 0.8446327055459383, 0.8421075637808453, 0.8421075637808453, 0.8459422772523905, 0.8421075637808453, 0.852114099159676]}, {\"categories\": [\"0\", \"1\", \"2\", \"3\", \"4\", \"5\", \"6\", \"7\", \"8\", \"9\", \"10\", \"11\", \"12\", \"13\", \"14\", \"15\", \"16\", \"17\", \"18\", \"19\", \"20\", \"21\", \"22\", \"23\", \"24\", \"25\", \"26\", \"27\", \"28\", \"29\", \"30\", \"31\", \"33\", \"35\", \"38\"], \"mode\": \"lines\", \"name\": \"recall_score_weighted_max\", \"stepped\": true, \"type\": \"scatter\", \"data\": [0.8515877706107746, 0.8515877706107746, 0.8515877706107746, 0.8515877706107746, 0.8515877706107746, 0.8515877706107746, 0.8515877706107746, 0.8515877706107746, 0.8515877706107746, 0.8515877706107746, 0.8515877706107746, 0.8515877706107746, 0.8515877706107746, 0.8515877706107746, 0.8515877706107746, 0.8515877706107746, 0.8515877706107746, 0.8515877706107746, 0.8515877706107746, 0.8515877706107746, 0.8515877706107746, 0.8515877706107746, 0.8515877706107746, 0.8515877706107746, 0.8515877706107746, 0.8515877706107746, 0.8515877706107746, 0.8515877706107746, 0.8515877706107746, 0.8515877706107746, 0.8515877706107746, 0.8515877706107746, 0.8515877706107746, 0.8515877706107746, 0.852114099159676]}], \"AUC_macro\": [{\"categories\": [\"0\", \"1\", \"2\", \"3\", \"4\", \"5\", \"6\", \"7\", \"8\", \"9\", \"10\", \"11\", \"12\", \"13\", \"14\", \"15\", \"16\", \"17\", \"18\", \"19\", \"20\", \"21\", \"22\", \"23\", \"24\", \"25\", \"26\", \"27\", \"28\", \"29\", \"30\", \"31\", \"33\", \"35\", \"38\"], \"mode\": \"markers\", \"name\": \"AUC_macro\", \"stepped\": false, \"type\": \"scatter\", \"data\": [0.8754964836862354, 0.8737859251464398, 0.861867551946043, 0.8445979351024088, 0.8604768553535307, 0.8161561158851243, 0.8726083548386846, 0.8709203974999322, 0.872600779646376, 0.8723271075341614, 0.8710052046260535, 0.8561389171562303, 0.8633612674173881, 0.8665953020479813, 0.8688777058500821, 0.8668189576536275, 0.8689701251415174, 0.874587884098138, 0.8696787138334404, 0.8551013313947411, 0.8432532253563487, 0.8706357489564789, 0.8597712302076144, 0.864709980953247, 0.8684280428833014, 0.8550998350472707, 0.8706330926568052, 0.8693707339144208, 0.8716892780755916, 0.8541768983725927, 0.8688798042836499, 0.8710783714196321, 0.8648930630214651, 0.8704281926383477, 0.8752435346723424]}, {\"categories\": [\"0\", \"1\", \"2\", \"3\", \"4\", \"5\", \"6\", \"7\", \"8\", \"9\", \"10\", \"11\", \"12\", \"13\", \"14\", \"15\", \"16\", \"17\", \"18\", \"19\", \"20\", \"21\", \"22\", \"23\", \"24\", \"25\", \"26\", \"27\", \"28\", \"29\", \"30\", \"31\", \"33\", \"35\", \"38\"], \"mode\": \"lines\", \"name\": \"AUC_macro_max\", \"stepped\": true, \"type\": \"scatter\", \"data\": [0.8754964836862354, 0.8754964836862354, 0.8754964836862354, 0.8754964836862354, 0.8754964836862354, 0.8754964836862354, 0.8754964836862354, 0.8754964836862354, 0.8754964836862354, 0.8754964836862354, 0.8754964836862354, 0.8754964836862354, 0.8754964836862354, 0.8754964836862354, 0.8754964836862354, 0.8754964836862354, 0.8754964836862354, 0.8754964836862354, 0.8754964836862354, 0.8754964836862354, 0.8754964836862354, 0.8754964836862354, 0.8754964836862354, 0.8754964836862354, 0.8754964836862354, 0.8754964836862354, 0.8754964836862354, 0.8754964836862354, 0.8754964836862354, 0.8754964836862354, 0.8754964836862354, 0.8754964836862354, 0.8754964836862354, 0.8754964836862354, 0.8754964836862354]}], \"norm_macro_recall\": [{\"categories\": [\"0\", \"1\", \"2\", \"3\", \"4\", \"5\", \"6\", \"7\", \"8\", \"9\", \"10\", \"11\", \"12\", \"13\", \"14\", \"15\", \"16\", \"17\", \"18\", \"19\", \"20\", \"21\", \"22\", \"23\", \"24\", \"25\", \"26\", \"27\", \"28\", \"29\", \"30\", \"31\", \"33\", \"35\", \"38\"], \"mode\": \"markers\", \"name\": \"norm_macro_recall\", \"stepped\": false, \"type\": \"scatter\", \"data\": [0.5676484711274645, 0.5552591344286857, 0.4509231577136907, 0.2710057288631268, 0.632222355933807, 0.5501134827570475, 0.5726217054002397, 0.5654370233219355, 0.5717602445136596, 0.5745979329916711, 0.49985283215575455, 0.3354612947507458, 0.4358646647590378, 0.6334360791264821, 0.5713912983762706, 0.6267249829875767, 0.4862032839097291, 0.5531676832724131, 0.631938150899234, 0.41082561379745497, 0.6334360791264821, 0.4358871341445001, 0.5416974011781135, 0.4358871341445001, 0.6261585680060071, 0.0, 0.5445753023222983, 0.4358871341445001, 0.6138095352019179, 0.5116789174559473, 0.4358871341445001, 0.4358871341445001, 0.6329123023143726, 0.4358871341445001, 0.5553919755821762]}, {\"categories\": [\"0\", \"1\", \"2\", \"3\", \"4\", \"5\", \"6\", \"7\", \"8\", \"9\", \"10\", \"11\", \"12\", \"13\", \"14\", \"15\", \"16\", \"17\", \"18\", \"19\", \"20\", \"21\", \"22\", \"23\", \"24\", \"25\", \"26\", \"27\", \"28\", \"29\", \"30\", \"31\", \"33\", \"35\", \"38\"], \"mode\": \"lines\", \"name\": \"norm_macro_recall_max\", \"stepped\": true, \"type\": \"scatter\", \"data\": [0.5676484711274645, 0.5676484711274645, 0.5676484711274645, 0.5676484711274645, 0.632222355933807, 0.632222355933807, 0.632222355933807, 0.632222355933807, 0.632222355933807, 0.632222355933807, 0.632222355933807, 0.632222355933807, 0.632222355933807, 0.6334360791264821, 0.6334360791264821, 0.6334360791264821, 0.6334360791264821, 0.6334360791264821, 0.6334360791264821, 0.6334360791264821, 0.6334360791264821, 0.6334360791264821, 0.6334360791264821, 0.6334360791264821, 0.6334360791264821, 0.6334360791264821, 0.6334360791264821, 0.6334360791264821, 0.6334360791264821, 0.6334360791264821, 0.6334360791264821, 0.6334360791264821, 0.6334360791264821, 0.6334360791264821, 0.6334360791264821]}], \"recall_score_macro\": [{\"categories\": [\"0\", \"1\", \"2\", \"3\", \"4\", \"5\", \"6\", \"7\", \"8\", \"9\", \"10\", \"11\", \"12\", \"13\", \"14\", \"15\", \"16\", \"17\", \"18\", \"19\", \"20\", \"21\", \"22\", \"23\", \"24\", \"25\", \"26\", \"27\", \"28\", \"29\", \"30\", \"31\", \"33\", \"35\", \"38\"], \"mode\": \"markers\", \"name\": \"recall_score_macro\", \"stepped\": false, \"type\": \"scatter\", \"data\": [0.7838242355637323, 0.777629567214343, 0.7254615788568453, 0.6355028644315632, 0.8161111779669035, 0.7750567413785238, 0.7863108527001198, 0.7827185116609676, 0.7858801222568298, 0.7872989664958355, 0.7499264160778771, 0.6677306473753728, 0.7179323323795188, 0.8167180395632411, 0.7856956491881352, 0.8133624914937883, 0.7431016419548646, 0.7765838416362065, 0.8159690754496169, 0.7054128068987275, 0.8167180395632411, 0.7179435670722499, 0.7708487005890566, 0.7179435670722499, 0.8130792840030037, 0.5, 0.7722876511611492, 0.7179435670722499, 0.8069047676009589, 0.7558394587279735, 0.7179435670722499, 0.7179435670722499, 0.8164561511571863, 0.7179435670722499, 0.7776959877910882]}, {\"categories\": [\"0\", \"1\", \"2\", \"3\", \"4\", \"5\", \"6\", \"7\", \"8\", \"9\", \"10\", \"11\", \"12\", \"13\", \"14\", \"15\", \"16\", \"17\", \"18\", \"19\", \"20\", \"21\", \"22\", \"23\", \"24\", \"25\", \"26\", \"27\", \"28\", \"29\", \"30\", \"31\", \"33\", \"35\", \"38\"], \"mode\": \"lines\", \"name\": \"recall_score_macro_max\", \"stepped\": true, \"type\": \"scatter\", \"data\": [0.7838242355637323, 0.7838242355637323, 0.7838242355637323, 0.7838242355637323, 0.8161111779669035, 0.8161111779669035, 0.8161111779669035, 0.8161111779669035, 0.8161111779669035, 0.8161111779669035, 0.8161111779669035, 0.8161111779669035, 0.8161111779669035, 0.8167180395632411, 0.8167180395632411, 0.8167180395632411, 0.8167180395632411, 0.8167180395632411, 0.8167180395632411, 0.8167180395632411, 0.8167180395632411, 0.8167180395632411, 0.8167180395632411, 0.8167180395632411, 0.8167180395632411, 0.8167180395632411, 0.8167180395632411, 0.8167180395632411, 0.8167180395632411, 0.8167180395632411, 0.8167180395632411, 0.8167180395632411, 0.8167180395632411, 0.8167180395632411, 0.8167180395632411]}], \"average_precision_score_macro\": [{\"categories\": [\"0\", \"1\", \"2\", \"3\", \"4\", \"5\", \"6\", \"7\", \"8\", \"9\", \"10\", \"11\", \"12\", \"13\", \"14\", \"15\", \"16\", \"17\", \"18\", \"19\", \"20\", \"21\", \"22\", \"23\", \"24\", \"25\", \"26\", \"27\", \"28\", \"29\", \"30\", \"31\", \"33\", \"35\", \"38\"], \"mode\": \"markers\", \"name\": \"average_precision_score_macro\", \"stepped\": false, \"type\": \"scatter\", \"data\": [0.8736692982562424, 0.8723076547945059, 0.8621860054562476, 0.8409338056899432, 0.8605287122753429, 0.8246918427100015, 0.8713814764368019, 0.8696302585587631, 0.8713657764451372, 0.8711788394835281, 0.8696461271613097, 0.8592779847423898, 0.8550108600722067, 0.8661859074596471, 0.86790369628829, 0.86470723892346, 0.8676936496734001, 0.8726040946734118, 0.8675668285240835, 0.8577917224064858, 0.7940586465854722, 0.8695712587116031, 0.8589233723070115, 0.8650361814552479, 0.8678058606141331, 0.8589898343082402, 0.8691302950433579, 0.8668507470082305, 0.8702300763324491, 0.8233505835019279, 0.867867751376474, 0.8695297343397153, 0.8637341899957308, 0.8687436518421296, 0.8735095045774248]}, {\"categories\": [\"0\", \"1\", \"2\", \"3\", \"4\", \"5\", \"6\", \"7\", \"8\", \"9\", \"10\", \"11\", \"12\", \"13\", \"14\", \"15\", \"16\", \"17\", \"18\", \"19\", \"20\", \"21\", \"22\", \"23\", \"24\", \"25\", \"26\", \"27\", \"28\", \"29\", \"30\", \"31\", \"33\", \"35\", \"38\"], \"mode\": \"lines\", \"name\": \"average_precision_score_macro_max\", \"stepped\": true, \"type\": \"scatter\", \"data\": [0.8736692982562424, 0.8736692982562424, 0.8736692982562424, 0.8736692982562424, 0.8736692982562424, 0.8736692982562424, 0.8736692982562424, 0.8736692982562424, 0.8736692982562424, 0.8736692982562424, 0.8736692982562424, 0.8736692982562424, 0.8736692982562424, 0.8736692982562424, 0.8736692982562424, 0.8736692982562424, 0.8736692982562424, 0.8736692982562424, 0.8736692982562424, 0.8736692982562424, 0.8736692982562424, 0.8736692982562424, 0.8736692982562424, 0.8736692982562424, 0.8736692982562424, 0.8736692982562424, 0.8736692982562424, 0.8736692982562424, 0.8736692982562424, 0.8736692982562424, 0.8736692982562424, 0.8736692982562424, 0.8736692982562424, 0.8736692982562424, 0.8736692982562424]}], \"AUC_micro\": [{\"categories\": [\"0\", \"1\", \"2\", \"3\", \"4\", \"5\", \"6\", \"7\", \"8\", \"9\", \"10\", \"11\", \"12\", \"13\", \"14\", \"15\", \"16\", \"17\", \"18\", \"19\", \"20\", \"21\", \"22\", \"23\", \"24\", \"25\", \"26\", \"27\", \"28\", \"29\", \"30\", \"31\", \"33\", \"35\", \"38\"], \"mode\": \"markers\", \"name\": \"AUC_micro\", \"stepped\": false, \"type\": \"scatter\", \"data\": [0.9261491997928502, 0.9254648363031815, 0.902324299119942, 0.869541075852857, 0.8927359934299897, 0.8790505149331074, 0.9248788524865585, 0.9240790279841397, 0.9248726006437245, 0.9247660503634098, 0.9236125526534507, 0.8754268897561637, 0.9199837256423384, 0.9048925055379927, 0.9227485615364912, 0.9120064379614128, 0.905432359405658, 0.9257102523781804, 0.9174540313401376, 0.883832458641516, 0.8954807112333836, 0.9058346828992624, 0.9022728558105451, 0.9068655840347033, 0.9083604256264672, 0.8632440482776541, 0.9234039251721903, 0.8905614799106221, 0.9089340674272204, 0.9166957468724546, 0.8844499566301186, 0.8845706744698896, 0.8977000127838934, 0.9057852431324049, 0.9257051901321102]}, {\"categories\": [\"0\", \"1\", \"2\", \"3\", \"4\", \"5\", \"6\", \"7\", \"8\", \"9\", \"10\", \"11\", \"12\", \"13\", \"14\", \"15\", \"16\", \"17\", \"18\", \"19\", \"20\", \"21\", \"22\", \"23\", \"24\", \"25\", \"26\", \"27\", \"28\", \"29\", \"30\", \"31\", \"33\", \"35\", \"38\"], \"mode\": \"lines\", \"name\": \"AUC_micro_max\", \"stepped\": true, \"type\": \"scatter\", \"data\": [0.9261491997928502, 0.9261491997928502, 0.9261491997928502, 0.9261491997928502, 0.9261491997928502, 0.9261491997928502, 0.9261491997928502, 0.9261491997928502, 0.9261491997928502, 0.9261491997928502, 0.9261491997928502, 0.9261491997928502, 0.9261491997928502, 0.9261491997928502, 0.9261491997928502, 0.9261491997928502, 0.9261491997928502, 0.9261491997928502, 0.9261491997928502, 0.9261491997928502, 0.9261491997928502, 0.9261491997928502, 0.9261491997928502, 0.9261491997928502, 0.9261491997928502, 0.9261491997928502, 0.9261491997928502, 0.9261491997928502, 0.9261491997928502, 0.9261491997928502, 0.9261491997928502, 0.9261491997928502, 0.9261491997928502, 0.9261491997928502, 0.9261491997928502]}], \"matthews_correlation\": [{\"categories\": [\"0\", \"1\", \"2\", \"3\", \"4\", \"5\", \"6\", \"7\", \"8\", \"9\", \"10\", \"11\", \"12\", \"13\", \"14\", \"15\", \"16\", \"17\", \"18\", \"19\", \"20\", \"21\", \"22\", \"23\", \"24\", \"25\", \"26\", \"27\", \"28\", \"29\", \"30\", \"31\", \"33\", \"35\", \"38\"], \"mode\": \"markers\", \"name\": \"matthews_correlation\", \"stepped\": false, \"type\": \"scatter\", \"data\": [0.614119624709208, 0.6119695702047061, 0.5929651236918667, 0.44712467405778594, 0.6242692220575496, 0.5619370277189133, 0.6118148721419125, 0.6103401202021314, 0.6132878994205215, 0.6131259677229893, 0.6019448372613926, 0.5158636293154276, 0.5978935353582866, 0.6240316443211604, 0.6072718018303492, 0.62412497340405, 0.5990706156379855, 0.6095994642972805, 0.624259615837442, 0.5781228048868983, 0.6240316443211604, 0.5979110857842581, 0.6065196170415015, 0.5979110857842581, 0.6243441241624585, 0.0, 0.6048038855460596, 0.5979110857842581, 0.6210246769215754, 0.6084707801010453, 0.5979110857842581, 0.5979110857842581, 0.6238778066954728, 0.5979110857842581, 0.6138337521086046]}, {\"categories\": [\"0\", \"1\", \"2\", \"3\", \"4\", \"5\", \"6\", \"7\", \"8\", \"9\", \"10\", \"11\", \"12\", \"13\", \"14\", \"15\", \"16\", \"17\", \"18\", \"19\", \"20\", \"21\", \"22\", \"23\", \"24\", \"25\", \"26\", \"27\", \"28\", \"29\", \"30\", \"31\", \"33\", \"35\", \"38\"], \"mode\": \"lines\", \"name\": \"matthews_correlation_max\", \"stepped\": true, \"type\": \"scatter\", \"data\": [0.614119624709208, 0.614119624709208, 0.614119624709208, 0.614119624709208, 0.6242692220575496, 0.6242692220575496, 0.6242692220575496, 0.6242692220575496, 0.6242692220575496, 0.6242692220575496, 0.6242692220575496, 0.6242692220575496, 0.6242692220575496, 0.6242692220575496, 0.6242692220575496, 0.6242692220575496, 0.6242692220575496, 0.6242692220575496, 0.6242692220575496, 0.6242692220575496, 0.6242692220575496, 0.6242692220575496, 0.6242692220575496, 0.6242692220575496, 0.6243441241624585, 0.6243441241624585, 0.6243441241624585, 0.6243441241624585, 0.6243441241624585, 0.6243441241624585, 0.6243441241624585, 0.6243441241624585, 0.6243441241624585, 0.6243441241624585, 0.6243441241624585]}], \"precision_score_micro\": [{\"categories\": [\"0\", \"1\", \"2\", \"3\", \"4\", \"5\", \"6\", \"7\", \"8\", \"9\", \"10\", \"11\", \"12\", \"13\", \"14\", \"15\", \"16\", \"17\", \"18\", \"19\", \"20\", \"21\", \"22\", \"23\", \"24\", \"25\", \"26\", \"27\", \"28\", \"29\", \"30\", \"31\", \"33\", \"35\", \"38\"], \"mode\": \"markers\", \"name\": \"precision_score_micro\", \"stepped\": false, \"type\": \"scatter\", \"data\": [0.8515877706107746, 0.8514561940189929, 0.8418381321736937, 0.7954898878198975, 0.8464122175720326, 0.8263614642986111, 0.85010277463765, 0.8500714437649624, 0.8508671948912665, 0.8505100485007437, 0.8463683302447667, 0.8139928359543553, 0.842101297920386, 0.8458984170143709, 0.8480601192429363, 0.8478220230233469, 0.846712953158924, 0.8505664471338438, 0.8464874012233817, 0.8350960977273221, 0.8458984170143709, 0.8421075637808453, 0.8498395969167255, 0.8421075637808453, 0.8481039851736236, 0.7201057693734635, 0.8490187841152743, 0.8421075637808453, 0.8488558874472437, 0.8446327055459383, 0.8421075637808453, 0.8421075637808453, 0.8459422772523905, 0.8421075637808453, 0.852114099159676]}, {\"categories\": [\"0\", \"1\", \"2\", \"3\", \"4\", \"5\", \"6\", \"7\", \"8\", \"9\", \"10\", \"11\", \"12\", \"13\", \"14\", \"15\", \"16\", \"17\", \"18\", \"19\", \"20\", \"21\", \"22\", \"23\", \"24\", \"25\", \"26\", \"27\", \"28\", \"29\", \"30\", \"31\", \"33\", \"35\", \"38\"], \"mode\": \"lines\", \"name\": \"precision_score_micro_max\", \"stepped\": true, \"type\": \"scatter\", \"data\": [0.8515877706107746, 0.8515877706107746, 0.8515877706107746, 0.8515877706107746, 0.8515877706107746, 0.8515877706107746, 0.8515877706107746, 0.8515877706107746, 0.8515877706107746, 0.8515877706107746, 0.8515877706107746, 0.8515877706107746, 0.8515877706107746, 0.8515877706107746, 0.8515877706107746, 0.8515877706107746, 0.8515877706107746, 0.8515877706107746, 0.8515877706107746, 0.8515877706107746, 0.8515877706107746, 0.8515877706107746, 0.8515877706107746, 0.8515877706107746, 0.8515877706107746, 0.8515877706107746, 0.8515877706107746, 0.8515877706107746, 0.8515877706107746, 0.8515877706107746, 0.8515877706107746, 0.8515877706107746, 0.8515877706107746, 0.8515877706107746, 0.852114099159676]}], \"f1_score_macro\": [{\"categories\": [\"0\", \"1\", \"2\", \"3\", \"4\", \"5\", \"6\", \"7\", \"8\", \"9\", \"10\", \"11\", \"12\", \"13\", \"14\", \"15\", \"16\", \"17\", \"18\", \"19\", \"20\", \"21\", \"22\", \"23\", \"24\", \"25\", \"26\", \"27\", \"28\", \"29\", \"30\", \"31\", \"33\", \"35\", \"38\"], \"mode\": \"markers\", \"name\": \"f1_score_macro\", \"stepped\": false, \"type\": \"scatter\", \"data\": [0.8023847791333862, 0.7992285239251083, 0.7593113059509202, 0.6447620471128398, 0.8119542289810209, 0.7790713868766674, 0.802473091067386, 0.8007405655849069, 0.8028275684323077, 0.8032319543850417, 0.7783317997232834, 0.6935776651341685, 0.7541507434136057, 0.8117692686335172, 0.8006863097750093, 0.8120367931748728, 0.7757647825799314, 0.7980524848997741, 0.811956014727398, 0.7397776840915627, 0.8117692686335172, 0.7541634063879128, 0.7945200053107465, 0.7541634063879128, 0.8121458571585316, 0.418639894007959, 0.794706751080603, 0.7541634063879128, 0.8103622691244394, 0.7775754919755629, 0.7541634063879128, 0.7541634063879128, 0.8117084171926574, 0.7541634063879128, 0.7996336943774203]}, {\"categories\": [\"0\", \"1\", \"2\", \"3\", \"4\", \"5\", \"6\", \"7\", \"8\", \"9\", \"10\", \"11\", \"12\", \"13\", \"14\", \"15\", \"16\", \"17\", \"18\", \"19\", \"20\", \"21\", \"22\", \"23\", \"24\", \"25\", \"26\", \"27\", \"28\", \"29\", \"30\", \"31\", \"33\", \"35\", \"38\"], \"mode\": \"lines\", \"name\": \"f1_score_macro_max\", \"stepped\": true, \"type\": \"scatter\", \"data\": [0.8023847791333862, 0.8023847791333862, 0.8023847791333862, 0.8023847791333862, 0.8119542289810209, 0.8119542289810209, 0.8119542289810209, 0.8119542289810209, 0.8119542289810209, 0.8119542289810209, 0.8119542289810209, 0.8119542289810209, 0.8119542289810209, 0.8119542289810209, 0.8119542289810209, 0.8120367931748728, 0.8120367931748728, 0.8120367931748728, 0.8120367931748728, 0.8120367931748728, 0.8120367931748728, 0.8120367931748728, 0.8120367931748728, 0.8120367931748728, 0.8121458571585316, 0.8121458571585316, 0.8121458571585316, 0.8121458571585316, 0.8121458571585316, 0.8121458571585316, 0.8121458571585316, 0.8121458571585316, 0.8121458571585316, 0.8121458571585316, 0.8121458571585316]}], \"accuracy\": [{\"categories\": [\"0\", \"1\", \"2\", \"3\", \"4\", \"5\", \"6\", \"7\", \"8\", \"9\", \"10\", \"11\", \"12\", \"13\", \"14\", \"15\", \"16\", \"17\", \"18\", \"19\", \"20\", \"21\", \"22\", \"23\", \"24\", \"25\", \"26\", \"27\", \"28\", \"29\", \"30\", \"31\", \"33\", \"35\", \"38\"], \"mode\": \"markers\", \"name\": \"accuracy\", \"stepped\": false, \"type\": \"scatter\", \"data\": [0.8515877706107746, 0.8514561940189929, 0.8418381321736937, 0.7954898878198975, 0.8464122175720326, 0.8263614642986111, 0.85010277463765, 0.8500714437649624, 0.8508671948912665, 0.8505100485007437, 0.8463683302447667, 0.8139928359543553, 0.842101297920386, 0.8458984170143709, 0.8480601192429363, 0.8478220230233469, 0.846712953158924, 0.8505664471338438, 0.8464874012233817, 0.8350960977273221, 0.8458984170143709, 0.8421075637808453, 0.8498395969167255, 0.8421075637808453, 0.8481039851736236, 0.7201057693734635, 0.8490187841152743, 0.8421075637808453, 0.8488558874472437, 0.8446327055459383, 0.8421075637808453, 0.8421075637808453, 0.8459422772523905, 0.8421075637808453, 0.852114099159676]}, {\"categories\": [\"0\", \"1\", \"2\", \"3\", \"4\", \"5\", \"6\", \"7\", \"8\", \"9\", \"10\", \"11\", \"12\", \"13\", \"14\", \"15\", \"16\", \"17\", \"18\", \"19\", \"20\", \"21\", \"22\", \"23\", \"24\", \"25\", \"26\", \"27\", \"28\", \"29\", \"30\", \"31\", \"33\", \"35\", \"38\"], \"mode\": \"lines\", \"name\": \"accuracy_max\", \"stepped\": true, \"type\": \"scatter\", \"data\": [0.8515877706107746, 0.8515877706107746, 0.8515877706107746, 0.8515877706107746, 0.8515877706107746, 0.8515877706107746, 0.8515877706107746, 0.8515877706107746, 0.8515877706107746, 0.8515877706107746, 0.8515877706107746, 0.8515877706107746, 0.8515877706107746, 0.8515877706107746, 0.8515877706107746, 0.8515877706107746, 0.8515877706107746, 0.8515877706107746, 0.8515877706107746, 0.8515877706107746, 0.8515877706107746, 0.8515877706107746, 0.8515877706107746, 0.8515877706107746, 0.8515877706107746, 0.8515877706107746, 0.8515877706107746, 0.8515877706107746, 0.8515877706107746, 0.8515877706107746, 0.8515877706107746, 0.8515877706107746, 0.8515877706107746, 0.8515877706107746, 0.852114099159676]}], \"precision_score_weighted\": [{\"categories\": [\"0\", \"1\", \"2\", \"3\", \"4\", \"5\", \"6\", \"7\", \"8\", \"9\", \"10\", \"11\", \"12\", \"13\", \"14\", \"15\", \"16\", \"17\", \"18\", \"19\", \"20\", \"21\", \"22\", \"23\", \"24\", \"25\", \"26\", \"27\", \"28\", \"29\", \"30\", \"31\", \"33\", \"35\", \"38\"], \"mode\": \"markers\", \"name\": \"precision_score_weighted\", \"stepped\": false, \"type\": \"scatter\", \"data\": [0.8475204307280174, 0.848041948817575, 0.862637860644124, 0.8382571868994955, 0.8486536750705989, 0.824546500188528, 0.8457616054837583, 0.8458240202684273, 0.8466103239577809, 0.8462215833806862, 0.8556485073576627, 0.8522362098171248, 0.8704993652599844, 0.8486009253666282, 0.8436030885805097, 0.8484943849502325, 0.8547084511697651, 0.8470744094787911, 0.8486462038092688, 0.8658313503190401, 0.8486009253666282, 0.8705035881166276, 0.8471641781103628, 0.8705035881166276, 0.8485823509105874, 0.518554898795493, 0.8457604854542164, 0.8705035881166276, 0.8473223669087746, 0.8615515395237818, 0.8705035881166276, 0.8705035881166276, 0.8485283093418122, 0.8705035881166276, 0.8491594340781198]}, {\"categories\": [\"0\", \"1\", \"2\", \"3\", \"4\", \"5\", \"6\", \"7\", \"8\", \"9\", \"10\", \"11\", \"12\", \"13\", \"14\", \"15\", \"16\", \"17\", \"18\", \"19\", \"20\", \"21\", \"22\", \"23\", \"24\", \"25\", \"26\", \"27\", \"28\", \"29\", \"30\", \"31\", \"33\", \"35\", \"38\"], \"mode\": \"lines\", \"name\": \"precision_score_weighted_max\", \"stepped\": true, \"type\": \"scatter\", \"data\": [0.8475204307280174, 0.848041948817575, 0.862637860644124, 0.862637860644124, 0.862637860644124, 0.862637860644124, 0.862637860644124, 0.862637860644124, 0.862637860644124, 0.862637860644124, 0.862637860644124, 0.862637860644124, 0.8704993652599844, 0.8704993652599844, 0.8704993652599844, 0.8704993652599844, 0.8704993652599844, 0.8704993652599844, 0.8704993652599844, 0.8704993652599844, 0.8704993652599844, 0.8705035881166276, 0.8705035881166276, 0.8705035881166276, 0.8705035881166276, 0.8705035881166276, 0.8705035881166276, 0.8705035881166276, 0.8705035881166276, 0.8705035881166276, 0.8705035881166276, 0.8705035881166276, 0.8705035881166276, 0.8705035881166276, 0.8705035881166276]}], \"f1_score_weighted\": [{\"categories\": [\"0\", \"1\", \"2\", \"3\", \"4\", \"5\", \"6\", \"7\", \"8\", \"9\", \"10\", \"11\", \"12\", \"13\", \"14\", \"15\", \"16\", \"17\", \"18\", \"19\", \"20\", \"21\", \"22\", \"23\", \"24\", \"25\", \"26\", \"27\", \"28\", \"29\", \"30\", \"31\", \"33\", \"35\", \"38\"], \"mode\": \"markers\", \"name\": \"f1_score_weighted\", \"stepped\": false, \"type\": \"scatter\", \"data\": [0.8457892832432835, 0.8443019159363401, 0.8212846311361066, 0.7464447159307245, 0.8473873168461734, 0.8239196151277671, 0.8451680318720272, 0.8443812312718701, 0.8456663872734216, 0.8456849610694418, 0.8322253320357909, 0.7781237907025137, 0.8188824178265015, 0.8470506682347161, 0.8434584247688848, 0.8481375145363469, 0.8312886782929383, 0.8433808263716547, 0.847426589017638, 0.80910952274035, 0.8470506682347161, 0.8188910424094763, 0.8414457855800807, 0.8188910424094763, 0.8483220593515194, 0.602931750731009, 0.8411820156910862, 0.8188910424094763, 0.847968082110343, 0.8308737625876035, 0.8188910424094763, 0.8188910424094763, 0.847049297045811, 0.8188910424094763, 0.8447553802786739]}, {\"categories\": [\"0\", \"1\", \"2\", \"3\", \"4\", \"5\", \"6\", \"7\", \"8\", \"9\", \"10\", \"11\", \"12\", \"13\", \"14\", \"15\", \"16\", \"17\", \"18\", \"19\", \"20\", \"21\", \"22\", \"23\", \"24\", \"25\", \"26\", \"27\", \"28\", \"29\", \"30\", \"31\", \"33\", \"35\", \"38\"], \"mode\": \"lines\", \"name\": \"f1_score_weighted_max\", \"stepped\": true, \"type\": \"scatter\", \"data\": [0.8457892832432835, 0.8457892832432835, 0.8457892832432835, 0.8457892832432835, 0.8473873168461734, 0.8473873168461734, 0.8473873168461734, 0.8473873168461734, 0.8473873168461734, 0.8473873168461734, 0.8473873168461734, 0.8473873168461734, 0.8473873168461734, 0.8473873168461734, 0.8473873168461734, 0.8481375145363469, 0.8481375145363469, 0.8481375145363469, 0.8481375145363469, 0.8481375145363469, 0.8481375145363469, 0.8481375145363469, 0.8481375145363469, 0.8481375145363469, 0.8483220593515194, 0.8483220593515194, 0.8483220593515194, 0.8483220593515194, 0.8483220593515194, 0.8483220593515194, 0.8483220593515194, 0.8483220593515194, 0.8483220593515194, 0.8483220593515194, 0.8483220593515194]}], \"f1_score_micro\": [{\"categories\": [\"0\", \"1\", \"2\", \"3\", \"4\", \"5\", \"6\", \"7\", \"8\", \"9\", \"10\", \"11\", \"12\", \"13\", \"14\", \"15\", \"16\", \"17\", \"18\", \"19\", \"20\", \"21\", \"22\", \"23\", \"24\", \"25\", \"26\", \"27\", \"28\", \"29\", \"30\", \"31\", \"33\", \"35\", \"38\"], \"mode\": \"markers\", \"name\": \"f1_score_micro\", \"stepped\": false, \"type\": \"scatter\", \"data\": [0.8515877706107746, 0.8514561940189929, 0.8418381321736937, 0.7954898878198975, 0.8464122175720326, 0.8263614642986111, 0.8501027746376499, 0.8500714437649624, 0.8508671948912665, 0.8505100485007437, 0.8463683302447667, 0.8139928359543553, 0.842101297920386, 0.8458984170143709, 0.8480601192429364, 0.8478220230233469, 0.846712953158924, 0.8505664471338438, 0.8464874012233817, 0.8350960977273221, 0.8458984170143709, 0.8421075637808453, 0.8498395969167255, 0.8421075637808453, 0.8481039851736236, 0.7201057693734635, 0.8490187841152743, 0.8421075637808453, 0.8488558874472437, 0.8446327055459383, 0.8421075637808453, 0.8421075637808453, 0.8459422772523905, 0.8421075637808453, 0.8521140991596757]}, {\"categories\": [\"0\", \"1\", \"2\", \"3\", \"4\", \"5\", \"6\", \"7\", \"8\", \"9\", \"10\", \"11\", \"12\", \"13\", \"14\", \"15\", \"16\", \"17\", \"18\", \"19\", \"20\", \"21\", \"22\", \"23\", \"24\", \"25\", \"26\", \"27\", \"28\", \"29\", \"30\", \"31\", \"33\", \"35\", \"38\"], \"mode\": \"lines\", \"name\": \"f1_score_micro_max\", \"stepped\": true, \"type\": \"scatter\", \"data\": [0.8515877706107746, 0.8515877706107746, 0.8515877706107746, 0.8515877706107746, 0.8515877706107746, 0.8515877706107746, 0.8515877706107746, 0.8515877706107746, 0.8515877706107746, 0.8515877706107746, 0.8515877706107746, 0.8515877706107746, 0.8515877706107746, 0.8515877706107746, 0.8515877706107746, 0.8515877706107746, 0.8515877706107746, 0.8515877706107746, 0.8515877706107746, 0.8515877706107746, 0.8515877706107746, 0.8515877706107746, 0.8515877706107746, 0.8515877706107746, 0.8515877706107746, 0.8515877706107746, 0.8515877706107746, 0.8515877706107746, 0.8515877706107746, 0.8515877706107746, 0.8515877706107746, 0.8515877706107746, 0.8515877706107746, 0.8515877706107746, 0.8521140991596757]}], \"weighted_accuracy\": [{\"categories\": [\"0\", \"1\", \"2\", \"3\", \"4\", \"5\", \"6\", \"7\", \"8\", \"9\", \"10\", \"11\", \"12\", \"13\", \"14\", \"15\", \"16\", \"17\", \"18\", \"19\", \"20\", \"21\", \"22\", \"23\", \"24\", \"25\", \"26\", \"27\", \"28\", \"29\", \"30\", \"31\", \"33\", \"35\", \"38\"], \"mode\": \"markers\", \"name\": \"weighted_accuracy\", \"stepped\": false, \"type\": \"scatter\", \"data\": [0.8973510200153518, 0.9013162563612127, 0.9204633431495471, 0.9035642696999207, 0.8668759499654847, 0.861072555402915, 0.893184100150283, 0.8955580163214893, 0.8947567120971842, 0.8931988449986784, 0.911551521007014, 0.9127684252516746, 0.9259538212386957, 0.8656076071599624, 0.8901758174298721, 0.8710970641638378, 0.9166807383905642, 0.9005305751922155, 0.8670996246182276, 0.9226707859511336, 0.8656076071599624, 0.9259567441220342, 0.9031921030999325, 0.9259567441220342, 0.8717631812519349, 0.8687449169930576, 0.9008417135246427, 0.9259567441220342, 0.8771929712877148, 0.9044815147044034, 0.9259567441220342, 0.9259567441220342, 0.8658586365954637, 0.9259567441220342, 0.9023908783053486]}, {\"categories\": [\"0\", \"1\", \"2\", \"3\", \"4\", \"5\", \"6\", \"7\", \"8\", \"9\", \"10\", \"11\", \"12\", \"13\", \"14\", \"15\", \"16\", \"17\", \"18\", \"19\", \"20\", \"21\", \"22\", \"23\", \"24\", \"25\", \"26\", \"27\", \"28\", \"29\", \"30\", \"31\", \"33\", \"35\", \"38\"], \"mode\": \"lines\", \"name\": \"weighted_accuracy_max\", \"stepped\": true, \"type\": \"scatter\", \"data\": [0.8973510200153518, 0.9013162563612127, 0.9204633431495471, 0.9204633431495471, 0.9204633431495471, 0.9204633431495471, 0.9204633431495471, 0.9204633431495471, 0.9204633431495471, 0.9204633431495471, 0.9204633431495471, 0.9204633431495471, 0.9259538212386957, 0.9259538212386957, 0.9259538212386957, 0.9259538212386957, 0.9259538212386957, 0.9259538212386957, 0.9259538212386957, 0.9259538212386957, 0.9259538212386957, 0.9259567441220342, 0.9259567441220342, 0.9259567441220342, 0.9259567441220342, 0.9259567441220342, 0.9259567441220342, 0.9259567441220342, 0.9259567441220342, 0.9259567441220342, 0.9259567441220342, 0.9259567441220342, 0.9259567441220342, 0.9259567441220342, 0.9259567441220342]}], \"average_precision_score_micro\": [{\"categories\": [\"0\", \"1\", \"2\", \"3\", \"4\", \"5\", \"6\", \"7\", \"8\", \"9\", \"10\", \"11\", \"12\", \"13\", \"14\", \"15\", \"16\", \"17\", \"18\", \"19\", \"20\", \"21\", \"22\", \"23\", \"24\", \"25\", \"26\", \"27\", \"28\", \"29\", \"30\", \"31\", \"33\", \"35\", \"38\"], \"mode\": \"markers\", \"name\": \"average_precision_score_micro\", \"stepped\": false, \"type\": \"scatter\", \"data\": [0.9245656983258094, 0.9235895473613981, 0.8897195062594869, 0.855794052321617, 0.8893593151668231, 0.875037972136203, 0.9230349934903277, 0.9221231244213257, 0.9229954080133028, 0.9228754584566797, 0.9215918705649677, 0.8647123340433479, 0.912874424624705, 0.8907746743231506, 0.9205941100457492, 0.8997083192122242, 0.8914316792452137, 0.9239897105566849, 0.9120187683574439, 0.871378297112717, 0.8811460751530807, 0.8931081536563855, 0.8876199904132871, 0.8929366633279858, 0.8946325730575444, 0.8542134654163072, 0.9185405256830919, 0.8791847620875701, 0.8961830639245623, 0.8935523067871822, 0.8743312330884422, 0.8748618810551403, 0.8956104788312149, 0.8921071283490198, 0.9225807165012195]}, {\"categories\": [\"0\", \"1\", \"2\", \"3\", \"4\", \"5\", \"6\", \"7\", \"8\", \"9\", \"10\", \"11\", \"12\", \"13\", \"14\", \"15\", \"16\", \"17\", \"18\", \"19\", \"20\", \"21\", \"22\", \"23\", \"24\", \"25\", \"26\", \"27\", \"28\", \"29\", \"30\", \"31\", \"33\", \"35\", \"38\"], \"mode\": \"lines\", \"name\": \"average_precision_score_micro_max\", \"stepped\": true, \"type\": \"scatter\", \"data\": [0.9245656983258094, 0.9245656983258094, 0.9245656983258094, 0.9245656983258094, 0.9245656983258094, 0.9245656983258094, 0.9245656983258094, 0.9245656983258094, 0.9245656983258094, 0.9245656983258094, 0.9245656983258094, 0.9245656983258094, 0.9245656983258094, 0.9245656983258094, 0.9245656983258094, 0.9245656983258094, 0.9245656983258094, 0.9245656983258094, 0.9245656983258094, 0.9245656983258094, 0.9245656983258094, 0.9245656983258094, 0.9245656983258094, 0.9245656983258094, 0.9245656983258094, 0.9245656983258094, 0.9245656983258094, 0.9245656983258094, 0.9245656983258094, 0.9245656983258094, 0.9245656983258094, 0.9245656983258094, 0.9245656983258094, 0.9245656983258094, 0.9245656983258094]}], \"AUC_weighted\": [{\"categories\": [\"0\", \"1\", \"2\", \"3\", \"4\", \"5\", \"6\", \"7\", \"8\", \"9\", \"10\", \"11\", \"12\", \"13\", \"14\", \"15\", \"16\", \"17\", \"18\", \"19\", \"20\", \"21\", \"22\", \"23\", \"24\", \"25\", \"26\", \"27\", \"28\", \"29\", \"30\", \"31\", \"33\", \"35\", \"38\"], \"mode\": \"markers\", \"name\": \"AUC_weighted\", \"stepped\": false, \"type\": \"scatter\", \"data\": [0.8754964836862354, 0.8737859262053249, 0.861867551946043, 0.8445979351024088, 0.8604768553535307, 0.8161561158851243, 0.8726083534530682, 0.8709203952545513, 0.8726007808290752, 0.8723271085967133, 0.8710052096491596, 0.8561389171562303, 0.8633612674173881, 0.8665953020479812, 0.8688777058500821, 0.8668189576536275, 0.8689701251415176, 0.8745878840981378, 0.8696787138334404, 0.8551013313947411, 0.8432532253563487, 0.8706357489564789, 0.8597712302076144, 0.864709980953247, 0.8684280428833014, 0.8550998350472707, 0.8706330926568052, 0.8693707339144208, 0.8716892780755916, 0.8541768983725927, 0.8688798042836499, 0.8710783714196321, 0.8648930630214651, 0.8704281926383477, 0.8752435353193716]}, {\"categories\": [\"0\", \"1\", \"2\", \"3\", \"4\", \"5\", \"6\", \"7\", \"8\", \"9\", \"10\", \"11\", \"12\", \"13\", \"14\", \"15\", \"16\", \"17\", \"18\", \"19\", \"20\", \"21\", \"22\", \"23\", \"24\", \"25\", \"26\", \"27\", \"28\", \"29\", \"30\", \"31\", \"33\", \"35\", \"38\"], \"mode\": \"lines\", \"name\": \"AUC_weighted_max\", \"stepped\": true, \"type\": \"scatter\", \"data\": [0.8754964836862354, 0.8754964836862354, 0.8754964836862354, 0.8754964836862354, 0.8754964836862354, 0.8754964836862354, 0.8754964836862354, 0.8754964836862354, 0.8754964836862354, 0.8754964836862354, 0.8754964836862354, 0.8754964836862354, 0.8754964836862354, 0.8754964836862354, 0.8754964836862354, 0.8754964836862354, 0.8754964836862354, 0.8754964836862354, 0.8754964836862354, 0.8754964836862354, 0.8754964836862354, 0.8754964836862354, 0.8754964836862354, 0.8754964836862354, 0.8754964836862354, 0.8754964836862354, 0.8754964836862354, 0.8754964836862354, 0.8754964836862354, 0.8754964836862354, 0.8754964836862354, 0.8754964836862354, 0.8754964836862354, 0.8754964836862354, 0.8754964836862354]}], \"average_precision_score_weighted\": [{\"categories\": [\"0\", \"1\", \"2\", \"3\", \"4\", \"5\", \"6\", \"7\", \"8\", \"9\", \"10\", \"11\", \"12\", \"13\", \"14\", \"15\", \"16\", \"17\", \"18\", \"19\", \"20\", \"21\", \"22\", \"23\", \"24\", \"25\", \"26\", \"27\", \"28\", \"29\", \"30\", \"31\", \"33\", \"35\", \"38\"], \"mode\": \"markers\", \"name\": \"average_precision_score_weighted\", \"stepped\": false, \"type\": \"scatter\", \"data\": [0.897511984592302, 0.8959044673013237, 0.8866652734833087, 0.8691796785351352, 0.8857878202460618, 0.8527195252025164, 0.8951637675627223, 0.8934986371415965, 0.8951025130214518, 0.8949399718005792, 0.8935311027313777, 0.8837032683055563, 0.8812332381155944, 0.889874842943607, 0.8921737613445337, 0.8890031664150018, 0.8912212255023004, 0.896349172014603, 0.8914715744892885, 0.8825549592819291, 0.8458043028734108, 0.893359698292171, 0.8842418497525021, 0.888964253424693, 0.8914773816172605, 0.8827246870251845, 0.8928848738258521, 0.890997473494522, 0.8940808903372298, 0.8574874585392989, 0.8917843171882016, 0.8933131806600538, 0.8884463684280188, 0.8922709993419462, 0.8971926077551393]}, {\"categories\": [\"0\", \"1\", \"2\", \"3\", \"4\", \"5\", \"6\", \"7\", \"8\", \"9\", \"10\", \"11\", \"12\", \"13\", \"14\", \"15\", \"16\", \"17\", \"18\", \"19\", \"20\", \"21\", \"22\", \"23\", \"24\", \"25\", \"26\", \"27\", \"28\", \"29\", \"30\", \"31\", \"33\", \"35\", \"38\"], \"mode\": \"lines\", \"name\": \"average_precision_score_weighted_max\", \"stepped\": true, \"type\": \"scatter\", \"data\": [0.897511984592302, 0.897511984592302, 0.897511984592302, 0.897511984592302, 0.897511984592302, 0.897511984592302, 0.897511984592302, 0.897511984592302, 0.897511984592302, 0.897511984592302, 0.897511984592302, 0.897511984592302, 0.897511984592302, 0.897511984592302, 0.897511984592302, 0.897511984592302, 0.897511984592302, 0.897511984592302, 0.897511984592302, 0.897511984592302, 0.897511984592302, 0.897511984592302, 0.897511984592302, 0.897511984592302, 0.897511984592302, 0.897511984592302, 0.897511984592302, 0.897511984592302, 0.897511984592302, 0.897511984592302, 0.897511984592302, 0.897511984592302, 0.897511984592302, 0.897511984592302, 0.897511984592302]}], \"recall_score_micro\": [{\"categories\": [\"0\", \"1\", \"2\", \"3\", \"4\", \"5\", \"6\", \"7\", \"8\", \"9\", \"10\", \"11\", \"12\", \"13\", \"14\", \"15\", \"16\", \"17\", \"18\", \"19\", \"20\", \"21\", \"22\", \"23\", \"24\", \"25\", \"26\", \"27\", \"28\", \"29\", \"30\", \"31\", \"33\", \"35\", \"38\"], \"mode\": \"markers\", \"name\": \"recall_score_micro\", \"stepped\": false, \"type\": \"scatter\", \"data\": [0.8515877706107746, 0.8514561940189929, 0.8418381321736937, 0.7954898878198975, 0.8464122175720326, 0.8263614642986111, 0.85010277463765, 0.8500714437649624, 0.8508671948912665, 0.8505100485007437, 0.8463683302447667, 0.8139928359543553, 0.842101297920386, 0.8458984170143709, 0.8480601192429363, 0.8478220230233469, 0.846712953158924, 0.8505664471338438, 0.8464874012233817, 0.8350960977273221, 0.8458984170143709, 0.8421075637808453, 0.8498395969167255, 0.8421075637808453, 0.8481039851736236, 0.7201057693734635, 0.8490187841152743, 0.8421075637808453, 0.8488558874472437, 0.8446327055459383, 0.8421075637808453, 0.8421075637808453, 0.8459422772523905, 0.8421075637808453, 0.852114099159676]}, {\"categories\": [\"0\", \"1\", \"2\", \"3\", \"4\", \"5\", \"6\", \"7\", \"8\", \"9\", \"10\", \"11\", \"12\", \"13\", \"14\", \"15\", \"16\", \"17\", \"18\", \"19\", \"20\", \"21\", \"22\", \"23\", \"24\", \"25\", \"26\", \"27\", \"28\", \"29\", \"30\", \"31\", \"33\", \"35\", \"38\"], \"mode\": \"lines\", \"name\": \"recall_score_micro_max\", \"stepped\": true, \"type\": \"scatter\", \"data\": [0.8515877706107746, 0.8515877706107746, 0.8515877706107746, 0.8515877706107746, 0.8515877706107746, 0.8515877706107746, 0.8515877706107746, 0.8515877706107746, 0.8515877706107746, 0.8515877706107746, 0.8515877706107746, 0.8515877706107746, 0.8515877706107746, 0.8515877706107746, 0.8515877706107746, 0.8515877706107746, 0.8515877706107746, 0.8515877706107746, 0.8515877706107746, 0.8515877706107746, 0.8515877706107746, 0.8515877706107746, 0.8515877706107746, 0.8515877706107746, 0.8515877706107746, 0.8515877706107746, 0.8515877706107746, 0.8515877706107746, 0.8515877706107746, 0.8515877706107746, 0.8515877706107746, 0.8515877706107746, 0.8515877706107746, 0.8515877706107746, 0.852114099159676]}], \"precision_score_macro\": [{\"categories\": [\"0\", \"1\", \"2\", \"3\", \"4\", \"5\", \"6\", \"7\", \"8\", \"9\", \"10\", \"11\", \"12\", \"13\", \"14\", \"15\", \"16\", \"17\", \"18\", \"19\", \"20\", \"21\", \"22\", \"23\", \"24\", \"25\", \"26\", \"27\", \"28\", \"29\", \"30\", \"31\", \"33\", \"35\", \"38\"], \"mode\": \"markers\", \"name\": \"precision_score_macro\", \"stepped\": false, \"type\": \"scatter\", \"data\": [0.8322062942729229, 0.8372412721345894, 0.8916183480521429, 0.8838310472410523, 0.8082108104787322, 0.7876209623519567, 0.8268546759560855, 0.8294157715085954, 0.8289287935950036, 0.8271361289794766, 0.8659125408986583, 0.8973987008564588, 0.9100808131559098, 0.8073853416957327, 0.8227146229661857, 0.8107703228050246, 0.8690843770213984, 0.8359134933412673, 0.8083415203771844, 0.9068401202332899, 0.8073853416957327, 0.9100837410680047, 0.8395712281573543, 0.9100837410680047, 0.8112728375603645, 0.36005288468673174, 0.8358822242886104, 0.9100837410680047, 0.814169113848328, 0.8706064075128804, 0.9100837410680047, 0.9100837410680047, 0.8074888391889893, 0.9100837410680047, 0.8393293616209618]}, {\"categories\": [\"0\", \"1\", \"2\", \"3\", \"4\", \"5\", \"6\", \"7\", \"8\", \"9\", \"10\", \"11\", \"12\", \"13\", \"14\", \"15\", \"16\", \"17\", \"18\", \"19\", \"20\", \"21\", \"22\", \"23\", \"24\", \"25\", \"26\", \"27\", \"28\", \"29\", \"30\", \"31\", \"33\", \"35\", \"38\"], \"mode\": \"lines\", \"name\": \"precision_score_macro_max\", \"stepped\": true, \"type\": \"scatter\", \"data\": [0.8322062942729229, 0.8372412721345894, 0.8916183480521429, 0.8916183480521429, 0.8916183480521429, 0.8916183480521429, 0.8916183480521429, 0.8916183480521429, 0.8916183480521429, 0.8916183480521429, 0.8916183480521429, 0.8973987008564588, 0.9100808131559098, 0.9100808131559098, 0.9100808131559098, 0.9100808131559098, 0.9100808131559098, 0.9100808131559098, 0.9100808131559098, 0.9100808131559098, 0.9100808131559098, 0.9100837410680047, 0.9100837410680047, 0.9100837410680047, 0.9100837410680047, 0.9100837410680047, 0.9100837410680047, 0.9100837410680047, 0.9100837410680047, 0.9100837410680047, 0.9100837410680047, 0.9100837410680047, 0.9100837410680047, 0.9100837410680047, 0.9100837410680047]}]}, \"metricName\": null, \"primaryMetricName\": \"accuracy\", \"showLegend\": false}, \"run_metrics\": [{\"name\": \"experiment_status\", \"run_id\": \"AutoML_b06b1d76-d0fb-4280-9ed4-7c85891cf392\", \"categories\": [0, 1, 2, 3, 4, 5, 6, 7, 8, 9, 10, 11, 12, 13], \"series\": [{\"data\": [\"DatasetEvaluation\", \"FeaturesGeneration\", \"DatasetFeaturization\", \"DatasetFeaturizationCompleted\", \"DatasetCrossValidationSplit\", \"ModelSelection\", \"BestRunExplainModel\", \"ModelExplanationDataSetSetup\", \"PickSurrogateModel\", \"EngineeredFeatureExplanations\", \"EngineeredFeatureExplanations\", \"RawFeaturesExplanations\", \"RawFeaturesExplanations\", \"BestRunExplainModel\"]}]}, {\"name\": \"experiment_status_description\", \"run_id\": \"AutoML_b06b1d76-d0fb-4280-9ed4-7c85891cf392\", \"categories\": [0, 1, 2, 3, 4, 5, 6, 7, 8, 9, 10, 11, 12, 13], \"series\": [{\"data\": [\"Gathering dataset statistics.\", \"Generating features for the dataset.\", \"Beginning to fit featurizers and featurize the dataset.\", \"Completed fit featurizers and featurizing the dataset.\", \"Generating individually featurized CV splits.\", \"Beginning model selection.\", \"Best run model explanations started\", \"Model explanations data setup completed\", \"Choosing LightGBM as the surrogate model for explanations\", \"Computation of engineered features started\", \"Computation of engineered features completed\", \"Computation of raw features started\", \"Computation of raw features completed\", \"Best run model explanations completed\"]}]}, {\"name\": \"norm_macro_recall\", \"run_id\": \"AutoML_b06b1d76-d0fb-4280-9ed4-7c85891cf392\", \"categories\": [0], \"series\": [{\"data\": [0.5553919755821762]}]}, {\"name\": \"recall_score_macro\", \"run_id\": \"AutoML_b06b1d76-d0fb-4280-9ed4-7c85891cf392\", \"categories\": [0], \"series\": [{\"data\": [0.7776959877910882]}]}, {\"name\": \"log_loss\", \"run_id\": \"AutoML_b06b1d76-d0fb-4280-9ed4-7c85891cf392\", \"categories\": [0], \"series\": [{\"data\": [0.35610441546303195]}]}, {\"name\": \"f1_score_weighted\", \"run_id\": \"AutoML_b06b1d76-d0fb-4280-9ed4-7c85891cf392\", \"categories\": [0], \"series\": [{\"data\": [0.8447553802786739]}]}, {\"name\": \"average_precision_score_macro\", \"run_id\": \"AutoML_b06b1d76-d0fb-4280-9ed4-7c85891cf392\", \"categories\": [0], \"series\": [{\"data\": [0.8735095045774248]}]}, {\"name\": \"weighted_accuracy\", \"run_id\": \"AutoML_b06b1d76-d0fb-4280-9ed4-7c85891cf392\", \"categories\": [0], \"series\": [{\"data\": [0.9023908783053486]}]}, {\"name\": \"average_precision_score_micro\", \"run_id\": \"AutoML_b06b1d76-d0fb-4280-9ed4-7c85891cf392\", \"categories\": [0], \"series\": [{\"data\": [0.9225807165012195]}]}, {\"name\": \"precision_score_weighted\", \"run_id\": \"AutoML_b06b1d76-d0fb-4280-9ed4-7c85891cf392\", \"categories\": [0], \"series\": [{\"data\": [0.8491594340781198]}]}, {\"name\": \"recall_score_weighted\", \"run_id\": \"AutoML_b06b1d76-d0fb-4280-9ed4-7c85891cf392\", \"categories\": [0], \"series\": [{\"data\": [0.852114099159676]}]}, {\"name\": \"matthews_correlation\", \"run_id\": \"AutoML_b06b1d76-d0fb-4280-9ed4-7c85891cf392\", \"categories\": [0], \"series\": [{\"data\": [0.6138337521086046]}]}, {\"name\": \"precision_score_macro\", \"run_id\": \"AutoML_b06b1d76-d0fb-4280-9ed4-7c85891cf392\", \"categories\": [0], \"series\": [{\"data\": [0.8393293616209618]}]}, {\"name\": \"f1_score_macro\", \"run_id\": \"AutoML_b06b1d76-d0fb-4280-9ed4-7c85891cf392\", \"categories\": [0], \"series\": [{\"data\": [0.7996336943774203]}]}, {\"name\": \"precision_score_micro\", \"run_id\": \"AutoML_b06b1d76-d0fb-4280-9ed4-7c85891cf392\", \"categories\": [0], \"series\": [{\"data\": [0.852114099159676]}]}, {\"name\": \"balanced_accuracy\", \"run_id\": \"AutoML_b06b1d76-d0fb-4280-9ed4-7c85891cf392\", \"categories\": [0], \"series\": [{\"data\": [0.7776959877910882]}]}, {\"name\": \"accuracy\", \"run_id\": \"AutoML_b06b1d76-d0fb-4280-9ed4-7c85891cf392\", \"categories\": [0], \"series\": [{\"data\": [0.852114099159676]}]}, {\"name\": \"f1_score_micro\", \"run_id\": \"AutoML_b06b1d76-d0fb-4280-9ed4-7c85891cf392\", \"categories\": [0], \"series\": [{\"data\": [0.8521140991596757]}]}, {\"name\": \"AUC_weighted\", \"run_id\": \"AutoML_b06b1d76-d0fb-4280-9ed4-7c85891cf392\", \"categories\": [0], \"series\": [{\"data\": [0.8752435353193716]}]}, {\"name\": \"AUC_micro\", \"run_id\": \"AutoML_b06b1d76-d0fb-4280-9ed4-7c85891cf392\", \"categories\": [0], \"series\": [{\"data\": [0.9257051901321102]}]}, {\"name\": \"AUC_macro\", \"run_id\": \"AutoML_b06b1d76-d0fb-4280-9ed4-7c85891cf392\", \"categories\": [0], \"series\": [{\"data\": [0.8752435346723424]}]}, {\"name\": \"average_precision_score_weighted\", \"run_id\": \"AutoML_b06b1d76-d0fb-4280-9ed4-7c85891cf392\", \"categories\": [0], \"series\": [{\"data\": [0.8971926077551393]}]}, {\"name\": \"recall_score_micro\", \"run_id\": \"AutoML_b06b1d76-d0fb-4280-9ed4-7c85891cf392\", \"categories\": [0], \"series\": [{\"data\": [0.852114099159676]}]}], \"run_logs\": \"\\nRun is completed.\", \"graph\": {}, \"widget_settings\": {\"childWidgetDisplay\": \"popup\", \"send_telemetry\": false, \"log_level\": \"INFO\", \"sdk_version\": \"1.20.0\"}, \"loading\": false}"
     },
     "metadata": {},
     "output_type": "display_data"
    },
    {
     "name": "stdout",
     "output_type": "stream",
     "text": [
      "\n",
      "Current status: FeaturesGeneration. Generating features for the dataset.\n",
      "Current status: DatasetFeaturization. Beginning to fit featurizers and featurize the dataset.\n",
      "Current status: DatasetCrossValidationSplit. Generating individually featurized CV splits.\n",
      "Current status: ModelSelection. Beginning model selection.\n",
      "\n",
      "****************************************************************************************************\n",
      "DATA GUARDRAILS: \n",
      "\n",
      "TYPE:         Class balancing detection\n",
      "STATUS:       PASSED\n",
      "DESCRIPTION:  Your inputs were analyzed, and all classes are balanced in your training data.\n",
      "              Learn more about imbalanced data: https://aka.ms/AutomatedMLImbalancedData\n",
      "\n",
      "****************************************************************************************************\n",
      "\n",
      "TYPE:         Missing feature values imputation\n",
      "STATUS:       PASSED\n",
      "DESCRIPTION:  No feature missing values were detected in the training data.\n",
      "              Learn more about missing value imputation: https://aka.ms/AutomatedMLFeaturization\n",
      "\n",
      "****************************************************************************************************\n",
      "\n",
      "TYPE:         High cardinality feature detection\n",
      "STATUS:       PASSED\n",
      "DESCRIPTION:  Your inputs were analyzed, and no high cardinality features were detected.\n",
      "              Learn more about high cardinality feature handling: https://aka.ms/AutomatedMLFeaturization\n",
      "\n",
      "****************************************************************************************************\n",
      "\n",
      "****************************************************************************************************\n",
      "ITERATION: The iteration being evaluated.\n",
      "PIPELINE: A summary description of the pipeline being evaluated.\n",
      "DURATION: Time taken for the current iteration.\n",
      "METRIC: The result of computing score on the fitted pipeline.\n",
      "BEST: The best observed score thus far.\n",
      "****************************************************************************************************\n",
      "\n",
      " ITERATION   PIPELINE                                       DURATION      METRIC      BEST\n",
      "         2   MaxAbsScaler RandomForest                      0:01:13       0.8418    0.8418\n",
      "         3   MaxAbsScaler RandomForest                      0:01:16       0.7955    0.8418\n",
      "         4   MaxAbsScaler RandomForest                      0:01:15       0.8464    0.8464\n",
      "         0   MaxAbsScaler LightGBM                          0:01:20       0.8516    0.8516\n",
      "         1   MaxAbsScaler XGBoostClassifier                 0:02:09       0.8515    0.8516\n",
      "         5   MaxAbsScaler RandomForest                      0:01:06       0.8264    0.8516\n",
      "         7   SparseNormalizer XGBoostClassifier             0:02:57       0.8501    0.8516\n",
      "        10   SparseNormalizer XGBoostClassifier             0:01:53       0.8464    0.8516\n",
      "         6   SparseNormalizer XGBoostClassifier             0:03:53       0.8501    0.8516\n",
      "         8   SparseNormalizer XGBoostClassifier             0:03:41       0.8509    0.8516\n",
      "         9   SparseNormalizer XGBoostClassifier             0:02:53       0.8505    0.8516\n",
      "        12   SparseNormalizer XGBoostClassifier             0:01:10       0.8421    0.8516\n",
      "        13   SparseNormalizer LightGBM                      0:01:18       0.8459    0.8516\n",
      "        14   MaxAbsScaler LogisticRegression                0:01:47       0.8481    0.8516\n",
      "        16   MaxAbsScaler LightGBM                          0:01:07       0.8467    0.8516\n",
      "        17   MaxAbsScaler LightGBM                          0:01:28       0.8506    0.8516\n",
      "        11   MaxAbsScaler RandomForest                      0:03:58       0.8140    0.8516\n",
      "        19   MaxAbsScaler RandomForest                      0:01:52       0.8351    0.8516\n",
      "        21   MaxAbsScaler LightGBM                          0:02:00       0.8421    0.8516\n",
      "        22   StandardScalerWrapper LightGBM                 0:01:16       0.8498    0.8516\n",
      "        20   StandardScalerWrapper GradientBoosting         0:02:20       0.8459    0.8516\n",
      "        15   MaxAbsScaler ExtremeRandomTrees                0:06:16       0.8478    0.8516\n",
      "        23   SparseNormalizer LightGBM                      0:01:19       0.8421    0.8516\n",
      "        24   SparseNormalizer LightGBM                      0:02:11       0.8481    0.8516\n",
      "        26   SparseNormalizer LightGBM                      0:01:14       0.8490    0.8516\n",
      "        38    VotingEnsemble                                0:03:01       0.8521    0.8521\n"
     ]
    },
    {
     "data": {
      "text/plain": [
       "{'runId': 'AutoML_b06b1d76-d0fb-4280-9ed4-7c85891cf392',\n",
       " 'target': 'capstone-compute',\n",
       " 'status': 'Completed',\n",
       " 'startTimeUtc': '2021-02-05T19:41:31.139406Z',\n",
       " 'endTimeUtc': '2021-02-05T20:08:39.795781Z',\n",
       " 'properties': {'num_iterations': '1000',\n",
       "  'training_type': 'TrainFull',\n",
       "  'acquisition_function': 'EI',\n",
       "  'primary_metric': 'accuracy',\n",
       "  'train_split': '0',\n",
       "  'acquisition_parameter': '0',\n",
       "  'num_cross_validation': '5',\n",
       "  'target': 'capstone-compute',\n",
       "  'AMLSettingsJsonString': '{\"path\":null,\"name\":\"loan-default-automl\",\"subscription_id\":\"aa7cf8e8-d23f-4bce-a7b9-1f0b4e0ac8ee\",\"resource_group\":\"aml-quickstarts-137363\",\"workspace_name\":\"quick-starts-ws-137363\",\"region\":\"southcentralus\",\"compute_target\":\"capstone-compute\",\"spark_service\":null,\"azure_service\":\"remote\",\"many_models\":false,\"pipeline_fetch_max_batch_size\":1,\"iterations\":1000,\"primary_metric\":\"accuracy\",\"task_type\":\"classification\",\"data_script\":null,\"validation_size\":0.0,\"n_cross_validations\":5,\"y_min\":null,\"y_max\":null,\"num_classes\":null,\"featurization\":\"auto\",\"_ignore_package_version_incompatibilities\":false,\"is_timeseries\":false,\"max_cores_per_iteration\":1,\"max_concurrent_iterations\":5,\"iteration_timeout_minutes\":null,\"mem_in_mb\":null,\"enforce_time_on_windows\":false,\"experiment_timeout_minutes\":30,\"experiment_exit_score\":null,\"whitelist_models\":null,\"blacklist_algos\":[\"TensorFlowLinearClassifier\",\"TensorFlowDNN\"],\"supported_models\":[\"MultinomialNaiveBayes\",\"DecisionTree\",\"AveragedPerceptronClassifier\",\"SGD\",\"ExtremeRandomTrees\",\"LinearSVM\",\"KNN\",\"LogisticRegression\",\"SVM\",\"RandomForest\",\"LightGBM\",\"TensorFlowLinearClassifier\",\"BernoulliNaiveBayes\",\"TensorFlowDNN\",\"XGBoostClassifier\",\"GradientBoosting\"],\"auto_blacklist\":true,\"blacklist_samples_reached\":false,\"exclude_nan_labels\":true,\"verbosity\":20,\"_debug_log\":\"azureml_automl.log\",\"show_warnings\":false,\"model_explainability\":true,\"service_url\":null,\"sdk_url\":null,\"sdk_packages\":null,\"enable_onnx_compatible_models\":true,\"enable_split_onnx_featurizer_estimator_models\":false,\"vm_type\":\"STANDARD_DS12_V2\",\"telemetry_verbosity\":20,\"send_telemetry\":true,\"enable_dnn\":false,\"scenario\":\"SDK-1.13.0\",\"environment_label\":null,\"force_text_dnn\":false,\"enable_feature_sweeping\":false,\"enable_early_stopping\":true,\"early_stopping_n_iters\":10,\"metrics\":null,\"enable_ensembling\":true,\"enable_stack_ensembling\":false,\"ensemble_iterations\":15,\"enable_tf\":false,\"enable_subsampling\":null,\"subsample_seed\":null,\"enable_nimbusml\":false,\"enable_streaming\":false,\"force_streaming\":false,\"track_child_runs\":true,\"allowed_private_models\":[],\"label_column_name\":\"loanDefault\",\"weight_column_name\":null,\"cv_split_column_names\":null,\"enable_local_managed\":false,\"_local_managed_run_id\":null,\"cost_mode\":1,\"lag_length\":0,\"metric_operation\":\"maximize\",\"preprocess\":true}',\n",
       "  'DataPrepJsonString': '{\\\\\"training_data\\\\\": \\\\\"{\\\\\\\\\\\\\"blocks\\\\\\\\\\\\\": [{\\\\\\\\\\\\\"id\\\\\\\\\\\\\": \\\\\\\\\\\\\"c256afe6-a24d-43e3-af7c-4999da1b8cbd\\\\\\\\\\\\\", \\\\\\\\\\\\\"type\\\\\\\\\\\\\": \\\\\\\\\\\\\"Microsoft.DPrep.GetDatastoreFilesBlock\\\\\\\\\\\\\", \\\\\\\\\\\\\"arguments\\\\\\\\\\\\\": {\\\\\\\\\\\\\"datastores\\\\\\\\\\\\\": [{\\\\\\\\\\\\\"datastoreName\\\\\\\\\\\\\": \\\\\\\\\\\\\"workspaceblobstore\\\\\\\\\\\\\", \\\\\\\\\\\\\"path\\\\\\\\\\\\\": \\\\\\\\\\\\\"AutoMLData/bb36e146-72e3-40e1-a06f-2fa645bf20af/\\\\\\\\\\\\\", \\\\\\\\\\\\\"resourceGroup\\\\\\\\\\\\\": \\\\\\\\\\\\\"aml-quickstarts-137363\\\\\\\\\\\\\", \\\\\\\\\\\\\"subscription\\\\\\\\\\\\\": \\\\\\\\\\\\\"aa7cf8e8-d23f-4bce-a7b9-1f0b4e0ac8ee\\\\\\\\\\\\\", \\\\\\\\\\\\\"workspaceName\\\\\\\\\\\\\": \\\\\\\\\\\\\"quick-starts-ws-137363\\\\\\\\\\\\\"}]}, \\\\\\\\\\\\\"localData\\\\\\\\\\\\\": {}, \\\\\\\\\\\\\"isEnabled\\\\\\\\\\\\\": true, \\\\\\\\\\\\\"name\\\\\\\\\\\\\": null, \\\\\\\\\\\\\"annotation\\\\\\\\\\\\\": null}, {\\\\\\\\\\\\\"id\\\\\\\\\\\\\": \\\\\\\\\\\\\"7c21bd4d-bc14-471d-bbc8-60c0dd004b99\\\\\\\\\\\\\", \\\\\\\\\\\\\"type\\\\\\\\\\\\\": \\\\\\\\\\\\\"Microsoft.DPrep.ReadParquetFileBlock\\\\\\\\\\\\\", \\\\\\\\\\\\\"arguments\\\\\\\\\\\\\": {\\\\\\\\\\\\\"preview\\\\\\\\\\\\\": false}, \\\\\\\\\\\\\"localData\\\\\\\\\\\\\": {}, \\\\\\\\\\\\\"isEnabled\\\\\\\\\\\\\": true, \\\\\\\\\\\\\"name\\\\\\\\\\\\\": null, \\\\\\\\\\\\\"annotation\\\\\\\\\\\\\": null}, {\\\\\\\\\\\\\"id\\\\\\\\\\\\\": \\\\\\\\\\\\\"219449a9-19f0-4125-bfe5-1b72552ff2b9\\\\\\\\\\\\\", \\\\\\\\\\\\\"type\\\\\\\\\\\\\": \\\\\\\\\\\\\"Microsoft.DPrep.DropColumnsBlock\\\\\\\\\\\\\", \\\\\\\\\\\\\"arguments\\\\\\\\\\\\\": {\\\\\\\\\\\\\"columns\\\\\\\\\\\\\": {\\\\\\\\\\\\\"type\\\\\\\\\\\\\": 0, \\\\\\\\\\\\\"details\\\\\\\\\\\\\": {\\\\\\\\\\\\\"selectedColumns\\\\\\\\\\\\\": [\\\\\\\\\\\\\"Path\\\\\\\\\\\\\"]}}}, \\\\\\\\\\\\\"localData\\\\\\\\\\\\\": {}, \\\\\\\\\\\\\"isEnabled\\\\\\\\\\\\\": true, \\\\\\\\\\\\\"name\\\\\\\\\\\\\": null, \\\\\\\\\\\\\"annotation\\\\\\\\\\\\\": null}], \\\\\\\\\\\\\"inspectors\\\\\\\\\\\\\": [], \\\\\\\\\\\\\"meta\\\\\\\\\\\\\": {\\\\\\\\\\\\\"savedDatasetId\\\\\\\\\\\\\": \\\\\\\\\\\\\"7696d00c-a670-433b-ac50-c1fc760eabd6\\\\\\\\\\\\\", \\\\\\\\\\\\\"datasetType\\\\\\\\\\\\\": \\\\\\\\\\\\\"tabular\\\\\\\\\\\\\", \\\\\\\\\\\\\"subscriptionId\\\\\\\\\\\\\": \\\\\\\\\\\\\"aa7cf8e8-d23f-4bce-a7b9-1f0b4e0ac8ee\\\\\\\\\\\\\", \\\\\\\\\\\\\"workspaceId\\\\\\\\\\\\\": \\\\\\\\\\\\\"10eb044e-2a5a-4e3c-907d-b1c57192c818\\\\\\\\\\\\\", \\\\\\\\\\\\\"workspaceLocation\\\\\\\\\\\\\": \\\\\\\\\\\\\"southcentralus\\\\\\\\\\\\\"}}\\\\\", \\\\\"activities\\\\\": 0}',\n",
       "  'EnableSubsampling': None,\n",
       "  'runTemplate': 'AutoML',\n",
       "  'azureml.runsource': 'automl',\n",
       "  'display_task_type': 'classification',\n",
       "  'dependencies_versions': '{\"azureml-widgets\": \"1.20.0\", \"azureml-train\": \"1.20.0\", \"azureml-train-restclients-hyperdrive\": \"1.20.0\", \"azureml-train-core\": \"1.20.0\", \"azureml-train-automl\": \"1.20.0\", \"azureml-train-automl-runtime\": \"1.20.0\", \"azureml-train-automl-client\": \"1.20.0\", \"azureml-tensorboard\": \"1.20.0\", \"azureml-telemetry\": \"1.20.0\", \"azureml-sdk\": \"1.20.0\", \"azureml-samples\": \"0+unknown\", \"azureml-pipeline\": \"1.20.0\", \"azureml-pipeline-steps\": \"1.20.0\", \"azureml-pipeline-core\": \"1.20.0\", \"azureml-opendatasets\": \"1.20.0\", \"azureml-model-management-sdk\": \"1.0.1b6.post1\", \"azureml-mlflow\": \"1.20.0.post1\", \"azureml-interpret\": \"1.20.0\", \"azureml-explain-model\": \"1.20.0\", \"azureml-defaults\": \"1.20.0\", \"azureml-dataset-runtime\": \"1.20.0\", \"azureml-dataprep\": \"2.7.3\", \"azureml-dataprep-rslex\": \"1.5.0\", \"azureml-dataprep-native\": \"27.0.0\", \"azureml-datadrift\": \"1.20.0\", \"azureml-core\": \"1.20.0\", \"azureml-contrib-services\": \"1.20.0\", \"azureml-contrib-server\": \"1.20.0\", \"azureml-contrib-reinforcementlearning\": \"1.20.0\", \"azureml-contrib-pipeline-steps\": \"1.20.0\", \"azureml-contrib-notebook\": \"1.20.0\", \"azureml-contrib-interpret\": \"1.20.0\", \"azureml-contrib-gbdt\": \"1.20.0\", \"azureml-contrib-fairness\": \"1.20.0\", \"azureml-contrib-dataset\": \"1.20.0\", \"azureml-cli-common\": \"1.20.0\", \"azureml-automl-runtime\": \"1.20.0\", \"azureml-automl-core\": \"1.20.0\", \"azureml-accel-models\": \"1.20.0\"}',\n",
       "  '_aml_system_scenario_identification': 'Remote.Parent',\n",
       "  'ClientType': 'SDK',\n",
       "  'environment_cpu_name': 'AzureML-AutoML',\n",
       "  'environment_cpu_label': 'prod',\n",
       "  'environment_gpu_name': 'AzureML-AutoML-GPU',\n",
       "  'environment_gpu_label': 'prod',\n",
       "  'root_attribution': 'automl',\n",
       "  'attribution': 'AutoML',\n",
       "  'Orchestrator': 'AutoML',\n",
       "  'CancelUri': 'https://southcentralus.experiments.azureml.net/jasmine/v1.0/subscriptions/aa7cf8e8-d23f-4bce-a7b9-1f0b4e0ac8ee/resourceGroups/aml-quickstarts-137363/providers/Microsoft.MachineLearningServices/workspaces/quick-starts-ws-137363/experimentids/eb3ffa86-b9f0-45b7-8d0e-42e1200b9e40/cancel/AutoML_b06b1d76-d0fb-4280-9ed4-7c85891cf392',\n",
       "  'ClientSdkVersion': '1.21.0',\n",
       "  'snapshotId': '00000000-0000-0000-0000-000000000000',\n",
       "  'SetupRunId': 'AutoML_b06b1d76-d0fb-4280-9ed4-7c85891cf392_setup',\n",
       "  'SetupRunContainerId': 'dcid.AutoML_b06b1d76-d0fb-4280-9ed4-7c85891cf392_setup',\n",
       "  'FeaturizationRunJsonPath': 'featurizer_container.json',\n",
       "  'FeaturizationRunId': 'AutoML_b06b1d76-d0fb-4280-9ed4-7c85891cf392_featurize',\n",
       "  'ProblemInfoJsonString': '{\"dataset_num_categorical\": 0, \"is_sparse\": true, \"subsampling\": false, \"dataset_classes\": 2, \"dataset_features\": 99, \"dataset_samples\": 159596, \"single_frequency_class_detected\": false}',\n",
       "  'ModelExplainRunId': 'AutoML_b06b1d76-d0fb-4280-9ed4-7c85891cf392_ModelExplain'},\n",
       " 'inputDatasets': [{'dataset': {'id': '7696d00c-a670-433b-ac50-c1fc760eabd6'}, 'consumptionDetails': {'type': 'RunInput', 'inputName': 'training_data', 'mechanism': 'Direct'}}],\n",
       " 'outputDatasets': [],\n",
       " 'logFiles': {},\n",
       " 'submittedBy': 'ODL_User 137363'}"
      ]
     },
     "execution_count": 10,
     "metadata": {},
     "output_type": "execute_result"
    }
   ],
   "source": [
    "RunDetails(remote_run).show()\n",
    "remote_run.wait_for_completion(show_output=True)"
   ]
  },
  {
   "cell_type": "markdown",
   "metadata": {},
   "source": [
    "OPTIONAL: Write about the different models trained and their performance. Why do you think some models did better than others?"
   ]
  },
  {
   "cell_type": "markdown",
   "metadata": {},
   "source": [
    "## Best Model\n",
    "\n",
    "TODO: In the cell below, get the best model from the automl experiments and display all the properties of the model.\n",
    "\n"
   ]
  },
  {
   "cell_type": "code",
   "execution_count": 14,
   "metadata": {
    "gather": {
     "logged": 1598431425670
    },
    "jupyter": {
     "outputs_hidden": false,
     "source_hidden": false
    },
    "nteract": {
     "transient": {
      "deleting": false
     }
    }
   },
   "outputs": [
    {
     "name": "stderr",
     "output_type": "stream",
     "text": [
      "WARNING:root:The version of the SDK does not match the version the model was trained on.\n",
      "WARNING:root:The consistency in the result may not be guaranteed.\n",
      "WARNING:root:Package:azureml-automl-core, training version:1.21.0, current version:1.20.0\n",
      "Package:azureml-automl-runtime, training version:1.21.0, current version:1.20.0\n",
      "Package:azureml-core, training version:1.21.0.post1, current version:1.20.0\n",
      "Package:azureml-dataprep, training version:2.8.2, current version:2.7.3\n",
      "Package:azureml-dataprep-native, training version:28.0.0, current version:27.0.0\n",
      "Package:azureml-dataprep-rslex, training version:1.6.0, current version:1.5.0\n",
      "Package:azureml-dataset-runtime, training version:1.21.0, current version:1.20.0\n",
      "Package:azureml-defaults, training version:1.21.0, current version:1.20.0\n",
      "Package:azureml-interpret, training version:1.21.0, current version:1.20.0\n",
      "Package:azureml-pipeline-core, training version:1.21.0, current version:1.20.0\n",
      "Package:azureml-telemetry, training version:1.21.0, current version:1.20.0\n",
      "Package:azureml-train-automl-client, training version:1.21.0, current version:1.20.0\n",
      "Package:azureml-train-automl-runtime, training version:1.21.0, current version:1.20.0\n",
      "WARNING:root:Please ensure the version of your local conda dependencies match the version on which your model was trained in order to properly retrieve your model.\n"
     ]
    },
    {
     "name": "stdout",
     "output_type": "stream",
     "text": [
      "Run(Experiment: loan-default-automl,\n",
      "Id: AutoML_b06b1d76-d0fb-4280-9ed4-7c85891cf392_38,\n",
      "Type: azureml.scriptrun,\n",
      "Status: Completed)\n",
      "balanced_accuracy: 0.7776959877910882\n",
      "recall_score_micro: 0.852114099159676\n",
      "matthews_correlation: 0.6138337521086046\n",
      "f1_score_macro: 0.7996336943774203\n",
      "average_precision_score_weighted: 0.8971926077551393\n",
      "precision_score_macro: 0.8393293616209618\n",
      "AUC_micro: 0.9257051901321102\n",
      "f1_score_weighted: 0.8447553802786739\n",
      "log_loss: 0.35610441546303195\n",
      "f1_score_micro: 0.8521140991596757\n",
      "precision_score_weighted: 0.8491594340781198\n",
      "norm_macro_recall: 0.5553919755821762\n",
      "accuracy: 0.852114099159676\n",
      "recall_score_weighted: 0.852114099159676\n",
      "average_precision_score_macro: 0.8735095045774248\n",
      "weighted_accuracy: 0.9023908783053486\n",
      "recall_score_macro: 0.7776959877910882\n",
      "AUC_weighted: 0.8752435353193716\n",
      "average_precision_score_micro: 0.9225807165012195\n",
      "precision_score_micro: 0.852114099159676\n",
      "AUC_macro: 0.8752435346723424\n",
      "confusion_matrix: aml://artifactId/ExperimentRun/dcid.AutoML_b06b1d76-d0fb-4280-9ed4-7c85891cf392_38/confusion_matrix\n",
      "accuracy_table: aml://artifactId/ExperimentRun/dcid.AutoML_b06b1d76-d0fb-4280-9ed4-7c85891cf392_38/accuracy_table\n"
     ]
    }
   ],
   "source": [
    "# Retrieve the best automl model\n",
    "\n",
    "best_automl_run, fitted_model = remote_run.get_output()\n",
    "print(best_automl_run)\n",
    "\n",
    "#Returns the various metric values for the best run\n",
    "best_run_metrics = best_automl_run.get_metrics()\n",
    "for metric_name in best_run_metrics:\n",
    "    metric = best_run_metrics[metric_name]\n",
    "    print('{}: {}'.format(metric_name, metric))"
   ]
  },
  {
   "cell_type": "code",
   "execution_count": 12,
   "metadata": {},
   "outputs": [
    {
     "name": "stdout",
     "output_type": "stream",
     "text": [
      "datatransformer\n",
      "{'enable_dnn': None,\n",
      " 'enable_feature_sweeping': None,\n",
      " 'feature_sweeping_config': None,\n",
      " 'feature_sweeping_timeout': None,\n",
      " 'featurization_config': None,\n",
      " 'force_text_dnn': None,\n",
      " 'is_cross_validation': None,\n",
      " 'is_onnx_compatible': None,\n",
      " 'logger': None,\n",
      " 'observer': None,\n",
      " 'task': None,\n",
      " 'working_dir': None}\n",
      "\n",
      "prefittedsoftvotingclassifier\n",
      "{'estimators': ['0',\n",
      "                '1',\n",
      "                '8',\n",
      "                '17',\n",
      "                '9',\n",
      "                '6',\n",
      "                '22',\n",
      "                '26',\n",
      "                '28',\n",
      "                '10',\n",
      "                '29',\n",
      "                '2'],\n",
      " 'weights': [0.13333333333333333,\n",
      "             0.2,\n",
      "             0.06666666666666667,\n",
      "             0.06666666666666667,\n",
      "             0.06666666666666667,\n",
      "             0.06666666666666667,\n",
      "             0.06666666666666667,\n",
      "             0.06666666666666667,\n",
      "             0.06666666666666667,\n",
      "             0.06666666666666667,\n",
      "             0.06666666666666667,\n",
      "             0.06666666666666667]}\n",
      "\n",
      "0 - maxabsscaler\n",
      "{'copy': True}\n",
      "\n",
      "0 - lightgbmclassifier\n",
      "{'boosting_type': 'gbdt',\n",
      " 'class_weight': None,\n",
      " 'colsample_bytree': 1.0,\n",
      " 'importance_type': 'split',\n",
      " 'learning_rate': 0.1,\n",
      " 'max_depth': -1,\n",
      " 'min_child_samples': 20,\n",
      " 'min_child_weight': 0.001,\n",
      " 'min_split_gain': 0.0,\n",
      " 'n_estimators': 100,\n",
      " 'n_jobs': 1,\n",
      " 'num_leaves': 31,\n",
      " 'objective': None,\n",
      " 'random_state': None,\n",
      " 'reg_alpha': 0.0,\n",
      " 'reg_lambda': 0.0,\n",
      " 'silent': True,\n",
      " 'subsample': 1.0,\n",
      " 'subsample_for_bin': 200000,\n",
      " 'subsample_freq': 0,\n",
      " 'verbose': -10}\n",
      "\n",
      "1 - maxabsscaler\n",
      "{'copy': True}\n",
      "\n",
      "1 - xgboostclassifier\n",
      "{'base_score': 0.5,\n",
      " 'booster': 'gbtree',\n",
      " 'colsample_bylevel': 1,\n",
      " 'colsample_bynode': 1,\n",
      " 'colsample_bytree': 1,\n",
      " 'gamma': 0,\n",
      " 'learning_rate': 0.1,\n",
      " 'max_delta_step': 0,\n",
      " 'max_depth': 3,\n",
      " 'min_child_weight': 1,\n",
      " 'missing': nan,\n",
      " 'n_estimators': 100,\n",
      " 'n_jobs': 1,\n",
      " 'nthread': None,\n",
      " 'objective': 'binary:logistic',\n",
      " 'random_state': 0,\n",
      " 'reg_alpha': 0,\n",
      " 'reg_lambda': 1,\n",
      " 'scale_pos_weight': 1,\n",
      " 'seed': None,\n",
      " 'silent': None,\n",
      " 'subsample': 1,\n",
      " 'tree_method': 'auto',\n",
      " 'verbose': -10,\n",
      " 'verbosity': 0}\n",
      "\n",
      "8 - sparsenormalizer\n",
      "{'copy': True, 'norm': 'max'}\n",
      "\n",
      "8 - xgboostclassifier\n",
      "{'base_score': 0.5,\n",
      " 'booster': 'gbtree',\n",
      " 'colsample_bylevel': 1,\n",
      " 'colsample_bynode': 1,\n",
      " 'colsample_bytree': 0.8,\n",
      " 'eta': 0.2,\n",
      " 'gamma': 0,\n",
      " 'learning_rate': 0.1,\n",
      " 'max_delta_step': 0,\n",
      " 'max_depth': 6,\n",
      " 'max_leaves': 0,\n",
      " 'min_child_weight': 1,\n",
      " 'missing': nan,\n",
      " 'n_estimators': 100,\n",
      " 'n_jobs': 1,\n",
      " 'nthread': None,\n",
      " 'objective': 'reg:logistic',\n",
      " 'random_state': 0,\n",
      " 'reg_alpha': 0,\n",
      " 'reg_lambda': 1.9791666666666667,\n",
      " 'scale_pos_weight': 1,\n",
      " 'seed': None,\n",
      " 'silent': None,\n",
      " 'subsample': 0.8,\n",
      " 'tree_method': 'auto',\n",
      " 'verbose': -10,\n",
      " 'verbosity': 0}\n",
      "\n",
      "17 - maxabsscaler\n",
      "{'copy': True}\n",
      "\n",
      "17 - lightgbmclassifier\n",
      "{'boosting_type': 'gbdt',\n",
      " 'class_weight': None,\n",
      " 'colsample_bytree': 0.8911111111111111,\n",
      " 'importance_type': 'split',\n",
      " 'learning_rate': 0.04211105263157895,\n",
      " 'max_bin': 270,\n",
      " 'max_depth': 7,\n",
      " 'min_child_samples': 4955,\n",
      " 'min_child_weight': 1,\n",
      " 'min_split_gain': 0.8421052631578947,\n",
      " 'n_estimators': 100,\n",
      " 'n_jobs': 1,\n",
      " 'num_leaves': 188,\n",
      " 'objective': None,\n",
      " 'random_state': None,\n",
      " 'reg_alpha': 0.6842105263157894,\n",
      " 'reg_lambda': 0.10526315789473684,\n",
      " 'silent': True,\n",
      " 'subsample': 0.5942105263157895,\n",
      " 'subsample_for_bin': 200000,\n",
      " 'subsample_freq': 0,\n",
      " 'verbose': -10}\n",
      "\n",
      "9 - sparsenormalizer\n",
      "{'copy': True, 'norm': 'max'}\n",
      "\n",
      "9 - xgboostclassifier\n",
      "{'base_score': 0.5,\n",
      " 'booster': 'gbtree',\n",
      " 'colsample_bylevel': 1,\n",
      " 'colsample_bynode': 1,\n",
      " 'colsample_bytree': 0.7,\n",
      " 'eta': 0.001,\n",
      " 'gamma': 0,\n",
      " 'learning_rate': 0.1,\n",
      " 'max_delta_step': 0,\n",
      " 'max_depth': 4,\n",
      " 'max_leaves': 7,\n",
      " 'min_child_weight': 1,\n",
      " 'missing': nan,\n",
      " 'n_estimators': 100,\n",
      " 'n_jobs': 1,\n",
      " 'nthread': None,\n",
      " 'objective': 'reg:logistic',\n",
      " 'random_state': 0,\n",
      " 'reg_alpha': 0.3125,\n",
      " 'reg_lambda': 1.875,\n",
      " 'scale_pos_weight': 1,\n",
      " 'seed': None,\n",
      " 'silent': None,\n",
      " 'subsample': 1,\n",
      " 'tree_method': 'auto',\n",
      " 'verbose': -10,\n",
      " 'verbosity': 0}\n",
      "\n",
      "6 - sparsenormalizer\n",
      "{'copy': True, 'norm': 'l2'}\n",
      "\n",
      "6 - xgboostclassifier\n",
      "{'base_score': 0.5,\n",
      " 'booster': 'gbtree',\n",
      " 'colsample_bylevel': 1,\n",
      " 'colsample_bynode': 1,\n",
      " 'colsample_bytree': 0.5,\n",
      " 'eta': 0.1,\n",
      " 'gamma': 0,\n",
      " 'learning_rate': 0.1,\n",
      " 'max_delta_step': 0,\n",
      " 'max_depth': 6,\n",
      " 'max_leaves': 15,\n",
      " 'min_child_weight': 1,\n",
      " 'missing': nan,\n",
      " 'n_estimators': 100,\n",
      " 'n_jobs': 1,\n",
      " 'nthread': None,\n",
      " 'objective': 'reg:logistic',\n",
      " 'random_state': 0,\n",
      " 'reg_alpha': 0,\n",
      " 'reg_lambda': 2.0833333333333335,\n",
      " 'scale_pos_weight': 1,\n",
      " 'seed': None,\n",
      " 'silent': None,\n",
      " 'subsample': 1,\n",
      " 'tree_method': 'auto',\n",
      " 'verbose': -10,\n",
      " 'verbosity': 0}\n",
      "\n",
      "22 - standardscalerwrapper\n",
      "{'class_name': 'StandardScaler',\n",
      " 'copy': True,\n",
      " 'module_name': 'sklearn.preprocessing._data',\n",
      " 'with_mean': False,\n",
      " 'with_std': False}\n",
      "\n",
      "22 - lightgbmclassifier\n",
      "{'boosting_type': 'goss',\n",
      " 'class_weight': None,\n",
      " 'colsample_bytree': 0.3966666666666666,\n",
      " 'importance_type': 'split',\n",
      " 'learning_rate': 0.07368684210526316,\n",
      " 'max_bin': 360,\n",
      " 'max_depth': 8,\n",
      " 'min_child_samples': 13759,\n",
      " 'min_child_weight': 0,\n",
      " 'min_split_gain': 0.3157894736842105,\n",
      " 'n_estimators': 25,\n",
      " 'n_jobs': 1,\n",
      " 'num_leaves': 194,\n",
      " 'objective': None,\n",
      " 'random_state': None,\n",
      " 'reg_alpha': 0.8421052631578947,\n",
      " 'reg_lambda': 0.8421052631578947,\n",
      " 'silent': True,\n",
      " 'subsample': 1,\n",
      " 'subsample_for_bin': 200000,\n",
      " 'subsample_freq': 0,\n",
      " 'verbose': -10}\n",
      "\n",
      "26 - sparsenormalizer\n",
      "{'copy': True, 'norm': 'l2'}\n",
      "\n",
      "26 - lightgbmclassifier\n",
      "{'boosting_type': 'gbdt',\n",
      " 'class_weight': None,\n",
      " 'colsample_bytree': 0.5944444444444444,\n",
      " 'importance_type': 'split',\n",
      " 'learning_rate': 0.05789894736842106,\n",
      " 'max_bin': 340,\n",
      " 'max_depth': 7,\n",
      " 'min_child_samples': 12108,\n",
      " 'min_child_weight': 4,\n",
      " 'min_split_gain': 0,\n",
      " 'n_estimators': 50,\n",
      " 'n_jobs': 1,\n",
      " 'num_leaves': 227,\n",
      " 'objective': None,\n",
      " 'random_state': None,\n",
      " 'reg_alpha': 0.15789473684210525,\n",
      " 'reg_lambda': 0.21052631578947367,\n",
      " 'silent': True,\n",
      " 'subsample': 0.24789473684210528,\n",
      " 'subsample_for_bin': 200000,\n",
      " 'subsample_freq': 0,\n",
      " 'verbose': -10}\n",
      "\n",
      "28 - standardscalerwrapper\n",
      "{'class_name': 'StandardScaler',\n",
      " 'copy': True,\n",
      " 'module_name': 'sklearn.preprocessing._data',\n",
      " 'with_mean': False,\n",
      " 'with_std': False}\n",
      "\n",
      "28 - lightgbmclassifier\n",
      "{'boosting_type': 'goss',\n",
      " 'class_weight': None,\n",
      " 'colsample_bytree': 0.8911111111111111,\n",
      " 'importance_type': 'split',\n",
      " 'learning_rate': 0.0842121052631579,\n",
      " 'max_bin': 220,\n",
      " 'max_depth': 7,\n",
      " 'min_child_samples': 3304,\n",
      " 'min_child_weight': 5,\n",
      " 'min_split_gain': 1,\n",
      " 'n_estimators': 25,\n",
      " 'n_jobs': 1,\n",
      " 'num_leaves': 143,\n",
      " 'objective': None,\n",
      " 'random_state': None,\n",
      " 'reg_alpha': 0.47368421052631576,\n",
      " 'reg_lambda': 0.05263157894736842,\n",
      " 'silent': True,\n",
      " 'subsample': 1,\n",
      " 'subsample_for_bin': 200000,\n",
      " 'subsample_freq': 0,\n",
      " 'verbose': -10}\n",
      "\n",
      "10 - sparsenormalizer\n",
      "{'copy': True, 'norm': 'l1'}\n",
      "\n",
      "10 - xgboostclassifier\n",
      "{'base_score': 0.5,\n",
      " 'booster': 'gbtree',\n",
      " 'colsample_bylevel': 1,\n",
      " 'colsample_bynode': 1,\n",
      " 'colsample_bytree': 0.7,\n",
      " 'eta': 0.2,\n",
      " 'gamma': 0,\n",
      " 'learning_rate': 0.1,\n",
      " 'max_delta_step': 0,\n",
      " 'max_depth': 7,\n",
      " 'max_leaves': 31,\n",
      " 'min_child_weight': 1,\n",
      " 'missing': nan,\n",
      " 'n_estimators': 10,\n",
      " 'n_jobs': 1,\n",
      " 'nthread': None,\n",
      " 'objective': 'reg:logistic',\n",
      " 'random_state': 0,\n",
      " 'reg_alpha': 0,\n",
      " 'reg_lambda': 0.625,\n",
      " 'scale_pos_weight': 1,\n",
      " 'seed': None,\n",
      " 'silent': None,\n",
      " 'subsample': 1,\n",
      " 'tree_method': 'auto',\n",
      " 'verbose': -10,\n",
      " 'verbosity': 0}\n",
      "\n",
      "29 - standardscalerwrapper\n",
      "{'class_name': 'StandardScaler',\n",
      " 'copy': True,\n",
      " 'module_name': 'sklearn.preprocessing._data',\n",
      " 'with_mean': False,\n",
      " 'with_std': False}\n",
      "\n",
      "29 - xgboostclassifier\n",
      "{'base_score': 0.5,\n",
      " 'booster': 'gbtree',\n",
      " 'colsample_bylevel': 1,\n",
      " 'colsample_bynode': 1,\n",
      " 'colsample_bytree': 0.9,\n",
      " 'eta': 0.2,\n",
      " 'gamma': 0,\n",
      " 'grow_policy': 'lossguide',\n",
      " 'learning_rate': 0.1,\n",
      " 'max_bin': 7,\n",
      " 'max_delta_step': 0,\n",
      " 'max_depth': 9,\n",
      " 'max_leaves': 3,\n",
      " 'min_child_weight': 1,\n",
      " 'missing': nan,\n",
      " 'n_estimators': 10,\n",
      " 'n_jobs': 1,\n",
      " 'nthread': None,\n",
      " 'objective': 'reg:logistic',\n",
      " 'random_state': 0,\n",
      " 'reg_alpha': 0,\n",
      " 'reg_lambda': 1.4583333333333335,\n",
      " 'scale_pos_weight': 1,\n",
      " 'seed': None,\n",
      " 'silent': None,\n",
      " 'subsample': 1,\n",
      " 'tree_method': 'hist',\n",
      " 'verbose': -10,\n",
      " 'verbosity': 0}\n",
      "\n",
      "2 - maxabsscaler\n",
      "{'copy': True}\n",
      "\n",
      "2 - randomforestclassifier\n",
      "{'bootstrap': False,\n",
      " 'ccp_alpha': 0.0,\n",
      " 'class_weight': None,\n",
      " 'criterion': 'gini',\n",
      " 'max_depth': None,\n",
      " 'max_features': 'sqrt',\n",
      " 'max_leaf_nodes': None,\n",
      " 'max_samples': None,\n",
      " 'min_impurity_decrease': 0.0,\n",
      " 'min_impurity_split': None,\n",
      " 'min_samples_leaf': 0.01,\n",
      " 'min_samples_split': 0.10368421052631578,\n",
      " 'min_weight_fraction_leaf': 0.0,\n",
      " 'n_estimators': 10,\n",
      " 'n_jobs': 1,\n",
      " 'oob_score': False,\n",
      " 'random_state': None,\n",
      " 'verbose': 0,\n",
      " 'warm_start': False}\n",
      "\n"
     ]
    }
   ],
   "source": [
    "# Parameters of the best model\n",
    "def print_model(model, prefix=\"\"):\n",
    "    for step in model.steps:\n",
    "        print(prefix + step[0])\n",
    "        if hasattr(step[1], 'estimators') and hasattr(step[1], 'weights'):\n",
    "            pprint({'estimators': list(\n",
    "                e[0] for e in step[1].estimators), 'weights': step[1].weights})\n",
    "            print()\n",
    "            for estimator in step[1].estimators:\n",
    "                print_model(estimator[1], estimator[0] + ' - ')\n",
    "        else:\n",
    "            pprint(step[1].get_params())\n",
    "            print()\n",
    "\n",
    "print_model(fitted_model)"
   ]
  },
  {
   "cell_type": "code",
   "execution_count": 13,
   "metadata": {
    "gather": {
     "logged": 1598431426111
    },
    "jupyter": {
     "outputs_hidden": false,
     "source_hidden": false
    },
    "nteract": {
     "transient": {
      "deleting": false
     }
    }
   },
   "outputs": [
    {
     "name": "stdout",
     "output_type": "stream",
     "text": [
      "model_automl version: 1\n",
      "\t Training context : Auto ML\n",
      "\t Accuracy : 0.852114099159676\n",
      "\n",
      "\n"
     ]
    }
   ],
   "source": [
    "# Register model\n",
    "bestModel = best_automl_run.register_model(model_path='outputs/model.pkl', model_name='model_automl',\n",
    "                        tags={'Training context':'Auto ML'},\n",
    "                        properties={'Accuracy': best_run_metrics['accuracy']})\n",
    "\n",
    "# List registered models\n",
    "for model in Model.list(ws):\n",
    "    print(model.name, 'version:', model.version)\n",
    "    for tag_name in model.tags:\n",
    "        tag = model.tags[tag_name]\n",
    "        print ('\\t',tag_name, ':', tag)\n",
    "    for prop_name in model.properties:\n",
    "        prop = model.properties[prop_name]\n",
    "        print ('\\t',prop_name, ':', prop)\n",
    "    print('\\n')"
   ]
  },
  {
   "cell_type": "markdown",
   "metadata": {},
   "source": [
    "## Model Deployment\n",
    "\n",
    "Remember you have to deploy only one of the two models you trained.. Perform the steps in the rest of this notebook only if you wish to deploy this model.\n",
    "\n",
    "TODO: In the cell below, register the model, create an inference config and deploy the model as a web service."
   ]
  },
  {
   "cell_type": "code",
   "execution_count": 39,
   "metadata": {
    "gather": {
     "logged": 1598431435189
    },
    "jupyter": {
     "outputs_hidden": false,
     "source_hidden": false
    },
    "nteract": {
     "transient": {
      "deleting": false
     }
    }
   },
   "outputs": [],
   "source": [
    "# download scoring file \n",
    "best_automl_run.download_file('outputs/scoring_file_v_1_0_0.py', 'score.py')\n",
    "\n",
    "# download environment file\n",
    "best_automl_run.download_file('outputs/conda_env_v_1_0_0.yml', 'envFile.yml')"
   ]
  },
  {
   "cell_type": "markdown",
   "metadata": {
    "collapsed": true,
    "gather": {
     "logged": 1598431657736
    },
    "jupyter": {
     "outputs_hidden": false,
     "source_hidden": false
    },
    "nteract": {
     "transient": {
      "deleting": false
     }
    }
   },
   "source": [
    "TODO: In the cell below, send a request to the web service you deployed to test it."
   ]
  },
  {
   "cell_type": "code",
   "execution_count": 40,
   "metadata": {
    "gather": {
     "logged": 1598432707604
    },
    "jupyter": {
     "outputs_hidden": false,
     "source_hidden": false
    },
    "nteract": {
     "transient": {
      "deleting": false
     }
    }
   },
   "outputs": [],
   "source": [
    "inference_config = InferenceConfig(entry_script='score.py',\n",
    "                                    environment=best_automl_run.get_environment())\n",
    "\n",
    "# deploying model\n",
    "\n",
    "deployment_config = AciWebservice.deploy_configuration(cpu_cores = 1, memory_gb = 1,auth_enabled=True)\n",
    "service = Model.deploy(workspace = ws, \n",
    "                    name = \"deployed-best-model\", \n",
    "                    models = [bestModel], \n",
    "                    inference_config = inference_config, \n",
    "                    deployment_config = deployment_config,\n",
    "                    overwrite=True)"
   ]
  },
  {
   "cell_type": "code",
   "execution_count": 41,
   "metadata": {},
   "outputs": [
    {
     "data": {
      "text/plain": [
       "AciWebservice(workspace=Workspace.create(name='quick-starts-ws-137363', subscription_id='aa7cf8e8-d23f-4bce-a7b9-1f0b4e0ac8ee', resource_group='aml-quickstarts-137363'), name=deployed-best-model, image_id=None, compute_type=None, state=ACI, scoring_uri=Healthy, tags=http://7cbe51b8-7a22-4143-994a-5a1a2a68ce63.southcentralus.azurecontainer.io/score, properties=None, created_by={})"
      ]
     },
     "execution_count": 41,
     "metadata": {},
     "output_type": "execute_result"
    }
   ],
   "source": [
    "service"
   ]
  },
  {
   "cell_type": "code",
   "execution_count": 42,
   "metadata": {},
   "outputs": [
    {
     "name": "stdout",
     "output_type": "stream",
     "text": [
      "Tips: You can try get_logs(): https://aka.ms/debugimage#dockerlog or local deployment: https://aka.ms/debugimage#debug-locally to debug if deployment takes longer than 10 minutes.\n",
      "Running....\n",
      "Succeeded\n",
      "ACI service creation operation finished, operation \"Succeeded\"\n"
     ]
    }
   ],
   "source": [
    "service.wait_for_deployment(show_output = True)"
   ]
  },
  {
   "cell_type": "code",
   "execution_count": 43,
   "metadata": {},
   "outputs": [
    {
     "name": "stdout",
     "output_type": "stream",
     "text": [
      "Service state: Healthy\n",
      "Scoring URI : http://7cbe51b8-7a22-4143-994a-5a1a2a68ce63.southcentralus.azurecontainer.io/score\n",
      "Swagger URI: http://7cbe51b8-7a22-4143-994a-5a1a2a68ce63.southcentralus.azurecontainer.io/swagger.json\n"
     ]
    }
   ],
   "source": [
    "print(f\"Service state: {service.state}\")\n",
    "print(f\"Scoring URI : {service.scoring_uri}\")\n",
    "print(f\"Swagger URI: {service.swagger_uri}\")"
   ]
  },
  {
   "cell_type": "code",
   "execution_count": 44,
   "metadata": {},
   "outputs": [
    {
     "data": {
      "text/plain": [
       "'dhUJHew1KNYgHUIfqnUcCDem1fDhpJv2'"
      ]
     },
     "execution_count": 44,
     "metadata": {},
     "output_type": "execute_result"
    }
   ],
   "source": [
    "service.get_keys()[0]"
   ]
  },
  {
   "cell_type": "code",
   "execution_count": 38,
   "metadata": {},
   "outputs": [
    {
     "name": "stdout",
     "output_type": "stream",
     "text": [
      "2021-02-05T20:47:42,682353549+00:00 - iot-server/run \r\n",
      "2021-02-05T20:47:42,683705314+00:00 - nginx/run \r\n",
      "2021-02-05T20:47:42,682783470+00:00 - gunicorn/run \r\n",
      "/usr/sbin/nginx: /azureml-envs/azureml_20a8278aa8b20dd48cc50f56a6d2586c/lib/libcrypto.so.1.0.0: no version information available (required by /usr/sbin/nginx)\r\n",
      "/usr/sbin/nginx: /azureml-envs/azureml_20a8278aa8b20dd48cc50f56a6d2586c/lib/libcrypto.so.1.0.0: no version information available (required by /usr/sbin/nginx)\r\n",
      "/usr/sbin/nginx: /azureml-envs/azureml_20a8278aa8b20dd48cc50f56a6d2586c/lib/libssl.so.1.0.0: no version information available (required by /usr/sbin/nginx)\r\n",
      "/usr/sbin/nginx: /azureml-envs/azureml_20a8278aa8b20dd48cc50f56a6d2586c/lib/libssl.so.1.0.0: no version information available (required by /usr/sbin/nginx)\r\n",
      "/usr/sbin/nginx: /azureml-envs/azureml_20a8278aa8b20dd48cc50f56a6d2586c/lib/libssl.so.1.0.0: no version information available (required by /usr/sbin/nginx)\r\n",
      "2021-02-05T20:47:42,686571552+00:00 - rsyslog/run \r\n",
      "rsyslogd: /azureml-envs/azureml_20a8278aa8b20dd48cc50f56a6d2586c/lib/libuuid.so.1: no version information available (required by rsyslogd)\r\n",
      "EdgeHubConnectionString and IOTEDGE_IOTHUBHOSTNAME are not set. Exiting...\r\n",
      "2021-02-05T20:47:42,826530488+00:00 - iot-server/finish 1 0\r\n",
      "2021-02-05T20:47:42,828169167+00:00 - Exit code 1 is normal. Not restarting iot-server.\r\n",
      "Starting gunicorn 19.9.0\r\n",
      "Listening at: http://127.0.0.1:31311 (12)\r\n",
      "Using worker: sync\r\n",
      "worker timeout is set to 300\r\n",
      "Booting worker with pid: 42\r\n",
      "SPARK_HOME not set. Skipping PySpark Initialization.\r\n",
      "Generating new fontManager, this may take some time...\r\n",
      "Initializing logger\r\n",
      "2021-02-05 20:47:44,207 | root | INFO | Starting up app insights client\r\n",
      "2021-02-05 20:47:44,207 | root | INFO | Starting up request id generator\r\n",
      "2021-02-05 20:47:44,207 | root | INFO | Starting up app insight hooks\r\n",
      "2021-02-05 20:47:44,207 | root | INFO | Invoking user's init function\r\n",
      "2021-02-05 20:47:46,822 | root | INFO | Users's init has completed successfully\r\n",
      "2021-02-05 20:47:46,827 | root | INFO | Skipping middleware: dbg_model_info as it's not enabled.\r\n",
      "2021-02-05 20:47:46,828 | root | INFO | Skipping middleware: dbg_resource_usage as it's not enabled.\r\n",
      "2021-02-05 20:47:46,830 | root | INFO | Scoring timeout is found from os.environ: 60000 ms\r\n",
      "2021-02-05 20:47:52,886 | root | INFO | 200\r\n",
      "127.0.0.1 - - [05/Feb/2021:20:47:52 +0000] \"GET /swagger.json HTTP/1.0\" 200 4359 \"-\" \"Go-http-client/1.1\"\r\n",
      "2021-02-05 20:47:53,733 | root | INFO | 200\r\n",
      "127.0.0.1 - - [05/Feb/2021:20:47:53 +0000] \"GET /swagger.json HTTP/1.0\" 200 4359 \"-\" \"Go-http-client/1.1\"\r\n",
      "2021-02-05 20:48:06,640 | root | INFO | 200\r\n",
      "127.0.0.1 - - [05/Feb/2021:20:48:06 +0000] \"GET /swagger.json HTTP/1.0\" 200 4359 \"-\" \"Go-http-client/1.1\"\r\n",
      "2021-02-05 20:48:08,102 | root | INFO | 200\r\n",
      "127.0.0.1 - - [05/Feb/2021:20:48:08 +0000] \"GET /swagger.json HTTP/1.0\" 200 4359 \"-\" \"Go-http-client/1.1\"\r\n",
      "2021-02-05 20:48:58,370 | root | INFO | 200\r\n",
      "127.0.0.1 - - [05/Feb/2021:20:48:58 +0000] \"GET /swagger.json HTTP/1.0\" 200 4359 \"-\" \"Go-http-client/1.1\"\r\n",
      "2021-02-05 20:48:59,527 | root | INFO | 200\r\n",
      "127.0.0.1 - - [05/Feb/2021:20:48:59 +0000] \"GET /swagger.json HTTP/1.0\" 200 4359 \"-\" \"Go-http-client/1.1\"\r\n",
      "\r\n"
     ]
    }
   ],
   "source": [
    "### Enabling logging\n",
    "!python3 logs.py"
   ]
  },
  {
   "cell_type": "code",
   "execution_count": 50,
   "metadata": {
    "jupyter": {
     "outputs_hidden": false,
     "source_hidden": false
    },
    "nteract": {
     "transient": {
      "deleting": false
     }
    }
   },
   "outputs": [
    {
     "name": "stdout",
     "output_type": "stream",
     "text": [
      "{\"data\": [{\"firstPaymentDefault\": 1, \"firstPaymentRatio\": 0.9487179487179488, \"max_amount_taken\": 0, \"max_tenor_taken\": 1, \"loanAmount\": 15000, \"interestRate\": 15.0, \"clientIncome\": 35000.0, \"clientAge\": 30, \"clientNumberPhoneCOntacts\": 685.0, \"clientAvgCallsPerDay\": 45.0, \"loanNumber\": 2, \"clientGender_MALE\": 1, \"clientMaritalStatus_Married\": 0, \"clientMaritalStatus_Separated\": 0, \"clientMaritalStatus_Single\": 1, \"clientMaritalStatus_Widowed\": 0, \"clientLoanPurpose_education\": 0, \"clientLoanPurpose_house\": 1, \"clientLoanPurpose_medical\": 0, \"clientLoanPurpose_other\": 0, \"clientResidentialStauts_Family Owned\": 0, \"clientResidentialStauts_Own Residence\": 0, \"clientResidentialStauts_Rented\": 1, \"clientResidentialStauts_Temp. Residence\": 0, \"incomeVerified_True\": 0}, {\"firstPaymentDefault\": 0, \"firstPaymentRatio\": 0.0, \"max_amount_taken\": 1, \"max_tenor_taken\": 1, \"loanAmount\": 37500, \"interestRate\": 12.5, \"clientIncome\": 210000.0, \"clientAge\": 35, \"clientNumberPhoneCOntacts\": 2743.0, \"clientAvgCallsPerDay\": 66.42592592592592, \"loanNumber\": 3, \"clientGender_MALE\": 1, \"clientMaritalStatus_Married\": 0, \"clientMaritalStatus_Separated\": 0, \"clientMaritalStatus_Single\": 1, \"clientMaritalStatus_Widowed\": 0, \"clientLoanPurpose_education\": 0, \"clientLoanPurpose_house\": 0, \"clientLoanPurpose_medical\": 0, \"clientLoanPurpose_other\": 0, \"clientResidentialStauts_Family Owned\": 0, \"clientResidentialStauts_Own Residence\": 0, \"clientResidentialStauts_Rented\": 1, \"clientResidentialStauts_Temp. Residence\": 0, \"incomeVerified_True\": 0}, {\"firstPaymentDefault\": 0, \"firstPaymentRatio\": 0.0, \"max_amount_taken\": 1, \"max_tenor_taken\": 1, \"loanAmount\": 25000, \"interestRate\": 14.0, \"clientIncome\": 16000.0, \"clientAge\": 28, \"clientNumberPhoneCOntacts\": 2455.0, \"clientAvgCallsPerDay\": 8.253521126760564, \"loanNumber\": 5, \"clientGender_MALE\": 0, \"clientMaritalStatus_Married\": 0, \"clientMaritalStatus_Separated\": 0, \"clientMaritalStatus_Single\": 1, \"clientMaritalStatus_Widowed\": 0, \"clientLoanPurpose_education\": 0, \"clientLoanPurpose_house\": 0, \"clientLoanPurpose_medical\": 0, \"clientLoanPurpose_other\": 0, \"clientResidentialStauts_Family Owned\": 0, \"clientResidentialStauts_Own Residence\": 0, \"clientResidentialStauts_Rented\": 1, \"clientResidentialStauts_Temp. Residence\": 0, \"incomeVerified_True\": 0}, {\"firstPaymentDefault\": 0, \"firstPaymentRatio\": 0.0, \"max_amount_taken\": 1, \"max_tenor_taken\": 1, \"loanAmount\": 92500, \"interestRate\": 7.5, \"clientIncome\": 78046.0, \"clientAge\": 29, \"clientNumberPhoneCOntacts\": 1160.0, \"clientAvgCallsPerDay\": 6.7714285714285705, \"loanNumber\": 4, \"clientGender_MALE\": 1, \"clientMaritalStatus_Married\": 1, \"clientMaritalStatus_Separated\": 0, \"clientMaritalStatus_Single\": 0, \"clientMaritalStatus_Widowed\": 0, \"clientLoanPurpose_education\": 0, \"clientLoanPurpose_house\": 0, \"clientLoanPurpose_medical\": 0, \"clientLoanPurpose_other\": 1, \"clientResidentialStauts_Family Owned\": 0, \"clientResidentialStauts_Own Residence\": 0, \"clientResidentialStauts_Rented\": 1, \"clientResidentialStauts_Temp. Residence\": 0, \"incomeVerified_True\": 0}]}\n"
     ]
    }
   ],
   "source": [
    "# select sample data\n",
    "x_samp = train_data.sample(4) # data is the pandas dataframe of the original data\n",
    "y_samp = x_samp.pop('loanDefault')\n",
    "\n",
    "# convert data samples to json format\n",
    "sample = json.dumps({'data': x_samp.to_dict(orient='records')})\n",
    "\n",
    "print(sample)"
   ]
  },
  {
   "cell_type": "code",
   "execution_count": null,
   "metadata": {},
   "outputs": [],
   "source": [
    "# Used for http post request\n",
    "\n",
    "# Set the content type\n",
    "headers = {'Content-type': 'application/json'}\n",
    "\n",
    "response = requests.post(service.scoring_uri, sample, headers=headers)"
   ]
  },
  {
   "cell_type": "markdown",
   "metadata": {
    "collapsed": true,
    "gather": {
     "logged": 1598432765711
    },
    "jupyter": {
     "outputs_hidden": false,
     "source_hidden": false
    },
    "nteract": {
     "transient": {
      "deleting": false
     }
    }
   },
   "source": [
    "TODO: In the cell below, print the logs of the web service and delete the service"
   ]
  },
  {
   "cell_type": "code",
   "execution_count": null,
   "metadata": {},
   "outputs": [],
   "source": [
    "print(response.text)"
   ]
  },
  {
   "cell_type": "code",
   "execution_count": null,
   "metadata": {},
   "outputs": [],
   "source": [
    "# Print results from the inference\n",
    "print(response.text)\n",
    "print(response.status_code)\n",
    "print(response.elapsed)\n",
    "print(response.json())"
   ]
  },
  {
   "cell_type": "code",
   "execution_count": null,
   "metadata": {},
   "outputs": [],
   "source": [
    "# Print original labels\n",
    "print(y_samp)"
   ]
  },
  {
   "cell_type": "code",
   "execution_count": null,
   "metadata": {},
   "outputs": [],
   "source": [
    "print(service.get_logs())"
   ]
  },
  {
   "cell_type": "code",
   "execution_count": null,
   "metadata": {},
   "outputs": [],
   "source": [
    "service.delete()"
   ]
  }
 ],
 "metadata": {
  "kernel_info": {
   "name": "python3-azureml"
  },
  "kernelspec": {
   "display_name": "Python 3",
   "language": "python",
   "name": "python3"
  },
  "language_info": {
   "codemirror_mode": {
    "name": "ipython",
    "version": 3
   },
   "file_extension": ".py",
   "mimetype": "text/x-python",
   "name": "python",
   "nbconvert_exporter": "python",
   "pygments_lexer": "ipython3",
   "version": "3.6.9"
  },
  "nteract": {
   "version": "nteract-front-end@1.0.0"
  }
 },
 "nbformat": 4,
 "nbformat_minor": 2
}
